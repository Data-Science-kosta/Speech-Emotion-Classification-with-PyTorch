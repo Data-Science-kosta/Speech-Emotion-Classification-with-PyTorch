{
 "cells": [
  {
   "cell_type": "markdown",
   "metadata": {},
   "source": [
    "# LOAD DATA "
   ]
  },
  {
   "cell_type": "code",
   "execution_count": 1,
   "metadata": {
    "_cell_guid": "b1076dfc-b9ad-4769-8c92-a6c4dae69d19",
    "_uuid": "8f2839f25d086af736a60e9eeb907d3b93b6e0e5"
   },
   "outputs": [],
   "source": [
    "# This Python 3 environment comes with many helpful analytics libraries installed\n",
    "# It is defined by the kaggle/python Docker image: https://github.com/kaggle/docker-python\n",
    "# For example, here's several helpful packages to load\n",
    "\n",
    "import numpy as np\n",
    "import pandas as pd\n",
    "import os\n",
    "import librosa\n",
    "import librosa.display\n",
    "import IPython\n",
    "from IPython.display import Audio\n",
    "from IPython.display import Image\n",
    "import matplotlib.pyplot as plt\n",
    "\n",
    "EMOTIONS = {1:'neutral', 2:'calm', 3:'happy', 4:'sad', 5:'angry', 6:'fear', 7:'disgust', 0:'surprise'} # surprise je promenjen sa 8 na 0\n",
    "DATA_PATH = '../input/ravdess-emotional-speech-audio/audio_speech_actors_01-24/'\n",
    "SAMPLE_RATE = 48000\n",
    "\n",
    "data = pd.DataFrame(columns=['Emotion', 'Emotion intensity', 'Gender','Path'])\n",
    "for dirname, _, filenames in os.walk(DATA_PATH):\n",
    "    for filename in filenames:\n",
    "        file_path = os.path.join('/kaggle/input/',dirname, filename)\n",
    "        identifiers = filename.split('.')[0].split('-')\n",
    "        emotion = (int(identifiers[2]))\n",
    "        if emotion == 8: # promeni surprise sa 8 na 0\n",
    "            emotion = 0\n",
    "        if int(identifiers[3]) == 1:\n",
    "            emotion_intensity = 'normal' \n",
    "        else:\n",
    "            emotion_intensity = 'strong'\n",
    "        if int(identifiers[6])%2 == 0:\n",
    "            gender = 'female'\n",
    "        else:\n",
    "            gender = 'male'\n",
    "        \n",
    "        data = data.append({\"Emotion\": emotion,\n",
    "                            \"Emotion intensity\": emotion_intensity,\n",
    "                            \"Gender\": gender,\n",
    "                            \"Path\": file_path\n",
    "                             },\n",
    "                             ignore_index = True\n",
    "                          )\n",
    "# You can write up to 5GB to the current directory (/kaggle/working/) that gets preserved as output when you create a version using \"Save & Run All\" \n",
    "# You can also write temporary files to /kaggle/temp/, but they won't be saved outside of the current session"
   ]
  },
  {
   "cell_type": "code",
   "execution_count": 2,
   "metadata": {
    "_cell_guid": "79c7e3d0-c299-4dcb-8224-4455121ee9b0",
    "_uuid": "d629ff2d2480ee46fbb7e2d37f6b5fab8052498a"
   },
   "outputs": [
    {
     "name": "stdout",
     "output_type": "stream",
     "text": [
      "number of files is 1440\n"
     ]
    },
    {
     "data": {
      "text/html": [
       "<div>\n",
       "<style scoped>\n",
       "    .dataframe tbody tr th:only-of-type {\n",
       "        vertical-align: middle;\n",
       "    }\n",
       "\n",
       "    .dataframe tbody tr th {\n",
       "        vertical-align: top;\n",
       "    }\n",
       "\n",
       "    .dataframe thead th {\n",
       "        text-align: right;\n",
       "    }\n",
       "</style>\n",
       "<table border=\"1\" class=\"dataframe\">\n",
       "  <thead>\n",
       "    <tr style=\"text-align: right;\">\n",
       "      <th></th>\n",
       "      <th>Emotion</th>\n",
       "      <th>Emotion intensity</th>\n",
       "      <th>Gender</th>\n",
       "      <th>Path</th>\n",
       "    </tr>\n",
       "  </thead>\n",
       "  <tbody>\n",
       "    <tr>\n",
       "      <th>0</th>\n",
       "      <td>0</td>\n",
       "      <td>strong</td>\n",
       "      <td>male</td>\n",
       "      <td>/kaggle/input/../input/ravdess-emotional-speec...</td>\n",
       "    </tr>\n",
       "    <tr>\n",
       "      <th>1</th>\n",
       "      <td>5</td>\n",
       "      <td>strong</td>\n",
       "      <td>male</td>\n",
       "      <td>/kaggle/input/../input/ravdess-emotional-speec...</td>\n",
       "    </tr>\n",
       "    <tr>\n",
       "      <th>2</th>\n",
       "      <td>2</td>\n",
       "      <td>strong</td>\n",
       "      <td>male</td>\n",
       "      <td>/kaggle/input/../input/ravdess-emotional-speec...</td>\n",
       "    </tr>\n",
       "    <tr>\n",
       "      <th>3</th>\n",
       "      <td>7</td>\n",
       "      <td>strong</td>\n",
       "      <td>male</td>\n",
       "      <td>/kaggle/input/../input/ravdess-emotional-speec...</td>\n",
       "    </tr>\n",
       "    <tr>\n",
       "      <th>4</th>\n",
       "      <td>4</td>\n",
       "      <td>strong</td>\n",
       "      <td>male</td>\n",
       "      <td>/kaggle/input/../input/ravdess-emotional-speec...</td>\n",
       "    </tr>\n",
       "  </tbody>\n",
       "</table>\n",
       "</div>"
      ],
      "text/plain": [
       "  Emotion Emotion intensity Gender  \\\n",
       "0       0            strong   male   \n",
       "1       5            strong   male   \n",
       "2       2            strong   male   \n",
       "3       7            strong   male   \n",
       "4       4            strong   male   \n",
       "\n",
       "                                                Path  \n",
       "0  /kaggle/input/../input/ravdess-emotional-speec...  \n",
       "1  /kaggle/input/../input/ravdess-emotional-speec...  \n",
       "2  /kaggle/input/../input/ravdess-emotional-speec...  \n",
       "3  /kaggle/input/../input/ravdess-emotional-speec...  \n",
       "4  /kaggle/input/../input/ravdess-emotional-speec...  "
      ]
     },
     "execution_count": 2,
     "metadata": {},
     "output_type": "execute_result"
    }
   ],
   "source": [
    "print(\"number of files is {}\".format(len(data)))\n",
    "data.head()"
   ]
  },
  {
   "cell_type": "markdown",
   "metadata": {},
   "source": [
    "number of examples per Emotion"
   ]
  },
  {
   "cell_type": "code",
   "execution_count": 3,
   "metadata": {},
   "outputs": [
    {
     "data": {
      "text/plain": [
       "Text(0, 0.5, 'Number of examples')"
      ]
     },
     "execution_count": 3,
     "metadata": {},
     "output_type": "execute_result"
    },
    {
     "data": {
      "image/png": "[encoded data removed]",
      "text/plain": [
       "<Figure size 432x288 with 1 Axes>"
      ]
     },
     "metadata": {
      "needs_background": "light"
     },
     "output_type": "display_data"
    }
   ],
   "source": [
    "fig = plt.figure()\n",
    "ax = fig.add_subplot(111)\n",
    "ax.bar(x=range(8), height=data['Emotion'].value_counts())\n",
    "ax.set_xticks(ticks=range(8))\n",
    "ax.set_xticklabels([EMOTIONS[i] for i in range(8)],fontsize=10)\n",
    "ax.set_xlabel('Emotion')\n",
    "ax.set_ylabel('Number of examples')"
   ]
  },
  {
   "cell_type": "markdown",
   "metadata": {},
   "source": [
    "number of examples per gender"
   ]
  },
  {
   "cell_type": "code",
   "execution_count": 4,
   "metadata": {},
   "outputs": [
    {
     "data": {
      "text/plain": [
       "Text(0, 0.5, 'Number of examples')"
      ]
     },
     "execution_count": 4,
     "metadata": {},
     "output_type": "execute_result"
    },
    {
     "data": {
      "image/png": "[encoded data removed]",
      "text/plain": [
       "<Figure size 432x288 with 1 Axes>"
      ]
     },
     "metadata": {
      "needs_background": "light"
     },
     "output_type": "display_data"
    }
   ],
   "source": [
    "fig = plt.figure()\n",
    "ax = fig.add_subplot(111)\n",
    "counts = data['Gender'].value_counts()\n",
    "ax.bar(x=[0,1], height=counts.values)\n",
    "ax.set_xticks(ticks=[0,1])\n",
    "ax.set_xticklabels(list(counts.index))\n",
    "ax.set_xlabel('Gender')\n",
    "ax.set_ylabel('Number of examples')"
   ]
  },
  {
   "cell_type": "markdown",
   "metadata": {},
   "source": [
    "number of examples per emotion intensity"
   ]
  },
  {
   "cell_type": "code",
   "execution_count": 5,
   "metadata": {},
   "outputs": [
    {
     "data": {
      "text/plain": [
       "Text(0, 0.5, 'Number of examples')"
      ]
     },
     "execution_count": 5,
     "metadata": {},
     "output_type": "execute_result"
    },
    {
     "data": {
      "image/png": "[encoded data removed]",
      "text/plain": [
       "<Figure size 432x288 with 1 Axes>"
      ]
     },
     "metadata": {
      "needs_background": "light"
     },
     "output_type": "display_data"
    }
   ],
   "source": [
    "fig = plt.figure()\n",
    "ax = fig.add_subplot(111)\n",
    "counts = data['Emotion intensity'].value_counts()\n",
    "ax.bar(x=[0,1], height=counts.values)\n",
    "ax.set_xticks(ticks=[0,1])\n",
    "ax.set_xticklabels(list(counts.index))\n",
    "ax.set_xlabel('Gender')\n",
    "ax.set_ylabel('Number of examples')"
   ]
  },
  {
   "cell_type": "markdown",
   "metadata": {},
   "source": [
    "# CALCULATE MEL SPECTROGRAM"
   ]
  },
  {
   "cell_type": "code",
   "execution_count": 6,
   "metadata": {},
   "outputs": [
    {
     "name": "stdout",
     "output_type": "stream",
     "text": [
      "MEL spectrogram shape:  (128, 563)\n"
     ]
    },
    {
     "data": {
      "image/png": "[encoded data removed]",
      "text/plain": [
       "<Figure size 432x288 with 1 Axes>"
      ]
     },
     "metadata": {
      "needs_background": "light"
     },
     "output_type": "display_data"
    }
   ],
   "source": [
    "def getMELspectrogram(audio, sample_rate):\n",
    "    mel_spec = librosa.feature.melspectrogram(y=audio,\n",
    "                                              sr=sample_rate,\n",
    "                                              n_fft=1024,\n",
    "                                              win_length = 512,\n",
    "                                              window='hamming',\n",
    "                                              hop_length = 256,\n",
    "                                              n_mels=128,\n",
    "                                              fmax=sample_rate/2\n",
    "                                             )\n",
    "    mel_spec_db = librosa.power_to_db(mel_spec, ref=np.max)\n",
    "    return mel_spec_db\n",
    "\n",
    "# test function\n",
    "audio, sample_rate = librosa.load(data.loc[0,'Path'], duration=3, offset=0.5,sr=SAMPLE_RATE)\n",
    "signal = np.zeros((int(SAMPLE_RATE*3,)))\n",
    "signal[:len(audio)] = audio\n",
    "mel_spectrogram = getMELspectrogram(signal, SAMPLE_RATE)\n",
    "librosa.display.specshow(mel_spectrogram, y_axis='mel', x_axis='time')\n",
    "print('MEL spectrogram shape: ',mel_spectrogram.shape)"
   ]
  },
  {
   "cell_type": "markdown",
   "metadata": {},
   "source": [
    "calculate mel spectrograms for all audio files (this can take few minutes to execute)"
   ]
  },
  {
   "cell_type": "code",
   "execution_count": 7,
   "metadata": {},
   "outputs": [
    {
     "name": "stdout",
     "output_type": "stream",
     "text": [
      " Processed 1439/1440 files"
     ]
    }
   ],
   "source": [
    "mel_spectrograms = []\n",
    "signals = []\n",
    "for i, file_path in enumerate(data.Path):\n",
    "    audio, sample_rate = librosa.load(file_path, duration=3, offset=0.5, sr=SAMPLE_RATE)\n",
    "    signal = np.zeros((int(SAMPLE_RATE*3,)))\n",
    "    signal[:len(audio)] = audio\n",
    "    signals.append(signal)\n",
    "    mel_spectrogram = getMELspectrogram(signal, sample_rate=SAMPLE_RATE)\n",
    "    mel_spectrograms.append(mel_spectrogram)\n",
    "    print(\"\\r Processed {}/{} files\".format(i,len(data)),end='')"
   ]
  },
  {
   "cell_type": "markdown",
   "metadata": {},
   "source": [
    "augment signals (by adding AWGN) and calculate mel spectrograms"
   ]
  },
  {
   "cell_type": "code",
   "execution_count": 8,
   "metadata": {},
   "outputs": [],
   "source": [
    "def addAWGN(signal, num_bits=16, augmented_num=2, snr_low=15, snr_high=30): \n",
    "    signal_len = len(signal)\n",
    "    # Generate White Gaussian noise\n",
    "    noise = np.random.normal(size=(augmented_num, signal_len))\n",
    "    # Normalize signal and noise\n",
    "    norm_constant = 2.0**(num_bits-1)\n",
    "    signal_norm = signal / norm_constant\n",
    "    noise_norm = noise / norm_constant\n",
    "    # Compute signal and noise power\n",
    "    s_power = np.sum(signal_norm ** 2) / signal_len\n",
    "    n_power = np.sum(noise_norm ** 2, axis=1) / signal_len\n",
    "    # Random SNR: Uniform [15, 30] in dB\n",
    "    target_snr = np.random.randint(snr_low, snr_high)\n",
    "    # Compute K (covariance matrix) for each noise \n",
    "    K = np.sqrt((s_power / n_power) * 10 ** (- target_snr / 10))\n",
    "    K = np.ones((signal_len, augmented_num)) * K  \n",
    "    # Generate noisy signal\n",
    "    return signal + K.T * noise"
   ]
  },
  {
   "cell_type": "code",
   "execution_count": 10,
   "metadata": {},
   "outputs": [
    {
     "name": "stdout",
     "output_type": "stream",
     "text": [
      " Processed 1439/1440 files"
     ]
    }
   ],
   "source": [
    "for i,signal in enumerate(signals):\n",
    "    augmented_signals = addAWGN(signal)\n",
    "    for j in range(augmented_signals.shape[0]):\n",
    "        mel_spectrogram = getMELspectrogram(augmented_signals[j,:], sample_rate=SAMPLE_RATE)\n",
    "        mel_spectrograms.append(mel_spectrogram)\n",
    "        data = data.append(data.iloc[i], ignore_index=True)\n",
    "    print(\"\\r Processed {}/{} files\".format(i,len(signals)),end='')"
   ]
  },
  {
   "cell_type": "markdown",
   "metadata": {},
   "source": [
    "# SPLIT SPECTROGRAM INTO CHUNKS"
   ]
  },
  {
   "cell_type": "code",
   "execution_count": 11,
   "metadata": {},
   "outputs": [],
   "source": [
    "def splitIntoChunks(mel_spec,win_size,stride):\n",
    "    t = mel_spec.shape[1]\n",
    "    num_of_chunks = int(t/stride)\n",
    "    chunks = []\n",
    "    for i in range(num_of_chunks):\n",
    "        chunk = mel_spec[:,i*stride:i*stride+win_size]\n",
    "        if chunk.shape[1] == win_size:\n",
    "            chunks.append(chunk)\n",
    "    return np.stack(chunks,axis=0)"
   ]
  },
  {
   "cell_type": "code",
   "execution_count": 12,
   "metadata": {},
   "outputs": [
    {
     "name": "stdout",
     "output_type": "stream",
     "text": [
      "Number of chunks is 7\n"
     ]
    }
   ],
   "source": [
    "# get chunks\n",
    "mel_spectrograms_chunked = []\n",
    "for mel_spec in mel_spectrograms:\n",
    "    chunks = splitIntoChunks(mel_spec, win_size=128,stride=64)\n",
    "    mel_spectrograms_chunked.append(chunks)\n",
    "print(\"Number of chunks is {}\".format(chunks.shape[0]))"
   ]
  },
  {
   "cell_type": "markdown",
   "metadata": {},
   "source": [
    "# CREATE MODEL"
   ]
  },
  {
   "cell_type": "code",
   "execution_count": 13,
   "metadata": {},
   "outputs": [],
   "source": [
    "import torch\n",
    "import torch.nn as nn\n",
    "# BATCH FIRST TimeDistributed layer\n",
    "class TimeDistributed(nn.Module):\n",
    "    def __init__(self, module):\n",
    "        super(TimeDistributed, self).__init__()\n",
    "        self.module = module\n",
    "\n",
    "    def forward(self, x):\n",
    "\n",
    "        if x.ndim <= 2:\n",
    "            return self.module(x)\n",
    "        # squash samples and timesteps into a single axis\n",
    "        elif x.ndim == 3: # (samples, timesteps, inp1)\n",
    "            x_reshape = x.contiguous().view(-1, x.size(2))  # (samples * timesteps, inp1)\n",
    "        elif x.ndim == 4: # (samples,timesteps,inp1,inp2)\n",
    "            x_reshape = x.contiguous().view(-1, x.size(2), x.size(3)) # (samples*timesteps,inp1,inp2)\n",
    "        else: # (samples,timesteps,inp1,inp2,inp3)\n",
    "            x_reshape = x.contiguous().view(-1, x.size(2), x.size(3),x.size(4)) # (samples*timesteps,inp1,inp2,inp3)\n",
    "            \n",
    "        y = self.module(x_reshape)\n",
    "        \n",
    "        # we have to reshape Y\n",
    "        if x.ndim == 3:\n",
    "            y = y.contiguous().view(x.size(0), -1, y.size(1))  # (samples, timesteps, out1)\n",
    "        elif x.ndim == 4:\n",
    "            y = y.contiguous().view(x.size(0), -1, y.size(1), y.size(2)) # (samples, timesteps, out1,out2)\n",
    "        else:\n",
    "            y = y.contiguous().view(x.size(0), -1, y.size(1), y.size(2),y.size(3)) # (samples, timesteps, out1,out2, out3)\n",
    "        return y"
   ]
  },
  {
   "cell_type": "code",
   "execution_count": 14,
   "metadata": {},
   "outputs": [],
   "source": [
    "class HybridModel(nn.Module):\n",
    "    def __init__(self,num_emotions):\n",
    "        super().__init__()\n",
    "        # conv block\n",
    "        self.conv2Dblock = nn.Sequential(\n",
    "            # 1. conv block\n",
    "            TimeDistributed(nn.Conv2d(in_channels=1,\n",
    "                                   out_channels=16,\n",
    "                                   kernel_size=3,\n",
    "                                   stride=1,\n",
    "                                   padding=1\n",
    "                                  )),\n",
    "            TimeDistributed(nn.BatchNorm2d(16)),\n",
    "            TimeDistributed(nn.ReLU()),\n",
    "            TimeDistributed(nn.MaxPool2d(kernel_size=2, stride=2)),\n",
    "            TimeDistributed(nn.Dropout(p=0.4)),\n",
    "            # 2. conv block\n",
    "            TimeDistributed(nn.Conv2d(in_channels=16,\n",
    "                                   out_channels=32,\n",
    "                                   kernel_size=3,\n",
    "                                   stride=1,\n",
    "                                   padding=1\n",
    "                                  )),\n",
    "            TimeDistributed(nn.BatchNorm2d(32)),\n",
    "            TimeDistributed(nn.ReLU()),\n",
    "            TimeDistributed(nn.MaxPool2d(kernel_size=4, stride=4)),\n",
    "            TimeDistributed(nn.Dropout(p=0.4)),\n",
    "            # 3. conv block\n",
    "            TimeDistributed(nn.Conv2d(in_channels=32,\n",
    "                                   out_channels=64,\n",
    "                                   kernel_size=3,\n",
    "                                   stride=1,\n",
    "                                   padding=1\n",
    "                                  )),\n",
    "            TimeDistributed(nn.BatchNorm2d(64)),\n",
    "            TimeDistributed(nn.ReLU()),\n",
    "            TimeDistributed(nn.MaxPool2d(kernel_size=4, stride=4)),\n",
    "            TimeDistributed(nn.Dropout(p=0.4)),\n",
    "            # 4. conv block\n",
    "            TimeDistributed(nn.Conv2d(in_channels=64,\n",
    "                                   out_channels=128,\n",
    "                                   kernel_size=3,\n",
    "                                   stride=1,\n",
    "                                   padding=1\n",
    "                                  )),\n",
    "            TimeDistributed(nn.BatchNorm2d(128)),\n",
    "            TimeDistributed(nn.ReLU()),\n",
    "            TimeDistributed(nn.MaxPool2d(kernel_size=4, stride=4)),\n",
    "            TimeDistributed(nn.Dropout(p=0.4))\n",
    "        )\n",
    "        # LSTM block\n",
    "        hidden_size = 64\n",
    "        self.lstm = nn.LSTM(input_size=128,hidden_size=hidden_size,bidirectional=False, batch_first=True) \n",
    "        self.dropout_lstm = nn.Dropout(p=0.3)\n",
    "        # Linear softmax layer\n",
    "        self.out_linear = nn.Linear(hidden_size,num_emotions)\n",
    "    def forward(self,x):\n",
    "        conv_embedding = self.conv2Dblock(x)\n",
    "        conv_embedding = torch.flatten(conv_embedding, start_dim=2) # do not flatten batch dimension and time\n",
    "        lstm_embedding, (h,c) = self.lstm(conv_embedding)\n",
    "        lstm_embedding = self.dropout_lstm(lstm_embedding)\n",
    "        # lstm_embedding (batch, time, hidden_size)\n",
    "        lstm_output = lstm_embedding[:,-1,:] \n",
    "        output_logits = self.out_linear(lstm_output)\n",
    "        output_softmax = nn.functional.softmax(output_logits,dim=1)\n",
    "        return output_logits, output_softmax\n",
    "                                     "
   ]
  },
  {
   "cell_type": "code",
   "execution_count": 15,
   "metadata": {},
   "outputs": [],
   "source": [
    "def loss_fnc(predictions, targets):\n",
    "    return nn.CrossEntropyLoss()(input=predictions,target=targets)"
   ]
  },
  {
   "cell_type": "markdown",
   "metadata": {},
   "source": [
    "# TRAINING"
   ]
  },
  {
   "cell_type": "code",
   "execution_count": 16,
   "metadata": {},
   "outputs": [],
   "source": [
    "def make_train_step(model, loss_fnc, optimizer):\n",
    "    def train_step(X,Y):\n",
    "        # set model to train mode\n",
    "        model.train()\n",
    "        # forward pass\n",
    "        output_logits, output_softmax = model(X)\n",
    "        predictions = torch.argmax(output_softmax,dim=1)\n",
    "        accuracy = torch.sum(Y==predictions)/float(len(Y))\n",
    "        # compute loss\n",
    "        loss = loss_fnc(output_logits, Y)\n",
    "        # compute gradients\n",
    "        loss.backward()\n",
    "        # update parameters and zero gradients\n",
    "        optimizer.step()\n",
    "        optimizer.zero_grad()\n",
    "        return loss.item(), accuracy*100\n",
    "    return train_step"
   ]
  },
  {
   "cell_type": "code",
   "execution_count": 17,
   "metadata": {},
   "outputs": [],
   "source": [
    "def make_validate_fnc(model,loss_fnc):\n",
    "    def validate(X,Y):\n",
    "        with torch.no_grad():\n",
    "            model.eval()\n",
    "            output_logits, output_softmax = model(X)\n",
    "            predictions = torch.argmax(output_softmax,dim=1)\n",
    "            accuracy = torch.sum(Y==predictions)/float(len(Y))\n",
    "            loss = loss_fnc(output_logits,Y)\n",
    "        return loss.item(), accuracy*100, predictions\n",
    "    return validate"
   ]
  },
  {
   "cell_type": "markdown",
   "metadata": {},
   "source": [
    "stack data"
   ]
  },
  {
   "cell_type": "code",
   "execution_count": 18,
   "metadata": {},
   "outputs": [
    {
     "name": "stdout",
     "output_type": "stream",
     "text": [
      "Shape of data:  (4320, 7, 1, 128, 128)\n"
     ]
    }
   ],
   "source": [
    "X = np.stack(mel_spectrograms_chunked,axis=0)\n",
    "X = np.expand_dims(X,2)\n",
    "print('Shape of data: ',X.shape)\n",
    "\n",
    "del mel_spectrograms\n",
    "del mel_spectrograms_chunked\n",
    "del signals"
   ]
  },
  {
   "cell_type": "markdown",
   "metadata": {},
   "source": [
    "split data: (train,val,test) --> (80%,10%,10%) proportionaly for each emotion (class) "
   ]
  },
  {
   "cell_type": "code",
   "execution_count": 19,
   "metadata": {},
   "outputs": [
    {
     "name": "stdout",
     "output_type": "stream",
     "text": [
      "X_train:(3450, 7, 1, 128, 128), Y_train:(3450,)\n",
      "X_val:(435, 7, 1, 128, 128), Y_val:(435,)\n",
      "X_test:(435, 7, 1, 128, 128), Y_test:(435,)\n",
      "Number of unique indexes is 4320, out of 4320\n"
     ]
    }
   ],
   "source": [
    "train_ind,test_ind,val_ind = [],[],[]\n",
    "X_train,X_val,X_test = [],[],[]\n",
    "Y_train,Y_val,Y_test = [],[],[]\n",
    "for emotion in range(len(EMOTIONS)):\n",
    "    emotion_ind = list(data.loc[data.Emotion==emotion,'Emotion'].index)\n",
    "    emotion_ind = np.random.permutation(emotion_ind)\n",
    "    m = len(emotion_ind)\n",
    "    ind_train = emotion_ind[:int(0.8*m)]\n",
    "    ind_val = emotion_ind[int(0.8*m):int(0.9*m)]\n",
    "    ind_test = emotion_ind[int(0.9*m):]\n",
    "    X_train.append(X[ind_train,:,:,:])\n",
    "    Y_train.append(np.array([emotion]*len(ind_train),dtype=np.int32))\n",
    "    X_val.append(X[ind_val,:,:,:])\n",
    "    Y_val.append(np.array([emotion]*len(ind_val),dtype=np.int32))\n",
    "    X_test.append(X[ind_test,:,:,:])\n",
    "    Y_test.append(np.array([emotion]*len(ind_test),dtype=np.int32))\n",
    "    train_ind.append(ind_train)\n",
    "    test_ind.append(ind_test)\n",
    "    val_ind.append(ind_val)\n",
    "X_train = np.concatenate(X_train,0)\n",
    "X_val = np.concatenate(X_val,0)\n",
    "X_test = np.concatenate(X_test,0)\n",
    "Y_train = np.concatenate(Y_train,0)\n",
    "Y_val = np.concatenate(Y_val,0)\n",
    "Y_test = np.concatenate(Y_test,0)\n",
    "train_ind = np.concatenate(train_ind,0)\n",
    "val_ind = np.concatenate(val_ind,0)\n",
    "test_ind = np.concatenate(test_ind,0)\n",
    "print(f'X_train:{X_train.shape}, Y_train:{Y_train.shape}')\n",
    "print(f'X_val:{X_val.shape}, Y_val:{Y_val.shape}')\n",
    "print(f'X_test:{X_test.shape}, Y_test:{Y_test.shape}')\n",
    "# check if all are unique\n",
    "unique, count = np.unique(np.concatenate([train_ind,test_ind,val_ind],0), return_counts=True)\n",
    "print(\"Number of unique indexes is {}, out of {}\".format(sum(count==1), X.shape[0]))\n",
    "\n",
    "del X"
   ]
  },
  {
   "cell_type": "markdown",
   "metadata": {},
   "source": [
    "scale data"
   ]
  },
  {
   "cell_type": "code",
   "execution_count": 20,
   "metadata": {},
   "outputs": [],
   "source": [
    "from sklearn.preprocessing import StandardScaler\n",
    "scaler = StandardScaler()\n",
    "\n",
    "b,t,c,h,w = X_train.shape\n",
    "X_train = np.reshape(X_train, newshape=(b,-1))\n",
    "X_train = scaler.fit_transform(X_train)\n",
    "X_train = np.reshape(X_train, newshape=(b,t,c,h,w))\n",
    "\n",
    "b,t,c,h,w = X_test.shape\n",
    "X_test = np.reshape(X_test, newshape=(b,-1))\n",
    "X_test = scaler.transform(X_test)\n",
    "X_test = np.reshape(X_test, newshape=(b,t,c,h,w))\n",
    "\n",
    "b,t,c,h,w = X_val.shape\n",
    "X_val = np.reshape(X_val, newshape=(b,-1))\n",
    "X_val = scaler.transform(X_val)\n",
    "X_val = np.reshape(X_val, newshape=(b,t,c,h,w))"
   ]
  },
  {
   "cell_type": "markdown",
   "metadata": {},
   "source": [
    "train the model"
   ]
  },
  {
   "cell_type": "code",
   "execution_count": null,
   "metadata": {},
   "outputs": [
    {
     "name": "stdout",
     "output_type": "stream",
     "text": [
      "Selected device is cuda\n",
      "Number of trainable params:  147816\n",
      " Epoch 0: iteration 106/107\n",
      "Epoch 0 --> loss:2.0631, acc:13.36%, val_loss:2.0783, val_acc:12.18%\n",
      " Epoch 1: iteration 106/107\n",
      "Epoch 1 --> loss:2.0330, acc:16.03%, val_loss:2.0900, val_acc:14.94%\n",
      " Epoch 2: iteration 106/107\n",
      "Epoch 2 --> loss:1.9941, acc:18.32%, val_loss:2.1136, val_acc:13.56%\n",
      " Epoch 3: iteration 106/107\n",
      "Epoch 3 --> loss:1.9660, acc:20.00%, val_loss:2.1414, val_acc:13.56%\n",
      " Epoch 4: iteration 106/107\n",
      "Epoch 4 --> loss:1.9559, acc:19.94%, val_loss:2.1301, val_acc:15.40%\n",
      " Epoch 5: iteration 106/107\n",
      "Epoch 5 --> loss:1.9370, acc:22.26%, val_loss:2.1006, val_acc:16.32%\n",
      " Epoch 6: iteration 106/107\n",
      "Epoch 6 --> loss:1.9052, acc:24.75%, val_loss:2.1053, val_acc:19.54%\n",
      " Epoch 7: iteration 106/107\n",
      "Epoch 7 --> loss:1.8645, acc:26.90%, val_loss:2.0819, val_acc:18.85%\n",
      " Epoch 8: iteration 106/107\n",
      "Epoch 8 --> loss:1.8013, acc:28.93%, val_loss:1.9719, val_acc:24.83%\n",
      " Epoch 9: iteration 106/107\n",
      "Epoch 9 --> loss:1.7638, acc:29.48%, val_loss:1.9392, val_acc:27.59%\n",
      " Epoch 10: iteration 106/107\n",
      "Epoch 10 --> loss:1.7453, acc:32.55%, val_loss:1.9132, val_acc:24.83%\n",
      " Epoch 11: iteration 106/107\n",
      "Epoch 11 --> loss:1.7323, acc:32.96%, val_loss:1.9185, val_acc:26.21%\n",
      " Epoch 12: iteration 106/107\n",
      "Epoch 12 --> loss:1.7122, acc:32.46%, val_loss:1.9160, val_acc:25.29%\n",
      " Epoch 13: iteration 106/107\n",
      "Epoch 13 --> loss:1.6958, acc:33.36%, val_loss:1.8890, val_acc:27.36%\n",
      " Epoch 14: iteration 106/107\n",
      "Epoch 14 --> loss:1.6858, acc:33.30%, val_loss:1.8711, val_acc:27.82%\n",
      " Epoch 15: iteration 106/107\n",
      "Epoch 15 --> loss:1.6680, acc:35.30%, val_loss:1.7988, val_acc:28.97%\n",
      " Epoch 16: iteration 106/107\n",
      "Epoch 16 --> loss:1.6498, acc:34.93%, val_loss:1.8960, val_acc:26.21%\n",
      " Epoch 17: iteration 106/107\n",
      "Epoch 17 --> loss:1.6440, acc:36.41%, val_loss:1.8271, val_acc:31.72%\n",
      " Epoch 18: iteration 106/107\n",
      "Epoch 18 --> loss:1.6507, acc:35.77%, val_loss:1.8483, val_acc:29.43%\n",
      " Epoch 19: iteration 106/107\n",
      "Epoch 19 --> loss:1.6260, acc:35.77%, val_loss:1.8316, val_acc:28.28%\n",
      " Epoch 20: iteration 106/107\n",
      "Epoch 20 --> loss:1.6189, acc:35.71%, val_loss:1.8593, val_acc:28.97%\n",
      " Epoch 21: iteration 106/107\n",
      "Epoch 21 --> loss:1.6139, acc:36.93%, val_loss:1.8623, val_acc:27.82%\n",
      " Epoch 22: iteration 106/107\n",
      "Epoch 22 --> loss:1.6090, acc:36.99%, val_loss:1.9283, val_acc:24.60%\n",
      " Epoch 23: iteration 106/107\n",
      "Epoch 23 --> loss:1.5896, acc:37.54%, val_loss:1.7300, val_acc:31.26%\n",
      " Epoch 24: iteration 106/107\n",
      "Epoch 24 --> loss:1.5851, acc:38.20%, val_loss:1.7583, val_acc:32.87%\n",
      " Epoch 25: iteration 106/107\n",
      "Epoch 25 --> loss:1.5798, acc:39.07%, val_loss:1.7716, val_acc:32.87%\n",
      " Epoch 26: iteration 106/107\n",
      "Epoch 26 --> loss:1.5677, acc:39.19%, val_loss:1.6454, val_acc:36.55%\n",
      " Epoch 27: iteration 106/107\n",
      "Epoch 27 --> loss:1.5351, acc:41.25%, val_loss:1.7963, val_acc:32.18%\n",
      " Epoch 28: iteration 106/107\n",
      "Epoch 28 --> loss:1.5271, acc:40.55%, val_loss:1.6046, val_acc:39.08%\n",
      " Epoch 29: iteration 106/107\n",
      "Epoch 29 --> loss:1.5087, acc:42.14%, val_loss:1.6991, val_acc:35.40%\n",
      " Epoch 30: iteration 106/107\n",
      "Epoch 30 --> loss:1.4882, acc:42.70%, val_loss:1.6659, val_acc:37.47%\n",
      " Epoch 31: iteration 106/107\n",
      "Epoch 31 --> loss:1.4838, acc:41.88%, val_loss:1.7684, val_acc:33.56%\n",
      " Epoch 32: iteration 106/107\n",
      "Epoch 32 --> loss:1.4601, acc:44.38%, val_loss:1.5679, val_acc:40.46%\n",
      " Epoch 33: iteration 106/107\n",
      "Epoch 33 --> loss:1.4407, acc:44.61%, val_loss:1.5441, val_acc:42.07%\n",
      " Epoch 34: iteration 106/107\n",
      "Epoch 34 --> loss:1.4259, acc:44.72%, val_loss:1.5269, val_acc:40.46%\n",
      " Epoch 35: iteration 106/107\n",
      "Epoch 35 --> loss:1.4404, acc:45.10%, val_loss:1.7487, val_acc:34.48%\n",
      " Epoch 36: iteration 106/107\n",
      "Epoch 36 --> loss:1.4040, acc:45.48%, val_loss:1.4061, val_acc:46.44%\n",
      " Epoch 37: iteration 106/107\n",
      "Epoch 37 --> loss:1.4064, acc:45.45%, val_loss:1.5641, val_acc:43.91%\n",
      " Epoch 38: iteration 106/107\n",
      "Epoch 38 --> loss:1.3882, acc:46.52%, val_loss:1.3941, val_acc:45.52%\n",
      " Epoch 39: iteration 106/107\n",
      "Epoch 39 --> loss:1.3729, acc:46.38%, val_loss:1.4660, val_acc:45.98%\n",
      " Epoch 40: iteration 106/107\n",
      "Epoch 40 --> loss:1.3547, acc:48.06%, val_loss:1.4290, val_acc:46.44%\n",
      " Epoch 41: iteration 106/107\n",
      "Epoch 41 --> loss:1.3272, acc:48.14%, val_loss:1.5917, val_acc:38.85%\n",
      " Epoch 42: iteration 106/107\n",
      "Epoch 42 --> loss:1.3181, acc:49.07%, val_loss:1.3849, val_acc:46.44%\n",
      " Epoch 43: iteration 106/107\n",
      "Epoch 43 --> loss:1.3232, acc:49.22%, val_loss:1.5731, val_acc:41.61%\n",
      " Epoch 44: iteration 106/107\n",
      "Epoch 44 --> loss:1.2944, acc:50.03%, val_loss:1.4621, val_acc:47.59%\n",
      " Epoch 45: iteration 106/107\n",
      "Epoch 45 --> loss:1.3107, acc:50.26%, val_loss:1.3642, val_acc:50.34%\n",
      " Epoch 46: iteration 106/107\n",
      "Epoch 46 --> loss:1.2832, acc:50.03%, val_loss:1.2870, val_acc:52.41%\n",
      " Epoch 47: iteration 106/107\n",
      "Epoch 47 --> loss:1.2815, acc:50.64%, val_loss:1.2828, val_acc:50.11%\n",
      " Epoch 48: iteration 106/107\n",
      "Epoch 48 --> loss:1.2709, acc:50.38%, val_loss:1.2340, val_acc:55.17%\n",
      " Epoch 49: iteration 106/107\n",
      "Epoch 49 --> loss:1.2455, acc:52.58%, val_loss:1.5984, val_acc:39.54%\n",
      " Epoch 50: iteration 106/107\n",
      "Epoch 50 --> loss:1.2491, acc:51.42%, val_loss:1.2177, val_acc:53.10%\n",
      " Epoch 51: iteration 106/107\n",
      "Epoch 51 --> loss:1.2339, acc:52.61%, val_loss:1.2999, val_acc:53.56%\n",
      " Epoch 52: iteration 106/107\n",
      "Epoch 52 --> loss:1.2482, acc:52.00%, val_loss:1.2886, val_acc:50.34%\n",
      " Epoch 53: iteration 106/107\n",
      "Epoch 53 --> loss:1.2052, acc:53.68%, val_loss:1.2813, val_acc:54.48%\n",
      " Epoch 54: iteration 106/107\n",
      "Epoch 54 --> loss:1.1983, acc:54.12%, val_loss:1.2031, val_acc:53.79%\n",
      " Epoch 55: iteration 106/107\n",
      "Epoch 55 --> loss:1.1790, acc:54.75%, val_loss:1.2179, val_acc:53.79%\n",
      " Epoch 56: iteration 106/107\n",
      "Epoch 56 --> loss:1.1865, acc:54.06%, val_loss:1.3364, val_acc:49.66%\n",
      " Epoch 57: iteration 106/107\n",
      "Epoch 57 --> loss:1.1451, acc:55.48%, val_loss:1.4057, val_acc:46.44%\n",
      " Epoch 58: iteration 106/107\n",
      "Epoch 58 --> loss:1.1526, acc:55.80%, val_loss:1.2423, val_acc:53.33%\n",
      " Epoch 59: iteration 106/107\n",
      "Epoch 59 --> loss:1.1288, acc:56.46%, val_loss:1.1949, val_acc:56.32%\n",
      " Epoch 60: iteration 106/107\n",
      "Epoch 60 --> loss:1.1208, acc:56.78%, val_loss:1.1772, val_acc:56.32%\n",
      " Epoch 61: iteration 106/107\n",
      "Epoch 61 --> loss:1.1071, acc:57.71%, val_loss:1.2781, val_acc:53.10%\n",
      " Epoch 62: iteration 106/107\n",
      "Epoch 62 --> loss:1.1098, acc:56.99%, val_loss:1.1331, val_acc:59.77%\n",
      " Epoch 63: iteration 106/107\n",
      "Epoch 63 --> loss:1.0948, acc:57.83%, val_loss:1.0577, val_acc:60.69%\n",
      " Epoch 64: iteration 106/107\n",
      "Epoch 64 --> loss:1.0806, acc:58.26%, val_loss:1.1650, val_acc:54.25%\n",
      " Epoch 65: iteration 106/107\n",
      "Epoch 65 --> loss:1.0676, acc:59.16%, val_loss:1.2281, val_acc:55.40%\n",
      " Epoch 66: iteration 106/107\n",
      "Epoch 66 --> loss:1.0448, acc:60.93%, val_loss:1.1499, val_acc:54.71%\n",
      " Epoch 67: iteration 106/107\n",
      "Epoch 67 --> loss:1.0470, acc:59.51%, val_loss:1.1665, val_acc:55.86%\n",
      " Epoch 68: iteration 106/107\n",
      "Epoch 68 --> loss:1.0387, acc:60.03%, val_loss:1.1831, val_acc:55.17%\n",
      " Epoch 69: iteration 106/107\n",
      "Epoch 69 --> loss:1.0273, acc:60.81%, val_loss:1.0083, val_acc:61.38%\n",
      " Epoch 70: iteration 106/107\n",
      "Epoch 70 --> loss:1.0241, acc:61.07%, val_loss:1.0879, val_acc:58.16%\n",
      " Epoch 71: iteration 106/107\n",
      "Epoch 71 --> loss:0.9878, acc:63.04%, val_loss:1.1656, val_acc:56.78%\n",
      " Epoch 72: iteration 106/107\n",
      "Epoch 72 --> loss:0.9973, acc:62.70%, val_loss:1.0747, val_acc:59.08%\n",
      " Epoch 73: iteration 106/107\n",
      "Epoch 73 --> loss:0.9567, acc:64.14%, val_loss:1.4696, val_acc:49.20%\n",
      " Epoch 74: iteration 106/107\n",
      "Epoch 74 --> loss:0.9657, acc:62.99%, val_loss:0.9778, val_acc:64.37%\n",
      " Epoch 75: iteration 106/107\n",
      "Epoch 75 --> loss:0.9305, acc:64.23%, val_loss:1.0467, val_acc:58.85%\n",
      " Epoch 76: iteration 106/107\n",
      "Epoch 76 --> loss:0.9143, acc:65.83%, val_loss:1.2384, val_acc:51.49%\n",
      " Epoch 77: iteration 106/107\n",
      "Epoch 77 --> loss:0.9426, acc:65.16%, val_loss:1.0903, val_acc:57.24%\n",
      " Epoch 78: iteration 106/107\n",
      "Epoch 78 --> loss:0.9195, acc:66.06%, val_loss:1.0312, val_acc:60.92%\n",
      " Epoch 79: iteration 106/107\n",
      "Epoch 79 --> loss:0.8993, acc:65.22%, val_loss:1.0059, val_acc:63.91%\n",
      " Epoch 80: iteration 106/107\n",
      "Epoch 80 --> loss:0.8833, acc:66.81%, val_loss:0.9169, val_acc:64.83%\n",
      " Epoch 81: iteration 106/107\n",
      "Epoch 81 --> loss:0.8897, acc:66.84%, val_loss:0.8643, val_acc:67.82%\n",
      " Epoch 82: iteration 106/107\n",
      "Epoch 82 --> loss:0.8974, acc:66.29%, val_loss:1.1640, val_acc:55.63%\n"
     ]
    },
    {
     "name": "stdout",
     "output_type": "stream",
     "text": [
      " Epoch 83: iteration 106/107\n",
      "Epoch 83 --> loss:0.8602, acc:67.36%, val_loss:1.2781, val_acc:51.49%\n",
      " Epoch 84: iteration 106/107\n",
      "Epoch 84 --> loss:0.8206, acc:69.45%, val_loss:1.0281, val_acc:63.68%\n",
      " Epoch 85: iteration 106/107\n",
      "Epoch 85 --> loss:0.8119, acc:69.62%, val_loss:0.9759, val_acc:61.38%\n",
      " Epoch 86: iteration 106/107\n",
      "Epoch 86 --> loss:0.8278, acc:68.96%, val_loss:0.8826, val_acc:65.52%\n",
      " Epoch 87: iteration 106/107\n",
      "Epoch 87 --> loss:0.7884, acc:70.35%, val_loss:1.1414, val_acc:57.47%\n",
      " Epoch 88: iteration 106/107\n",
      "Epoch 88 --> loss:0.7959, acc:70.09%, val_loss:1.0255, val_acc:61.61%\n",
      " Epoch 89: iteration 106/107\n",
      "Epoch 89 --> loss:0.8187, acc:69.94%, val_loss:1.0772, val_acc:56.32%\n",
      " Epoch 90: iteration 106/107\n",
      "Epoch 90 --> loss:0.7533, acc:71.80%, val_loss:1.0127, val_acc:62.76%\n",
      " Epoch 91: iteration 106/107\n",
      "Epoch 91 --> loss:0.7628, acc:71.54%, val_loss:1.1723, val_acc:56.09%\n",
      " Epoch 92: iteration 106/107\n",
      "Epoch 92 --> loss:0.7711, acc:71.10%, val_loss:0.9889, val_acc:62.53%\n",
      " Epoch 93: iteration 106/107\n",
      "Epoch 93 --> loss:0.7311, acc:72.81%, val_loss:0.9854, val_acc:62.53%\n",
      " Epoch 94: iteration 106/107\n",
      "Epoch 94 --> loss:0.7575, acc:71.57%, val_loss:0.7869, val_acc:70.80%\n",
      " Epoch 95: iteration 106/107\n",
      "Epoch 95 --> loss:0.7140, acc:72.64%, val_loss:0.9282, val_acc:65.98%\n",
      " Epoch 96: iteration 106/107\n",
      "Epoch 96 --> loss:0.7192, acc:73.36%, val_loss:0.8787, val_acc:70.11%\n",
      " Epoch 97: iteration 106/107\n",
      "Epoch 97 --> loss:0.7093, acc:73.25%, val_loss:0.8774, val_acc:70.34%\n",
      " Epoch 98: iteration 106/107\n",
      "Epoch 98 --> loss:0.7212, acc:73.57%, val_loss:0.8614, val_acc:66.21%\n",
      " Epoch 99: iteration 106/107\n",
      "Epoch 99 --> loss:0.6805, acc:74.12%, val_loss:0.8547, val_acc:66.67%\n",
      " Epoch 100: iteration 106/107\n",
      "Epoch 100 --> loss:0.6850, acc:74.81%, val_loss:0.8460, val_acc:66.44%\n",
      " Epoch 101: iteration 106/107\n",
      "Epoch 101 --> loss:0.6727, acc:74.90%, val_loss:0.9967, val_acc:65.29%\n",
      " Epoch 102: iteration 106/107\n",
      "Epoch 102 --> loss:0.6405, acc:76.38%, val_loss:1.2408, val_acc:55.63%\n",
      " Epoch 103: iteration 106/107\n",
      "Epoch 103 --> loss:0.6617, acc:74.78%, val_loss:1.0697, val_acc:61.15%\n",
      " Epoch 104: iteration 106/107\n",
      "Epoch 104 --> loss:0.6465, acc:76.43%, val_loss:0.8082, val_acc:71.95%\n",
      " Epoch 105: iteration 106/107\n",
      "Epoch 105 --> loss:0.6592, acc:74.41%, val_loss:0.8452, val_acc:71.03%\n",
      " Epoch 106: iteration 106/107\n",
      "Epoch 106 --> loss:0.6381, acc:76.58%, val_loss:0.9448, val_acc:62.30%\n",
      " Epoch 107: iteration 106/107\n",
      "Epoch 107 --> loss:0.6309, acc:76.06%, val_loss:0.8547, val_acc:65.75%\n",
      " Epoch 108: iteration 106/107\n",
      "Epoch 108 --> loss:0.6297, acc:76.03%, val_loss:1.2377, val_acc:54.94%\n",
      " Epoch 109: iteration 106/107\n",
      "Epoch 109 --> loss:0.6206, acc:77.22%, val_loss:0.6677, val_acc:74.02%\n",
      " Epoch 110: iteration 106/107\n",
      "Epoch 110 --> loss:0.6316, acc:77.13%, val_loss:0.8968, val_acc:65.29%\n",
      " Epoch 111: iteration 106/107\n",
      "Epoch 111 --> loss:0.5982, acc:77.91%, val_loss:0.7117, val_acc:72.87%\n",
      " Epoch 112: iteration 106/107\n",
      "Epoch 112 --> loss:0.6003, acc:78.06%, val_loss:0.9056, val_acc:61.61%\n",
      " Epoch 113: iteration 106/107\n",
      "Epoch 113 --> loss:0.5892, acc:78.20%, val_loss:0.8024, val_acc:70.11%\n",
      " Epoch 114: iteration 106/107\n",
      "Epoch 114 --> loss:0.5872, acc:77.62%, val_loss:0.9019, val_acc:68.05%\n",
      " Epoch 115: iteration 106/107\n",
      "Epoch 115 --> loss:0.5859, acc:77.88%, val_loss:0.7457, val_acc:75.86%\n",
      " Epoch 116: iteration 106/107\n",
      "Epoch 116 --> loss:0.5713, acc:78.12%, val_loss:0.7071, val_acc:77.01%\n",
      " Epoch 117: iteration 106/107\n",
      "Epoch 117 --> loss:0.5950, acc:78.23%, val_loss:0.8043, val_acc:71.03%\n",
      " Epoch 118: iteration 106/107\n",
      "Epoch 118 --> loss:0.5789, acc:78.20%, val_loss:0.6691, val_acc:76.32%\n",
      " Epoch 119: iteration 106/107\n",
      "Epoch 119 --> loss:0.5905, acc:77.25%, val_loss:0.7819, val_acc:69.43%\n",
      " Epoch 120: iteration 106/107\n",
      "Epoch 120 --> loss:0.5497, acc:79.97%, val_loss:0.7505, val_acc:71.49%\n",
      " Epoch 121: iteration 106/107\n",
      "Epoch 121 --> loss:0.5411, acc:79.80%, val_loss:0.6939, val_acc:74.94%\n",
      " Epoch 122: iteration 106/107\n",
      "Epoch 122 --> loss:0.5343, acc:80.93%, val_loss:0.7035, val_acc:74.02%\n",
      " Epoch 123: iteration 106/107\n",
      "Epoch 123 --> loss:0.5290, acc:81.07%, val_loss:0.8621, val_acc:67.13%\n",
      " Epoch 124: iteration 106/107\n",
      "Epoch 124 --> loss:0.5536, acc:78.93%, val_loss:1.0422, val_acc:59.08%\n",
      " Epoch 125: iteration 106/107\n",
      "Epoch 125 --> loss:0.5493, acc:79.74%, val_loss:0.8587, val_acc:71.03%\n",
      " Epoch 126: iteration 106/107\n",
      "Epoch 126 --> loss:0.5308, acc:80.67%, val_loss:0.9415, val_acc:67.82%\n",
      " Epoch 127: iteration 106/107\n",
      "Epoch 127 --> loss:0.5326, acc:80.64%, val_loss:0.7305, val_acc:72.87%\n",
      " Epoch 128: iteration 106/107\n",
      "Epoch 128 --> loss:0.5279, acc:80.61%, val_loss:0.7895, val_acc:67.82%\n",
      " Epoch 129: iteration 106/107\n",
      "Epoch 129 --> loss:0.5305, acc:80.20%, val_loss:0.5975, val_acc:79.54%\n",
      " Epoch 130: iteration 106/107\n",
      "Epoch 130 --> loss:0.5224, acc:81.01%, val_loss:0.9035, val_acc:61.61%\n",
      " Epoch 131: iteration 106/107\n",
      "Epoch 131 --> loss:0.5128, acc:80.35%, val_loss:0.6230, val_acc:78.16%\n",
      " Epoch 132: iteration 106/107\n",
      "Epoch 132 --> loss:0.4985, acc:81.77%, val_loss:0.5707, val_acc:80.46%\n",
      " Epoch 133: iteration 106/107\n",
      "Epoch 133 --> loss:0.5160, acc:80.64%, val_loss:0.7279, val_acc:72.41%\n",
      " Epoch 134: iteration 106/107\n",
      "Epoch 134 --> loss:0.5226, acc:80.35%, val_loss:0.6029, val_acc:80.46%\n",
      " Epoch 135: iteration 106/107\n",
      "Epoch 135 --> loss:0.4763, acc:82.17%, val_loss:0.6681, val_acc:73.10%\n",
      " Epoch 136: iteration 106/107\n",
      "Epoch 136 --> loss:0.5018, acc:81.86%, val_loss:0.8320, val_acc:69.66%\n",
      " Epoch 137: iteration 106/107\n",
      "Epoch 137 --> loss:0.5035, acc:82.12%, val_loss:0.6591, val_acc:72.87%\n",
      " Epoch 138: iteration 106/107\n",
      "Epoch 138 --> loss:0.4815, acc:82.93%, val_loss:0.9211, val_acc:64.83%\n",
      " Epoch 139: iteration 106/107\n",
      "Epoch 139 --> loss:0.4669, acc:82.43%, val_loss:0.5484, val_acc:82.30%\n",
      " Epoch 140: iteration 106/107\n",
      "Epoch 140 --> loss:0.5020, acc:81.13%, val_loss:0.7748, val_acc:70.34%\n",
      " Epoch 141: iteration 106/107\n",
      "Epoch 141 --> loss:0.4730, acc:82.67%, val_loss:0.7130, val_acc:72.41%\n",
      " Epoch 142: iteration 106/107\n",
      "Epoch 142 --> loss:0.4682, acc:82.20%, val_loss:0.9128, val_acc:64.14%\n",
      " Epoch 143: iteration 106/107\n",
      "Epoch 143 --> loss:0.4475, acc:83.30%, val_loss:0.7773, val_acc:68.74%\n",
      " Epoch 144: iteration 106/107\n",
      "Epoch 144 --> loss:0.4634, acc:83.16%, val_loss:0.7340, val_acc:70.57%\n",
      " Epoch 145: iteration 106/107\n",
      "Epoch 145 --> loss:0.4503, acc:83.48%, val_loss:0.7181, val_acc:71.26%\n",
      " Epoch 146: iteration 106/107\n",
      "Epoch 146 --> loss:0.4704, acc:82.46%, val_loss:0.6616, val_acc:73.79%\n",
      " Epoch 147: iteration 106/107\n",
      "Epoch 147 --> loss:0.4674, acc:82.20%, val_loss:0.6360, val_acc:76.78%\n",
      " Epoch 148: iteration 106/107\n",
      "Epoch 148 --> loss:0.4260, acc:84.49%, val_loss:0.8031, val_acc:69.20%\n",
      " Epoch 149: iteration 106/107\n",
      "Epoch 149 --> loss:0.4642, acc:83.16%, val_loss:0.8161, val_acc:68.28%\n",
      " Epoch 150: iteration 106/107\n",
      "Epoch 150 --> loss:0.4439, acc:83.77%, val_loss:0.6113, val_acc:76.78%\n",
      " Epoch 151: iteration 106/107\n",
      "Epoch 151 --> loss:0.4340, acc:84.43%, val_loss:0.6282, val_acc:75.63%\n",
      " Epoch 152: iteration 106/107\n",
      "Epoch 152 --> loss:0.4608, acc:82.61%, val_loss:0.7410, val_acc:70.11%\n",
      " Epoch 153: iteration 106/107\n",
      "Epoch 153 --> loss:0.4294, acc:84.06%, val_loss:0.6680, val_acc:73.79%\n",
      " Epoch 154: iteration 106/107\n",
      "Epoch 154 --> loss:0.4396, acc:83.22%, val_loss:0.7507, val_acc:69.20%\n",
      " Epoch 155: iteration 106/107\n",
      "Epoch 155 --> loss:0.4249, acc:84.09%, val_loss:0.7090, val_acc:73.10%\n",
      " Epoch 156: iteration 106/107\n",
      "Epoch 156 --> loss:0.4132, acc:84.32%, val_loss:0.5057, val_acc:81.84%\n",
      " Epoch 157: iteration 106/107\n",
      "Epoch 157 --> loss:0.4335, acc:84.06%, val_loss:0.7068, val_acc:71.72%\n",
      " Epoch 158: iteration 106/107\n",
      "Epoch 158 --> loss:0.4165, acc:84.72%, val_loss:0.5974, val_acc:77.93%\n",
      " Epoch 159: iteration 106/107\n",
      "Epoch 159 --> loss:0.4241, acc:83.83%, val_loss:0.8197, val_acc:67.82%\n",
      " Epoch 160: iteration 106/107\n",
      "Epoch 160 --> loss:0.4187, acc:84.06%, val_loss:0.6009, val_acc:77.47%\n",
      " Epoch 161: iteration 106/107\n",
      "Epoch 161 --> loss:0.4178, acc:84.81%, val_loss:0.6559, val_acc:75.40%\n",
      " Epoch 162: iteration 106/107\n",
      "Epoch 162 --> loss:0.4192, acc:84.17%, val_loss:0.7742, val_acc:69.89%\n",
      " Epoch 163: iteration 106/107\n",
      "Epoch 163 --> loss:0.4010, acc:85.16%, val_loss:0.5111, val_acc:80.46%\n",
      " Epoch 164: iteration 106/107\n",
      "Epoch 164 --> loss:0.4123, acc:84.52%, val_loss:0.6939, val_acc:75.63%\n"
     ]
    },
    {
     "name": "stdout",
     "output_type": "stream",
     "text": [
      " Epoch 165: iteration 106/107\n",
      "Epoch 165 --> loss:0.4194, acc:85.42%, val_loss:0.7508, val_acc:72.18%\n",
      " Epoch 166: iteration 106/107\n",
      "Epoch 166 --> loss:0.4179, acc:84.46%, val_loss:0.5740, val_acc:78.39%\n",
      " Epoch 167: iteration 106/107\n",
      "Epoch 167 --> loss:0.4184, acc:83.68%, val_loss:0.5652, val_acc:77.47%\n",
      " Epoch 168: iteration 106/107\n",
      "Epoch 168 --> loss:0.4203, acc:84.29%, val_loss:0.6999, val_acc:74.25%\n",
      " Epoch 169: iteration 106/107\n",
      "Epoch 169 --> loss:0.4039, acc:84.96%, val_loss:0.7424, val_acc:70.57%\n",
      " Epoch 170: iteration 106/107\n",
      "Epoch 170 --> loss:0.3843, acc:85.68%, val_loss:0.6096, val_acc:76.32%\n",
      " Epoch 171: iteration 106/107\n",
      "Epoch 171 --> loss:0.4112, acc:84.87%, val_loss:0.5898, val_acc:78.39%\n",
      " Epoch 172: iteration 106/107\n",
      "Epoch 172 --> loss:0.4159, acc:84.78%, val_loss:0.7008, val_acc:74.94%\n",
      " Epoch 173: iteration 106/107\n",
      "Epoch 173 --> loss:0.3567, acc:87.10%, val_loss:0.4259, val_acc:82.76%\n",
      " Epoch 174: iteration 106/107\n",
      "Epoch 174 --> loss:0.4107, acc:84.52%, val_loss:0.5808, val_acc:76.32%\n",
      " Epoch 175: iteration 106/107\n",
      "Epoch 175 --> loss:0.3877, acc:85.39%, val_loss:0.6458, val_acc:76.09%\n",
      " Epoch 176: iteration 106/107\n",
      "Epoch 176 --> loss:0.3946, acc:85.91%, val_loss:0.6110, val_acc:77.01%\n",
      " Epoch 177: iteration 106/107\n",
      "Epoch 177 --> loss:0.3892, acc:85.62%, val_loss:0.6932, val_acc:76.09%\n",
      " Epoch 178: iteration 106/107\n",
      "Epoch 178 --> loss:0.3881, acc:85.94%, val_loss:0.5571, val_acc:79.31%\n",
      " Epoch 179: iteration 106/107\n",
      "Epoch 179 --> loss:0.3624, acc:86.90%, val_loss:0.6728, val_acc:74.71%\n",
      " Epoch 180: iteration 106/107\n",
      "Epoch 180 --> loss:0.3875, acc:86.12%, val_loss:0.5622, val_acc:80.23%\n",
      " Epoch 181: iteration 106/107\n",
      "Epoch 181 --> loss:0.3845, acc:85.25%, val_loss:0.5264, val_acc:80.00%\n",
      " Epoch 182: iteration 106/107\n",
      "Epoch 182 --> loss:0.3712, acc:86.35%, val_loss:0.6314, val_acc:75.17%\n",
      " Epoch 183: iteration 106/107\n",
      "Epoch 183 --> loss:0.3606, acc:86.99%, val_loss:0.5661, val_acc:78.39%\n",
      " Epoch 184: iteration 106/107\n",
      "Epoch 184 --> loss:0.3853, acc:85.71%, val_loss:0.4807, val_acc:83.91%\n",
      " Epoch 185: iteration 106/107\n",
      "Epoch 185 --> loss:0.3668, acc:86.38%, val_loss:0.6610, val_acc:73.33%\n",
      " Epoch 186: iteration 106/107\n",
      "Epoch 186 --> loss:0.3690, acc:86.43%, val_loss:0.4511, val_acc:85.52%\n",
      " Epoch 187: iteration 106/107\n",
      "Epoch 187 --> loss:0.3575, acc:87.71%, val_loss:0.5622, val_acc:78.39%\n",
      " Epoch 188: iteration 106/107\n",
      "Epoch 188 --> loss:0.3598, acc:86.61%, val_loss:0.4321, val_acc:83.22%\n",
      " Epoch 189: iteration 106/107\n",
      "Epoch 189 --> loss:0.3728, acc:86.90%, val_loss:0.4887, val_acc:83.91%\n",
      " Epoch 190: iteration 106/107\n",
      "Epoch 190 --> loss:0.3701, acc:86.03%, val_loss:0.6074, val_acc:76.32%\n",
      " Epoch 191: iteration 106/107\n",
      "Epoch 191 --> loss:0.3631, acc:86.41%, val_loss:0.5089, val_acc:83.45%\n",
      " Epoch 192: iteration 106/107\n",
      "Epoch 192 --> loss:0.3367, acc:87.77%, val_loss:0.5699, val_acc:76.55%\n",
      " Epoch 193: iteration 106/107\n",
      "Epoch 193 --> loss:0.3661, acc:86.49%, val_loss:0.5181, val_acc:80.23%\n",
      " Epoch 194: iteration 106/107\n",
      "Epoch 194 --> loss:0.3559, acc:86.49%, val_loss:0.4534, val_acc:85.06%\n",
      " Epoch 195: iteration 106/107\n",
      "Epoch 195 --> loss:0.3422, acc:87.45%, val_loss:0.6209, val_acc:77.93%\n",
      " Epoch 196: iteration 106/107\n",
      "Epoch 196 --> loss:0.3511, acc:87.07%, val_loss:0.6433, val_acc:74.02%\n",
      " Epoch 197: iteration 106/107\n",
      "Epoch 197 --> loss:0.3503, acc:87.51%, val_loss:0.4637, val_acc:83.91%\n",
      " Epoch 198: iteration 106/107\n",
      "Epoch 198 --> loss:0.3722, acc:86.78%, val_loss:0.5371, val_acc:80.69%\n",
      " Epoch 199: iteration 106/107\n",
      "Epoch 199 --> loss:0.3537, acc:86.96%, val_loss:0.5467, val_acc:80.92%\n",
      " Epoch 200: iteration 106/107\n",
      "Epoch 200 --> loss:0.3481, acc:86.99%, val_loss:0.5046, val_acc:80.00%\n",
      " Epoch 201: iteration 106/107\n",
      "Epoch 201 --> loss:0.3440, acc:87.54%, val_loss:0.4854, val_acc:80.23%\n",
      " Epoch 202: iteration 106/107\n",
      "Epoch 202 --> loss:0.3481, acc:87.33%, val_loss:0.5029, val_acc:81.84%\n",
      " Epoch 203: iteration 106/107\n",
      "Epoch 203 --> loss:0.3509, acc:87.19%, val_loss:0.5111, val_acc:80.92%\n",
      " Epoch 204: iteration 106/107\n",
      "Epoch 204 --> loss:0.3637, acc:86.78%, val_loss:0.6169, val_acc:76.09%\n",
      " Epoch 205: iteration 106/107\n",
      "Epoch 205 --> loss:0.3283, acc:87.71%, val_loss:0.9062, val_acc:65.06%\n",
      " Epoch 206: iteration 106/107\n",
      "Epoch 206 --> loss:0.3363, acc:87.74%, val_loss:0.4979, val_acc:81.38%\n",
      " Epoch 207: iteration 106/107\n",
      "Epoch 207 --> loss:0.3268, acc:88.84%, val_loss:0.6101, val_acc:76.55%\n",
      " Epoch 208: iteration 106/107\n",
      "Epoch 208 --> loss:0.3556, acc:87.30%, val_loss:0.5041, val_acc:80.00%\n",
      " Epoch 209: iteration 106/107\n",
      "Epoch 209 --> loss:0.3463, acc:87.45%, val_loss:0.4709, val_acc:82.30%\n",
      " Epoch 210: iteration 106/107\n",
      "Epoch 210 --> loss:0.3375, acc:87.65%, val_loss:0.5427, val_acc:80.23%\n",
      " Epoch 211: iteration 106/107\n",
      "Epoch 211 --> loss:0.3385, acc:87.54%, val_loss:0.7010, val_acc:70.57%\n",
      " Epoch 212: iteration 106/107\n",
      "Epoch 212 --> loss:0.3332, acc:87.97%, val_loss:0.5416, val_acc:80.69%\n",
      " Epoch 213: iteration 106/107\n",
      "Epoch 213 --> loss:0.3377, acc:87.51%, val_loss:0.5583, val_acc:80.46%\n",
      " Epoch 214: iteration 106/107\n",
      "Epoch 214 --> loss:0.3394, acc:87.45%, val_loss:0.5208, val_acc:80.69%\n",
      " Epoch 215: iteration 106/107\n",
      "Epoch 215 --> loss:0.3278, acc:87.07%, val_loss:0.4043, val_acc:86.21%\n",
      " Epoch 216: iteration 106/107\n",
      "Epoch 216 --> loss:0.3415, acc:87.45%, val_loss:0.4644, val_acc:80.23%\n",
      " Epoch 217: iteration 106/107\n",
      "Epoch 217 --> loss:0.3375, acc:87.19%, val_loss:0.4616, val_acc:82.53%\n",
      " Epoch 218: iteration 106/107\n",
      "Epoch 218 --> loss:0.3297, acc:87.94%, val_loss:0.5492, val_acc:80.46%\n",
      " Epoch 219: iteration 106/107\n",
      "Epoch 219 --> loss:0.3447, acc:86.75%, val_loss:0.4841, val_acc:82.30%\n",
      " Epoch 220: iteration 106/107\n",
      "Epoch 220 --> loss:0.3080, acc:88.84%, val_loss:0.4339, val_acc:83.45%\n",
      " Epoch 221: iteration 106/107\n",
      "Epoch 221 --> loss:0.3241, acc:88.03%, val_loss:0.5843, val_acc:77.47%\n",
      " Epoch 222: iteration 106/107\n",
      "Epoch 222 --> loss:0.3311, acc:87.51%, val_loss:0.4420, val_acc:83.45%\n",
      " Epoch 223: iteration 106/107\n",
      "Epoch 223 --> loss:0.3302, acc:87.80%, val_loss:0.6189, val_acc:75.17%\n",
      " Epoch 224: iteration 106/107\n",
      "Epoch 224 --> loss:0.3443, acc:86.58%, val_loss:0.3196, val_acc:91.49%\n",
      " Epoch 225: iteration 106/107\n",
      "Epoch 225 --> loss:0.3292, acc:87.36%, val_loss:0.6588, val_acc:73.33%\n",
      " Epoch 226: iteration 106/107\n",
      "Epoch 226 --> loss:0.3352, acc:87.57%, val_loss:0.4831, val_acc:82.99%\n",
      " Epoch 227: iteration 106/107\n",
      "Epoch 227 --> loss:0.3064, acc:88.61%, val_loss:0.3536, val_acc:86.44%\n",
      " Epoch 228: iteration 106/107\n",
      "Epoch 228 --> loss:0.3182, acc:88.58%, val_loss:0.4279, val_acc:85.98%\n",
      " Epoch 229: iteration 106/107\n",
      "Epoch 229 --> loss:0.3442, acc:87.07%, val_loss:0.3744, val_acc:89.66%\n",
      " Epoch 230: iteration 106/107\n",
      "Epoch 230 --> loss:0.3435, acc:87.01%, val_loss:0.4237, val_acc:84.60%\n",
      " Epoch 231: iteration 106/107\n",
      "Epoch 231 --> loss:0.3146, acc:88.72%, val_loss:0.5596, val_acc:75.86%\n",
      " Epoch 232: iteration 106/107\n",
      "Epoch 232 --> loss:0.3151, acc:88.49%, val_loss:0.4996, val_acc:82.07%\n",
      " Epoch 233: iteration 106/107\n",
      "Epoch 233 --> loss:0.3350, acc:88.03%, val_loss:0.3950, val_acc:86.21%\n",
      " Epoch 234: iteration 106/107\n",
      "Epoch 234 --> loss:0.2972, acc:89.01%, val_loss:0.5748, val_acc:77.47%\n",
      " Epoch 235: iteration 106/107\n",
      "Epoch 235 --> loss:0.3081, acc:88.67%, val_loss:0.3809, val_acc:85.29%\n",
      " Epoch 236: iteration 106/107\n",
      "Epoch 236 --> loss:0.2972, acc:89.10%, val_loss:0.5086, val_acc:80.69%\n",
      " Epoch 237: iteration 106/107\n",
      "Epoch 237 --> loss:0.2801, acc:89.57%, val_loss:0.5117, val_acc:78.16%\n",
      " Epoch 238: iteration 106/107\n",
      "Epoch 238 --> loss:0.2830, acc:89.48%, val_loss:0.3752, val_acc:86.21%\n",
      " Epoch 239: iteration 106/107\n",
      "Epoch 239 --> loss:0.3413, acc:87.48%, val_loss:0.6737, val_acc:73.10%\n",
      " Epoch 240: iteration 106/107\n",
      "Epoch 240 --> loss:0.3128, acc:88.29%, val_loss:0.4857, val_acc:82.53%\n",
      " Epoch 241: iteration 106/107\n",
      "Epoch 241 --> loss:0.2876, acc:89.28%, val_loss:0.3990, val_acc:85.29%\n",
      " Epoch 242: iteration 106/107\n",
      "Epoch 242 --> loss:0.2973, acc:89.62%, val_loss:0.4311, val_acc:83.68%\n",
      " Epoch 243: iteration 106/107\n",
      "Epoch 243 --> loss:0.2922, acc:89.07%, val_loss:0.4203, val_acc:85.75%\n",
      " Epoch 244: iteration 106/107\n",
      "Epoch 244 --> loss:0.2963, acc:89.13%, val_loss:0.3936, val_acc:85.06%\n",
      " Epoch 245: iteration 106/107\n",
      "Epoch 245 --> loss:0.2870, acc:89.28%, val_loss:0.3972, val_acc:85.06%\n",
      " Epoch 246: iteration 106/107\n",
      "Epoch 246 --> loss:0.3301, acc:88.29%, val_loss:0.3685, val_acc:88.51%\n",
      " Epoch 247: iteration 106/107\n",
      "Epoch 247 --> loss:0.2911, acc:89.51%, val_loss:0.3206, val_acc:89.66%\n",
      " Epoch 248: iteration 106/107\n",
      "Epoch 248 --> loss:0.3109, acc:88.41%, val_loss:0.3834, val_acc:89.43%\n",
      " Epoch 249: iteration 106/107\n",
      "Epoch 249 --> loss:0.2873, acc:89.42%, val_loss:0.3766, val_acc:85.29%\n",
      " Epoch 250: iteration 106/107\n",
      "Epoch 250 --> loss:0.3044, acc:88.61%, val_loss:0.3704, val_acc:87.59%\n",
      " Epoch 251: iteration 106/107\n",
      "Epoch 251 --> loss:0.3022, acc:88.93%, val_loss:0.3946, val_acc:86.67%\n",
      " Epoch 252: iteration 106/107\n",
      "Epoch 252 --> loss:0.3037, acc:88.64%, val_loss:0.4852, val_acc:80.00%\n",
      " Epoch 253: iteration 106/107\n",
      "Epoch 253 --> loss:0.3004, acc:88.90%, val_loss:0.5468, val_acc:81.38%\n",
      " Epoch 254: iteration 106/107\n",
      "Epoch 254 --> loss:0.3004, acc:89.28%, val_loss:0.3024, val_acc:91.95%\n",
      " Epoch 255: iteration 106/107\n",
      "Epoch 255 --> loss:0.3036, acc:88.78%, val_loss:0.5457, val_acc:78.62%\n",
      " Epoch 256: iteration 106/107\n",
      "Epoch 256 --> loss:0.2978, acc:89.13%, val_loss:0.5403, val_acc:81.15%\n",
      " Epoch 257: iteration 106/107\n",
      "Epoch 257 --> loss:0.3045, acc:88.81%, val_loss:0.4433, val_acc:82.53%\n",
      " Epoch 258: iteration 106/107\n",
      "Epoch 258 --> loss:0.3013, acc:89.19%, val_loss:0.4940, val_acc:80.69%\n",
      " Epoch 259: iteration 106/107\n",
      "Epoch 259 --> loss:0.2984, acc:88.90%, val_loss:0.4452, val_acc:82.99%\n",
      " Epoch 260: iteration 106/107\n",
      "Epoch 260 --> loss:0.2956, acc:88.84%, val_loss:0.4866, val_acc:82.07%\n",
      " Epoch 261: iteration 106/107\n",
      "Epoch 261 --> loss:0.2860, acc:90.14%, val_loss:0.4590, val_acc:80.23%\n",
      " Epoch 262: iteration 106/107\n",
      "Epoch 262 --> loss:0.2930, acc:89.36%, val_loss:0.4485, val_acc:86.44%\n",
      " Epoch 263: iteration 106/107\n",
      "Epoch 263 --> loss:0.3028, acc:89.54%, val_loss:0.5772, val_acc:77.47%\n",
      " Epoch 264: iteration 106/107\n",
      "Epoch 264 --> loss:0.2834, acc:89.57%, val_loss:0.3773, val_acc:88.05%\n",
      " Epoch 265: iteration 106/107\n",
      "Epoch 265 --> loss:0.2838, acc:89.74%, val_loss:0.4915, val_acc:81.84%\n",
      " Epoch 266: iteration 106/107\n",
      "Epoch 266 --> loss:0.2675, acc:90.00%, val_loss:0.6868, val_acc:71.03%\n",
      " Epoch 267: iteration 106/107\n",
      "Epoch 267 --> loss:0.2853, acc:89.59%, val_loss:0.4814, val_acc:80.92%\n",
      " Epoch 268: iteration 106/107\n",
      "Epoch 268 --> loss:0.2982, acc:89.01%, val_loss:0.4156, val_acc:83.45%\n",
      " Epoch 269: iteration 106/107\n",
      "Epoch 269 --> loss:0.2868, acc:89.45%, val_loss:0.4144, val_acc:85.75%\n",
      " Epoch 270: iteration 106/107\n",
      "Epoch 270 --> loss:0.2796, acc:89.62%, val_loss:0.3396, val_acc:85.98%\n",
      " Epoch 271: iteration 106/107\n",
      "Epoch 271 --> loss:0.2764, acc:88.93%, val_loss:0.3870, val_acc:83.68%\n",
      " Epoch 272: iteration 106/107\n",
      "Epoch 272 --> loss:0.2853, acc:89.54%, val_loss:0.3245, val_acc:89.43%\n",
      " Epoch 273: iteration 106/107\n",
      "Epoch 273 --> loss:0.3171, acc:88.41%, val_loss:0.4153, val_acc:84.83%\n",
      " Epoch 274: iteration 106/107\n",
      "Epoch 274 --> loss:0.3166, acc:88.49%, val_loss:0.4239, val_acc:83.22%\n",
      " Epoch 275: iteration 106/107\n",
      "Epoch 275 --> loss:0.2733, acc:90.14%, val_loss:0.3913, val_acc:86.21%\n",
      " Epoch 276: iteration 106/107\n",
      "Epoch 276 --> loss:0.2973, acc:88.90%, val_loss:0.3967, val_acc:84.14%\n",
      " Epoch 277: iteration 106/107\n",
      "Epoch 277 --> loss:0.2715, acc:89.74%, val_loss:0.4174, val_acc:84.83%\n",
      " Epoch 278: iteration 106/107\n",
      "Epoch 278 --> loss:0.2868, acc:89.57%, val_loss:0.5255, val_acc:80.23%\n",
      " Epoch 279: iteration 106/107\n",
      "Epoch 279 --> loss:0.2804, acc:89.10%, val_loss:0.3657, val_acc:86.21%\n",
      " Epoch 280: iteration 106/107\n",
      "Epoch 280 --> loss:0.2825, acc:89.51%, val_loss:0.6243, val_acc:76.09%\n",
      " Epoch 281: iteration 106/107\n",
      "Epoch 281 --> loss:0.2932, acc:89.39%, val_loss:0.4644, val_acc:80.92%\n",
      " Epoch 282: iteration 106/107\n",
      "Epoch 282 --> loss:0.2879, acc:89.22%, val_loss:0.3745, val_acc:87.13%\n",
      " Epoch 283: iteration 106/107\n",
      "Epoch 283 --> loss:0.2526, acc:90.52%, val_loss:0.5970, val_acc:78.39%\n",
      " Epoch 284: iteration 106/107\n",
      "Epoch 284 --> loss:0.2810, acc:89.19%, val_loss:0.4925, val_acc:81.38%\n",
      " Epoch 285: iteration 106/107\n",
      "Epoch 285 --> loss:0.2746, acc:89.94%, val_loss:0.3352, val_acc:88.74%\n",
      " Epoch 286: iteration 106/107\n",
      "Epoch 286 --> loss:0.2732, acc:90.17%, val_loss:0.4431, val_acc:82.30%\n",
      " Epoch 287: iteration 106/107\n",
      "Epoch 287 --> loss:0.2710, acc:89.77%, val_loss:0.4624, val_acc:80.00%\n",
      " Epoch 288: iteration 106/107\n",
      "Epoch 288 --> loss:0.3178, acc:87.77%, val_loss:0.4202, val_acc:84.37%\n",
      " Epoch 289: iteration 106/107\n",
      "Epoch 289 --> loss:0.2953, acc:89.25%, val_loss:0.6030, val_acc:74.71%\n",
      " Epoch 290: iteration 106/107\n",
      "Epoch 290 --> loss:0.2814, acc:90.09%, val_loss:0.4559, val_acc:82.30%\n",
      " Epoch 291: iteration 106/107\n",
      "Epoch 291 --> loss:0.2687, acc:90.43%, val_loss:0.5470, val_acc:79.08%\n",
      " Epoch 292: iteration 106/107\n",
      "Epoch 292 --> loss:0.2795, acc:89.71%, val_loss:0.4605, val_acc:83.22%\n",
      " Epoch 293: iteration 106/107\n",
      "Epoch 293 --> loss:0.2854, acc:89.42%, val_loss:0.5036, val_acc:81.15%\n",
      " Epoch 294: iteration 106/107\n",
      "Epoch 294 --> loss:0.2678, acc:89.83%, val_loss:0.4714, val_acc:81.61%\n",
      " Epoch 295: iteration 106/107\n",
      "Epoch 295 --> loss:0.3053, acc:89.13%, val_loss:0.4166, val_acc:83.22%\n",
      " Epoch 296: iteration 106/107\n",
      "Epoch 296 --> loss:0.2562, acc:90.43%, val_loss:0.5106, val_acc:80.00%\n",
      " Epoch 297: iteration 106/107\n",
      "Epoch 297 --> loss:0.2558, acc:91.04%, val_loss:0.4192, val_acc:85.75%\n",
      " Epoch 298: iteration 106/107\n",
      "Epoch 298 --> loss:0.2818, acc:89.62%, val_loss:0.5520, val_acc:80.46%\n",
      " Epoch 299: iteration 106/107\n",
      "Epoch 299 --> loss:0.2610, acc:90.46%, val_loss:0.6376, val_acc:76.55%\n",
      " Epoch 300: iteration 106/107\n",
      "Epoch 300 --> loss:0.2750, acc:90.20%, val_loss:0.9747, val_acc:61.61%\n",
      " Epoch 301: iteration 106/107\n",
      "Epoch 301 --> loss:0.2775, acc:89.77%, val_loss:0.7157, val_acc:77.47%\n",
      " Epoch 302: iteration 106/107\n",
      "Epoch 302 --> loss:0.2633, acc:90.55%, val_loss:0.3291, val_acc:87.59%\n",
      " Epoch 303: iteration 106/107\n",
      "Epoch 303 --> loss:0.2780, acc:90.00%, val_loss:0.5345, val_acc:83.45%\n",
      " Epoch 304: iteration 106/107\n",
      "Epoch 304 --> loss:0.2712, acc:90.09%, val_loss:0.6058, val_acc:80.46%\n",
      " Epoch 305: iteration 106/107\n",
      "Epoch 305 --> loss:0.2643, acc:90.09%, val_loss:0.3962, val_acc:83.91%\n",
      " Epoch 306: iteration 106/107\n",
      "Epoch 306 --> loss:0.2857, acc:90.17%, val_loss:0.4625, val_acc:83.68%\n",
      " Epoch 307: iteration 106/107\n",
      "Epoch 307 --> loss:0.2736, acc:89.91%, val_loss:0.4217, val_acc:82.99%\n",
      " Epoch 308: iteration 106/107\n",
      "Epoch 308 --> loss:0.2573, acc:90.43%, val_loss:0.3972, val_acc:85.52%\n",
      " Epoch 309: iteration 106/107\n",
      "Epoch 309 --> loss:0.2677, acc:89.97%, val_loss:0.6282, val_acc:75.86%\n",
      " Epoch 310: iteration 106/107\n",
      "Epoch 310 --> loss:0.2605, acc:90.12%, val_loss:0.2783, val_acc:91.49%\n",
      " Epoch 311: iteration 106/107\n",
      "Epoch 311 --> loss:0.2897, acc:89.65%, val_loss:0.3590, val_acc:87.13%\n",
      " Epoch 312: iteration 106/107\n",
      "Epoch 312 --> loss:0.2775, acc:90.12%, val_loss:0.3083, val_acc:88.28%\n",
      " Epoch 313: iteration 106/107\n",
      "Epoch 313 --> loss:0.2816, acc:89.42%, val_loss:0.7072, val_acc:73.10%\n",
      " Epoch 314: iteration 106/107\n",
      "Epoch 314 --> loss:0.2812, acc:89.48%, val_loss:0.4556, val_acc:82.53%\n",
      " Epoch 315: iteration 27/107"
     ]
    }
   ],
   "source": [
    "EPOCHS=700\n",
    "DATASET_SIZE = X_train.shape[0]\n",
    "BATCH_SIZE = 32\n",
    "device = 'cuda' if torch.cuda.is_available() else 'cpu'\n",
    "print('Selected device is {}'.format(device))\n",
    "model = HybridModel(num_emotions=len(EMOTIONS)).to(device)\n",
    "print('Number of trainable params: ',sum(p.numel() for p in model.parameters()) )\n",
    "OPTIMIZER = torch.optim.SGD(model.parameters(),lr=0.01, weight_decay=1e-3, momentum=0.8)\n",
    "\n",
    "train_step = make_train_step(model, loss_fnc, optimizer=OPTIMIZER)\n",
    "validate = make_validate_fnc(model,loss_fnc)\n",
    "losses=[]\n",
    "val_losses = []\n",
    "for epoch in range(EPOCHS):\n",
    "    # schuffle data\n",
    "    ind = np.random.permutation(DATASET_SIZE)\n",
    "    X_train = X_train[ind,:,:,:,:]\n",
    "    Y_train = Y_train[ind]\n",
    "    epoch_acc = 0\n",
    "    epoch_loss = 0\n",
    "    iters = int(DATASET_SIZE / BATCH_SIZE)\n",
    "    for i in range(iters):\n",
    "        batch_start = i * BATCH_SIZE\n",
    "        batch_end = min(batch_start + BATCH_SIZE, DATASET_SIZE)\n",
    "        actual_batch_size = batch_end-batch_start\n",
    "        X = X_train[batch_start:batch_end,:,:,:,:]\n",
    "        Y = Y_train[batch_start:batch_end]\n",
    "        X_tensor = torch.tensor(X,device=device).float()\n",
    "        Y_tensor = torch.tensor(Y, dtype=torch.long,device=device)\n",
    "        loss, acc = train_step(X_tensor,Y_tensor)\n",
    "        epoch_acc += acc*actual_batch_size/DATASET_SIZE\n",
    "        epoch_loss += loss*actual_batch_size/DATASET_SIZE\n",
    "        print(f\"\\r Epoch {epoch}: iteration {i}/{iters}\",end='')\n",
    "    X_val_tensor = torch.tensor(X_val,device=device).float()\n",
    "    Y_val_tensor = torch.tensor(Y_val,dtype=torch.long,device=device)\n",
    "    val_loss, val_acc, _ = validate(X_val_tensor,Y_val_tensor)\n",
    "    losses.append(epoch_loss)\n",
    "    val_losses.append(val_loss)\n",
    "    print('')\n",
    "    print(f\"Epoch {epoch} --> loss:{epoch_loss:.4f}, acc:{epoch_acc:.2f}%, val_loss:{val_loss:.4f}, val_acc:{val_acc:.2f}%\")\n",
    "    "
   ]
  },
  {
   "cell_type": "markdown",
   "metadata": {},
   "source": [
    "# Save model"
   ]
  },
  {
   "cell_type": "code",
   "execution_count": 22,
   "metadata": {},
   "outputs": [
    {
     "name": "stdout",
     "output_type": "stream",
     "text": [
      "Model is saved to /kaggle/working/models/cnn_lstm_model.pt\n"
     ]
    }
   ],
   "source": [
    "SAVE_PATH = os.path.join(os.getcwd(),'models')\n",
    "os.makedirs('models',exist_ok=True)\n",
    "torch.save(model.state_dict(),os.path.join(SAVE_PATH,'cnn_lstm_model.pt'))\n",
    "print('Model is saved to {}'.format(os.path.join(SAVE_PATH,'cnn_lstm_model.pt')))"
   ]
  },
  {
   "cell_type": "markdown",
   "metadata": {},
   "source": [
    "# Load model"
   ]
  },
  {
   "cell_type": "code",
   "execution_count": 23,
   "metadata": {},
   "outputs": [
    {
     "name": "stdout",
     "output_type": "stream",
     "text": [
      "Model is loaded from /kaggle/working/models/cnn_lstm_model.pt\n"
     ]
    }
   ],
   "source": [
    "LOAD_PATH = os.path.join(os.getcwd(),'models')\n",
    "model = HybridModel(len(EMOTIONS))\n",
    "model.load_state_dict(torch.load(os.path.join(LOAD_PATH,'cnn_lstm_model.pt')))\n",
    "print('Model is loaded from {}'.format(os.path.join(LOAD_PATH,'cnn_lstm_model.pt')))"
   ]
  },
  {
   "cell_type": "markdown",
   "metadata": {},
   "source": [
    "# Test"
   ]
  },
  {
   "cell_type": "code",
   "execution_count": 24,
   "metadata": {},
   "outputs": [
    {
     "name": "stdout",
     "output_type": "stream",
     "text": [
      "Test loss is 0.254\n",
      "Test accuracy is 94.02%\n"
     ]
    }
   ],
   "source": [
    "X_test_tensor = torch.tensor(X_test,device=device).float()\n",
    "Y_test_tensor = torch.tensor(Y_test,dtype=torch.long,device=device)\n",
    "test_loss, test_acc, predictions = validate(X_test_tensor,Y_test_tensor)\n",
    "print(f'Test loss is {test_loss:.3f}')\n",
    "print(f'Test accuracy is {test_acc:.2f}%')"
   ]
  },
  {
   "cell_type": "markdown",
   "metadata": {},
   "source": [
    "confusion matrix"
   ]
  },
  {
   "cell_type": "code",
   "execution_count": 25,
   "metadata": {},
   "outputs": [
    {
     "data": {
      "image/png": "[encoded data removed]",
      "text/plain": [
       "<Figure size 432x288 with 2 Axes>"
      ]
     },
     "metadata": {},
     "output_type": "display_data"
    }
   ],
   "source": [
    "from sklearn.metrics import confusion_matrix\n",
    "import seaborn as sn\n",
    "\n",
    "predictions = predictions.cpu().numpy()\n",
    "cm = confusion_matrix(Y_test, predictions)\n",
    "names = [EMOTIONS[ind] for ind in range(len(EMOTIONS))]\n",
    "df_cm = pd.DataFrame(cm, index=names, columns=names)\n",
    "# plt.figure(figsize=(10,7))\n",
    "sn.set(font_scale=1.4) # for label size\n",
    "sn.heatmap(df_cm, annot=True, annot_kws={\"size\": 16}) # font size\n",
    "plt.show()"
   ]
  },
  {
   "cell_type": "markdown",
   "metadata": {},
   "source": [
    "correlation between emotion intensity and prediction"
   ]
  },
  {
   "cell_type": "code",
   "execution_count": 26,
   "metadata": {},
   "outputs": [
    {
     "data": {
      "image/png": "[encoded data removed]",
      "text/plain": [
       "<Figure size 432x288 with 2 Axes>"
      ]
     },
     "metadata": {},
     "output_type": "display_data"
    }
   ],
   "source": [
    "correct_strong = 0\n",
    "correct_normal = 0\n",
    "wrong_strong = 0\n",
    "wrong_normal = 0\n",
    "for i in range(len(X_test)):\n",
    "    intensity = data.loc[test_ind[i],'Emotion intensity']\n",
    "    if Y_test[i] == predictions[i]: # correct prediction\n",
    "        if  intensity == 'normal':\n",
    "            correct_normal += 1\n",
    "        else:\n",
    "            correct_strong += 1\n",
    "    else: # wrong prediction\n",
    "        if intensity == 'normal':\n",
    "            wrong_normal += 1\n",
    "        else:\n",
    "            wrong_strong += 1\n",
    "array = np.array([[wrong_normal,wrong_strong],[correct_normal,correct_strong]])\n",
    "df = pd.DataFrame(array,['wrong','correct'],['normal','strong'])\n",
    "sn.set(font_scale=1.4) # for label size\n",
    "sn.heatmap(df, annot=True, annot_kws={\"size\": 16}) # font size\n",
    "plt.show()"
   ]
  },
  {
   "cell_type": "markdown",
   "metadata": {},
   "source": [
    "correlation between gender and corectness"
   ]
  },
  {
   "cell_type": "code",
   "execution_count": 27,
   "metadata": {},
   "outputs": [
    {
     "data": {
      "image/png": "[encoded data removed]",
      "text/plain": [
       "<Figure size 432x288 with 2 Axes>"
      ]
     },
     "metadata": {},
     "output_type": "display_data"
    }
   ],
   "source": [
    "correct_male = 0\n",
    "correct_female = 0\n",
    "wrong_male = 0\n",
    "wrong_female = 0\n",
    "for i in range(len(X_test)):\n",
    "    gender = data.loc[test_ind[i],'Gender']\n",
    "    if Y_test[i] == predictions[i]: # correct prediction\n",
    "        if  gender == 'male':\n",
    "            correct_male += 1\n",
    "        else:\n",
    "            correct_female += 1\n",
    "    else: # wrong prediction\n",
    "        if gender == 'male':\n",
    "            wrong_male += 1\n",
    "        else:\n",
    "            wrong_female += 1\n",
    "array = np.array([[wrong_male,wrong_female],[correct_male,correct_female]])\n",
    "df = pd.DataFrame(array,['wrong','correct'],['male','female'])\n",
    "sn.set(font_scale=1.4) # for label size\n",
    "sn.heatmap(df, annot=True, annot_kws={\"size\": 16}) # font size\n",
    "plt.show()"
   ]
  },
  {
   "cell_type": "markdown",
   "metadata": {},
   "source": [
    "# Plot loss"
   ]
  },
  {
   "cell_type": "code",
   "execution_count": 28,
   "metadata": {},
   "outputs": [
    {
     "data": {
      "text/plain": [
       "<matplotlib.legend.Legend at 0x7f171290d750>"
      ]
     },
     "execution_count": 28,
     "metadata": {},
     "output_type": "execute_result"
    },
    {
     "data": {
      "image/png": "[encoded data removed]",
      "text/plain": [
       "<Figure size 432x288 with 1 Axes>"
      ]
     },
     "metadata": {},
     "output_type": "display_data"
    }
   ],
   "source": [
    "plt.plot(losses,'b')\n",
    "plt.plot(val_losses,'r')\n",
    "plt.legend(['train loss','val loss'])"
   ]
  }
 ],
 "metadata": {
  "kernelspec": {
   "display_name": "Python 3",
   "language": "python",
   "name": "python3"
  },
  "language_info": {
   "codemirror_mode": {
    "name": "ipython",
    "version": 3
   },
   "file_extension": ".py",
   "mimetype": "text/x-python",
   "name": "python",
   "nbconvert_exporter": "python",
   "pygments_lexer": "ipython3",
   "version": "3.7.4"
  }
 },
 "nbformat": 4,
 "nbformat_minor": 4
}
