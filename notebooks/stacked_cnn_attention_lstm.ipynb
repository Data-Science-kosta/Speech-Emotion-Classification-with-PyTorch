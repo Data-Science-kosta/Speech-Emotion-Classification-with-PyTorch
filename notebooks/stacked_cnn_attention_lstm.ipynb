{
 "cells": [
  {
   "cell_type": "markdown",
   "metadata": {},
   "source": [
    "# LOAD DATA "
   ]
  },
  {
   "cell_type": "code",
   "execution_count": 1,
   "metadata": {
    "_cell_guid": "b1076dfc-b9ad-4769-8c92-a6c4dae69d19",
    "_uuid": "8f2839f25d086af736a60e9eeb907d3b93b6e0e5"
   },
   "outputs": [],
   "source": [
    "# This Python 3 environment comes with many helpful analytics libraries installed\n",
    "# It is defined by the kaggle/python Docker image: https://github.com/kaggle/docker-python\n",
    "# For example, here's several helpful packages to load\n",
    "\n",
    "import numpy as np\n",
    "import pandas as pd\n",
    "import os\n",
    "import librosa\n",
    "import librosa.display\n",
    "import IPython\n",
    "from IPython.display import Audio\n",
    "from IPython.display import Image\n",
    "import matplotlib.pyplot as plt\n",
    "\n",
    "EMOTIONS = {1:'neutral', 2:'calm', 3:'happy', 4:'sad', 5:'angry', 6:'fear', 7:'disgust', 0:'surprise'} # surprise je promenjen sa 8 na 0\n",
    "DATA_PATH = '../input/ravdess-emotional-speech-audio/audio_speech_actors_01-24/'\n",
    "SAMPLE_RATE = 48000\n",
    "\n",
    "data = pd.DataFrame(columns=['Emotion', 'Emotion intensity', 'Gender','Path'])\n",
    "for dirname, _, filenames in os.walk(DATA_PATH):\n",
    "    for filename in filenames:\n",
    "        file_path = os.path.join('/kaggle/input/',dirname, filename)\n",
    "        identifiers = filename.split('.')[0].split('-')\n",
    "        emotion = (int(identifiers[2]))\n",
    "        if emotion == 8: # promeni surprise sa 8 na 0\n",
    "            emotion = 0\n",
    "        if int(identifiers[3]) == 1:\n",
    "            emotion_intensity = 'normal' \n",
    "        else:\n",
    "            emotion_intensity = 'strong'\n",
    "        if int(identifiers[6])%2 == 0:\n",
    "            gender = 'female'\n",
    "        else:\n",
    "            gender = 'male'\n",
    "        \n",
    "        data = data.append({\"Emotion\": emotion,\n",
    "                            \"Emotion intensity\": emotion_intensity,\n",
    "                            \"Gender\": gender,\n",
    "                            \"Path\": file_path\n",
    "                             },\n",
    "                             ignore_index = True\n",
    "                          )\n",
    "# You can write up to 5GB to the current directory (/kaggle/working/) that gets preserved as output when you create a version using \"Save & Run All\" \n",
    "# You can also write temporary files to /kaggle/temp/, but they won't be saved outside of the current session"
   ]
  },
  {
   "cell_type": "code",
   "execution_count": 2,
   "metadata": {
    "_cell_guid": "79c7e3d0-c299-4dcb-8224-4455121ee9b0",
    "_uuid": "d629ff2d2480ee46fbb7e2d37f6b5fab8052498a"
   },
   "outputs": [
    {
     "name": "stdout",
     "output_type": "stream",
     "text": [
      "number of files is 1440\n"
     ]
    },
    {
     "data": {
      "text/html": [
       "<div>\n",
       "<style scoped>\n",
       "    .dataframe tbody tr th:only-of-type {\n",
       "        vertical-align: middle;\n",
       "    }\n",
       "\n",
       "    .dataframe tbody tr th {\n",
       "        vertical-align: top;\n",
       "    }\n",
       "\n",
       "    .dataframe thead th {\n",
       "        text-align: right;\n",
       "    }\n",
       "</style>\n",
       "<table border=\"1\" class=\"dataframe\">\n",
       "  <thead>\n",
       "    <tr style=\"text-align: right;\">\n",
       "      <th></th>\n",
       "      <th>Emotion</th>\n",
       "      <th>Emotion intensity</th>\n",
       "      <th>Gender</th>\n",
       "      <th>Path</th>\n",
       "    </tr>\n",
       "  </thead>\n",
       "  <tbody>\n",
       "    <tr>\n",
       "      <th>0</th>\n",
       "      <td>5</td>\n",
       "      <td>strong</td>\n",
       "      <td>male</td>\n",
       "      <td>/kaggle/input/../input/ravdess-emotional-speec...</td>\n",
       "    </tr>\n",
       "    <tr>\n",
       "      <th>1</th>\n",
       "      <td>7</td>\n",
       "      <td>normal</td>\n",
       "      <td>male</td>\n",
       "      <td>/kaggle/input/../input/ravdess-emotional-speec...</td>\n",
       "    </tr>\n",
       "    <tr>\n",
       "      <th>2</th>\n",
       "      <td>0</td>\n",
       "      <td>normal</td>\n",
       "      <td>male</td>\n",
       "      <td>/kaggle/input/../input/ravdess-emotional-speec...</td>\n",
       "    </tr>\n",
       "    <tr>\n",
       "      <th>3</th>\n",
       "      <td>3</td>\n",
       "      <td>strong</td>\n",
       "      <td>male</td>\n",
       "      <td>/kaggle/input/../input/ravdess-emotional-speec...</td>\n",
       "    </tr>\n",
       "    <tr>\n",
       "      <th>4</th>\n",
       "      <td>1</td>\n",
       "      <td>normal</td>\n",
       "      <td>male</td>\n",
       "      <td>/kaggle/input/../input/ravdess-emotional-speec...</td>\n",
       "    </tr>\n",
       "  </tbody>\n",
       "</table>\n",
       "</div>"
      ],
      "text/plain": [
       "  Emotion Emotion intensity Gender  \\\n",
       "0       5            strong   male   \n",
       "1       7            normal   male   \n",
       "2       0            normal   male   \n",
       "3       3            strong   male   \n",
       "4       1            normal   male   \n",
       "\n",
       "                                                Path  \n",
       "0  /kaggle/input/../input/ravdess-emotional-speec...  \n",
       "1  /kaggle/input/../input/ravdess-emotional-speec...  \n",
       "2  /kaggle/input/../input/ravdess-emotional-speec...  \n",
       "3  /kaggle/input/../input/ravdess-emotional-speec...  \n",
       "4  /kaggle/input/../input/ravdess-emotional-speec...  "
      ]
     },
     "execution_count": 2,
     "metadata": {},
     "output_type": "execute_result"
    }
   ],
   "source": [
    "print(\"number of files is {}\".format(len(data)))\n",
    "data.head()"
   ]
  },
  {
   "cell_type": "markdown",
   "metadata": {},
   "source": [
    "number of examples per emotion"
   ]
  },
  {
   "cell_type": "code",
   "execution_count": 3,
   "metadata": {},
   "outputs": [
    {
     "data": {
      "text/plain": [
       "Text(0, 0.5, 'Number of examples')"
      ]
     },
     "execution_count": 3,
     "metadata": {},
     "output_type": "execute_result"
    },
    {
     "data": {
      "image/png": "[encoded data removed]",
      "text/plain": [
       "<Figure size 432x288 with 1 Axes>"
      ]
     },
     "metadata": {
      "needs_background": "light"
     },
     "output_type": "display_data"
    }
   ],
   "source": [
    "fig = plt.figure()\n",
    "ax = fig.add_subplot(111)\n",
    "ax.bar(x=range(8), height=data['Emotion'].value_counts())\n",
    "ax.set_xticks(ticks=range(8))\n",
    "ax.set_xticklabels([EMOTIONS[i] for i in range(8)],fontsize=10)\n",
    "ax.set_xlabel('Emotions')\n",
    "ax.set_ylabel('Number of examples')"
   ]
  },
  {
   "cell_type": "markdown",
   "metadata": {},
   "source": [
    "number of examples per gender"
   ]
  },
  {
   "cell_type": "code",
   "execution_count": 4,
   "metadata": {},
   "outputs": [
    {
     "data": {
      "text/plain": [
       "Text(0, 0.5, 'Number of examples')"
      ]
     },
     "execution_count": 4,
     "metadata": {},
     "output_type": "execute_result"
    },
    {
     "data": {
      "image/png": "[encoded data removed]",
      "text/plain": [
       "<Figure size 432x288 with 1 Axes>"
      ]
     },
     "metadata": {
      "needs_background": "light"
     },
     "output_type": "display_data"
    }
   ],
   "source": [
    "fig = plt.figure()\n",
    "ax = fig.add_subplot(111)\n",
    "counts = data['Gender'].value_counts()\n",
    "ax.bar(x=[0,1], height=counts.values)\n",
    "ax.set_xticks(ticks=[0,1])\n",
    "ax.set_xticklabels(list(counts.index))\n",
    "ax.set_xlabel('Gender')\n",
    "ax.set_ylabel('Number of examples')"
   ]
  },
  {
   "cell_type": "markdown",
   "metadata": {},
   "source": [
    "number of examples per emotion intensity"
   ]
  },
  {
   "cell_type": "code",
   "execution_count": 5,
   "metadata": {},
   "outputs": [
    {
     "data": {
      "text/plain": [
       "Text(0, 0.5, 'Number of examples')"
      ]
     },
     "execution_count": 5,
     "metadata": {},
     "output_type": "execute_result"
    },
    {
     "data": {
      "image/png": "[encoded data removed]",
      "text/plain": [
       "<Figure size 432x288 with 1 Axes>"
      ]
     },
     "metadata": {
      "needs_background": "light"
     },
     "output_type": "display_data"
    }
   ],
   "source": [
    "fig = plt.figure()\n",
    "ax = fig.add_subplot(111)\n",
    "counts = data['Emotion intensity'].value_counts()\n",
    "ax.bar(x=[0,1], height=counts.values)\n",
    "ax.set_xticks(ticks=[0,1])\n",
    "ax.set_xticklabels(list(counts.index))\n",
    "ax.set_xlabel('Gender')\n",
    "ax.set_ylabel('Number of examples')"
   ]
  },
  {
   "cell_type": "markdown",
   "metadata": {},
   "source": [
    "# CALCULATE MEL SPECTROGRAM"
   ]
  },
  {
   "cell_type": "code",
   "execution_count": 6,
   "metadata": {},
   "outputs": [
    {
     "name": "stdout",
     "output_type": "stream",
     "text": [
      "MEL spectrogram shape:  (128, 563)\n"
     ]
    },
    {
     "data": {
      "image/png": "[encoded data removed]",
      "text/plain": [
       "<Figure size 432x288 with 1 Axes>"
      ]
     },
     "metadata": {
      "needs_background": "light"
     },
     "output_type": "display_data"
    }
   ],
   "source": [
    "def getMELspectrogram(audio, sample_rate):\n",
    "    mel_spec = librosa.feature.melspectrogram(y=audio,\n",
    "                                              sr=sample_rate,\n",
    "                                              n_fft=1024,\n",
    "                                              win_length = 512,\n",
    "                                              window='hamming',\n",
    "                                              hop_length = 256,\n",
    "                                              n_mels=128,\n",
    "                                              fmax=sample_rate/2\n",
    "                                             )\n",
    "    mel_spec_db = librosa.power_to_db(mel_spec, ref=np.max)\n",
    "    return mel_spec_db\n",
    "\n",
    "# test function\n",
    "audio, sample_rate = librosa.load(data.loc[0,'Path'], duration=3, offset=0.5,sr=SAMPLE_RATE)\n",
    "signal = np.zeros((int(SAMPLE_RATE*3,)))\n",
    "signal[:len(audio)] = audio\n",
    "mel_spectrogram = getMELspectrogram(signal, SAMPLE_RATE)\n",
    "librosa.display.specshow(mel_spectrogram, y_axis='mel', x_axis='time')\n",
    "print('MEL spectrogram shape: ',mel_spectrogram.shape)"
   ]
  },
  {
   "cell_type": "markdown",
   "metadata": {},
   "source": [
    "calculate mel spectrograms for all audio files (this can take few minutes to execute)"
   ]
  },
  {
   "cell_type": "code",
   "execution_count": 11,
   "metadata": {},
   "outputs": [
    {
     "name": "stdout",
     "output_type": "stream",
     "text": [
      " Processed 1439/1440 files"
     ]
    }
   ],
   "source": [
    "mel_spectrograms = []\n",
    "signals = []\n",
    "for i, file_path in enumerate(data.Path):\n",
    "    audio, sample_rate = librosa.load(file_path, duration=3, offset=0.5, sr=SAMPLE_RATE)\n",
    "    signal = np.zeros((int(SAMPLE_RATE*3,)))\n",
    "    signal[:len(audio)] = audio\n",
    "    signals.append(signal)\n",
    "    mel_spectrogram = getMELspectrogram(signal, sample_rate=SAMPLE_RATE)\n",
    "    mel_spectrograms.append(mel_spectrogram)\n",
    "    print(\"\\r Processed {}/{} files\".format(i,len(data)),end='')"
   ]
  },
  {
   "cell_type": "markdown",
   "metadata": {},
   "source": [
    "augment signals (by adding AWGN) and calculate mel spectrograms"
   ]
  },
  {
   "cell_type": "code",
   "execution_count": 12,
   "metadata": {},
   "outputs": [],
   "source": [
    "def addAWGN(signal, num_bits=16, augmented_num=2, snr_low=15, snr_high=30): \n",
    "    signal_len = len(signal)\n",
    "    # Generate White Gaussian noise\n",
    "    noise = np.random.normal(size=(augmented_num, signal_len))\n",
    "    # Normalize signal and noise\n",
    "    norm_constant = 2.0**(num_bits-1)\n",
    "    signal_norm = signal / norm_constant\n",
    "    noise_norm = noise / norm_constant\n",
    "    # Compute signal and noise power\n",
    "    s_power = np.sum(signal_norm ** 2) / signal_len\n",
    "    n_power = np.sum(noise_norm ** 2, axis=1) / signal_len\n",
    "    # Random SNR: Uniform [15, 30] in dB\n",
    "    target_snr = np.random.randint(snr_low, snr_high)\n",
    "    # Compute K (covariance matrix) for each noise \n",
    "    K = np.sqrt((s_power / n_power) * 10 ** (- target_snr / 10))\n",
    "    K = np.ones((signal_len, augmented_num)) * K  \n",
    "    # Generate noisy signal\n",
    "    return signal + K.T * noise"
   ]
  },
  {
   "cell_type": "code",
   "execution_count": 13,
   "metadata": {},
   "outputs": [
    {
     "name": "stdout",
     "output_type": "stream",
     "text": [
      " Processed 1439/1440 files"
     ]
    }
   ],
   "source": [
    "for i,signal in enumerate(signals):\n",
    "    augmented_signals = addAWGN(signal)\n",
    "    for j in range(augmented_signals.shape[0]):\n",
    "        mel_spectrogram = getMELspectrogram(augmented_signals[j,:], sample_rate=SAMPLE_RATE)\n",
    "        mel_spectrograms.append(mel_spectrogram)\n",
    "        data = data.append(data.iloc[i], ignore_index=True)\n",
    "    print(\"\\r Processed {}/{} files\".format(i,len(signals)),end='')"
   ]
  },
  {
   "cell_type": "markdown",
   "metadata": {},
   "source": [
    "# SPLIT SPECTROGRAM INTO CHUNKS"
   ]
  },
  {
   "cell_type": "code",
   "execution_count": 14,
   "metadata": {},
   "outputs": [],
   "source": [
    "def splitIntoChunks(mel_spec,win_size,stride):\n",
    "    t = mel_spec.shape[1]\n",
    "    num_of_chunks = int(t/stride)\n",
    "    chunks = []\n",
    "    for i in range(num_of_chunks):\n",
    "        chunk = mel_spec[:,i*stride:i*stride+win_size]\n",
    "        if chunk.shape[1] == win_size:\n",
    "            chunks.append(chunk)\n",
    "    return np.stack(chunks,axis=0)"
   ]
  },
  {
   "cell_type": "code",
   "execution_count": 15,
   "metadata": {},
   "outputs": [
    {
     "name": "stdout",
     "output_type": "stream",
     "text": [
      "Number of chunks is 7\n"
     ]
    }
   ],
   "source": [
    "# get chunks\n",
    "mel_spectrograms_chunked = []\n",
    "for mel_spec in mel_spectrograms:\n",
    "    chunks = splitIntoChunks(mel_spec, win_size=128,stride=64)\n",
    "    mel_spectrograms_chunked.append(chunks)\n",
    "print(\"Number of chunks is {}\".format(chunks.shape[0]))"
   ]
  },
  {
   "cell_type": "markdown",
   "metadata": {},
   "source": [
    "# CREATE MODEL"
   ]
  },
  {
   "cell_type": "code",
   "execution_count": 16,
   "metadata": {},
   "outputs": [],
   "source": [
    "import torch\n",
    "import torch.nn as nn\n",
    "# BATCH FIRST TimeDistributed layer\n",
    "class TimeDistributed(nn.Module):\n",
    "    def __init__(self, module):\n",
    "        super(TimeDistributed, self).__init__()\n",
    "        self.module = module\n",
    "\n",
    "    def forward(self, x):\n",
    "\n",
    "        if x.ndim <= 2:\n",
    "            return self.module(x)\n",
    "        # squash samples and timesteps into a single axis\n",
    "        elif x.ndim == 3: # (samples, timesteps, inp1)\n",
    "            x_reshape = x.contiguous().view(-1, x.size(2))  # (samples * timesteps, inp1)\n",
    "        elif x.ndim == 4: # (samples,timesteps,inp1,inp2)\n",
    "            x_reshape = x.contiguous().view(-1, x.size(2), x.size(3)) # (samples*timesteps,inp1,inp2)\n",
    "        else: # (samples,timesteps,inp1,inp2,inp3)\n",
    "            x_reshape = x.contiguous().view(-1, x.size(2), x.size(3),x.size(4)) # (samples*timesteps,inp1,inp2,inp3)\n",
    "            \n",
    "        y = self.module(x_reshape)\n",
    "        \n",
    "        # we have to reshape Y\n",
    "        if x.ndim == 3:\n",
    "            y = y.contiguous().view(x.size(0), -1, y.size(1))  # (samples, timesteps, out1)\n",
    "        elif x.ndim == 4:\n",
    "            y = y.contiguous().view(x.size(0), -1, y.size(1), y.size(2)) # (samples, timesteps, out1,out2)\n",
    "        else:\n",
    "            y = y.contiguous().view(x.size(0), -1, y.size(1), y.size(2),y.size(3)) # (samples, timesteps, out1,out2, out3)\n",
    "        return y"
   ]
  },
  {
   "cell_type": "code",
   "execution_count": 17,
   "metadata": {},
   "outputs": [],
   "source": [
    "class HybridModel(nn.Module):\n",
    "    def __init__(self,num_emotions):\n",
    "        super().__init__()\n",
    "        # conv block\n",
    "        self.conv2Dblock = nn.Sequential(\n",
    "            # 1. conv block\n",
    "            TimeDistributed(nn.Conv2d(in_channels=1,\n",
    "                                   out_channels=16,\n",
    "                                   kernel_size=3,\n",
    "                                   stride=1,\n",
    "                                   padding=1\n",
    "                                  )),\n",
    "            TimeDistributed(nn.BatchNorm2d(16)),\n",
    "            TimeDistributed(nn.ReLU()),\n",
    "            TimeDistributed(nn.MaxPool2d(kernel_size=2, stride=2)),\n",
    "            TimeDistributed(nn.Dropout(p=0.3)),\n",
    "            # 2. conv block\n",
    "            TimeDistributed(nn.Conv2d(in_channels=16,\n",
    "                                   out_channels=32,\n",
    "                                   kernel_size=3,\n",
    "                                   stride=1,\n",
    "                                   padding=1\n",
    "                                  )),\n",
    "            TimeDistributed(nn.BatchNorm2d(32)),\n",
    "            TimeDistributed(nn.ReLU()),\n",
    "            TimeDistributed(nn.MaxPool2d(kernel_size=4, stride=4)),\n",
    "            TimeDistributed(nn.Dropout(p=0.3)),\n",
    "            # 3. conv block\n",
    "            TimeDistributed(nn.Conv2d(in_channels=32,\n",
    "                                   out_channels=64,\n",
    "                                   kernel_size=3,\n",
    "                                   stride=1,\n",
    "                                   padding=1\n",
    "                                  )),\n",
    "            TimeDistributed(nn.BatchNorm2d(64)),\n",
    "            TimeDistributed(nn.ReLU()),\n",
    "            TimeDistributed(nn.MaxPool2d(kernel_size=4, stride=4)),\n",
    "            TimeDistributed(nn.Dropout(p=0.3))\n",
    "        )\n",
    "        # LSTM block\n",
    "        hidden_size = 64\n",
    "        self.lstm = nn.LSTM(input_size=1024,hidden_size=hidden_size,bidirectional=True, batch_first=True)\n",
    "        self.dropout_lstm = nn.Dropout(p=0.4)\n",
    "        self.attention_linear = nn.Linear(2*hidden_size,1) # 2*hidden_size for the 2 outputs of bidir LSTM\n",
    "        # Linear softmax layer\n",
    "        self.out_linear = nn.Linear(2*hidden_size,num_emotions)\n",
    "    def forward(self,x):\n",
    "        conv_embedding = self.conv2Dblock(x)\n",
    "        conv_embedding = torch.flatten(conv_embedding, start_dim=2) # do not flatten batch dimension and time\n",
    "        lstm_embedding, (h,c) = self.lstm(conv_embedding)\n",
    "        lstm_embedding = self.dropout_lstm(lstm_embedding)\n",
    "        # lstm_embedding (batch, time, hidden_size*2)\n",
    "        batch_size,T,_ = lstm_embedding.shape \n",
    "        attention_weights = [None]*T\n",
    "        for t in range(T):\n",
    "            embedding = lstm_embedding[:,t,:]\n",
    "            attention_weights[t] = self.attention_linear(embedding)\n",
    "        attention_weights_norm = nn.functional.softmax(torch.stack(attention_weights,-1),dim=-1)\n",
    "        attention = torch.bmm(attention_weights_norm,lstm_embedding) # (Bx1xT)*(B,T,hidden_size*2)=(B,1,2*hidden_size)\n",
    "        attention = torch.squeeze(attention, 1)\n",
    "        output_logits = self.out_linear(attention)\n",
    "        output_softmax = nn.functional.softmax(output_logits,dim=1)\n",
    "        return output_logits, output_softmax, attention_weights_norm\n",
    "                                     "
   ]
  },
  {
   "cell_type": "code",
   "execution_count": 18,
   "metadata": {},
   "outputs": [],
   "source": [
    "def loss_fnc(predictions, targets):\n",
    "    return nn.CrossEntropyLoss()(input=predictions,target=targets)"
   ]
  },
  {
   "cell_type": "markdown",
   "metadata": {},
   "source": [
    "# TRAINING"
   ]
  },
  {
   "cell_type": "code",
   "execution_count": 19,
   "metadata": {},
   "outputs": [],
   "source": [
    "def make_train_step(model, loss_fnc, optimizer):\n",
    "    def train_step(X,Y):\n",
    "        # set model to train mode\n",
    "        model.train()\n",
    "        # forward pass\n",
    "        output_logits, output_softmax, attention_weights_norm = model(X)\n",
    "        predictions = torch.argmax(output_softmax,dim=1)\n",
    "        accuracy = torch.sum(Y==predictions)/float(len(Y))\n",
    "        # compute loss\n",
    "        loss = loss_fnc(output_logits, Y)\n",
    "        # compute gradients\n",
    "        loss.backward()\n",
    "        # update parameters and zero gradients\n",
    "        optimizer.step()\n",
    "        optimizer.zero_grad()\n",
    "        return loss.item(), accuracy*100\n",
    "    return train_step"
   ]
  },
  {
   "cell_type": "code",
   "execution_count": 20,
   "metadata": {},
   "outputs": [],
   "source": [
    "def make_validate_fnc(model,loss_fnc):\n",
    "    def validate(X,Y):\n",
    "        with torch.no_grad():\n",
    "            model.eval()\n",
    "            output_logits, output_softmax, attention_weights_norm = model(X)\n",
    "            predictions = torch.argmax(output_softmax,dim=1)\n",
    "            accuracy = torch.sum(Y==predictions)/float(len(Y))\n",
    "            loss = loss_fnc(output_logits,Y)\n",
    "        return loss.item(), accuracy*100, predictions\n",
    "    return validate"
   ]
  },
  {
   "cell_type": "markdown",
   "metadata": {},
   "source": [
    "stack data"
   ]
  },
  {
   "cell_type": "code",
   "execution_count": 21,
   "metadata": {},
   "outputs": [
    {
     "name": "stdout",
     "output_type": "stream",
     "text": [
      "Shape of data:  (4320, 7, 1, 128, 128)\n"
     ]
    }
   ],
   "source": [
    "X = np.stack(mel_spectrograms_chunked,axis=0)\n",
    "X = np.expand_dims(X,2)\n",
    "print('Shape of data: ',X.shape)\n",
    "\n",
    "del mel_spectrograms\n",
    "del mel_spectrograms_chunked\n",
    "del signals"
   ]
  },
  {
   "cell_type": "markdown",
   "metadata": {},
   "source": [
    "split data: (train,val,test) --> (80%,10%,10%) proportionaly for each emotion (class) "
   ]
  },
  {
   "cell_type": "code",
   "execution_count": 22,
   "metadata": {},
   "outputs": [
    {
     "name": "stdout",
     "output_type": "stream",
     "text": [
      "X_train:(3450, 7, 1, 128, 128), Y_train:(3450,)\n",
      "X_val:(435, 7, 1, 128, 128), Y_val:(435,)\n",
      "X_test:(435, 7, 1, 128, 128), Y_test:(435,)\n",
      "Number of unique indexes is 4320, out of 4320\n"
     ]
    }
   ],
   "source": [
    "train_ind,test_ind,val_ind = [],[],[]\n",
    "X_train,X_val,X_test = [],[],[]\n",
    "Y_train,Y_val,Y_test = [],[],[]\n",
    "for emotion in range(len(EMOTIONS)):\n",
    "    emotion_ind = list(data.loc[data.Emotion==emotion,'Emotion'].index)\n",
    "    emotion_ind = np.random.permutation(emotion_ind)\n",
    "    m = len(emotion_ind)\n",
    "    ind_train = emotion_ind[:int(0.8*m)]\n",
    "    ind_val = emotion_ind[int(0.8*m):int(0.9*m)]\n",
    "    ind_test = emotion_ind[int(0.9*m):]\n",
    "    X_train.append(X[ind_train,:,:,:])\n",
    "    Y_train.append(np.array([emotion]*len(ind_train),dtype=np.int32))\n",
    "    X_val.append(X[ind_val,:,:,:])\n",
    "    Y_val.append(np.array([emotion]*len(ind_val),dtype=np.int32))\n",
    "    X_test.append(X[ind_test,:,:,:])\n",
    "    Y_test.append(np.array([emotion]*len(ind_test),dtype=np.int32))\n",
    "    train_ind.append(ind_train)\n",
    "    test_ind.append(ind_test)\n",
    "    val_ind.append(ind_val)\n",
    "X_train = np.concatenate(X_train,0)\n",
    "X_val = np.concatenate(X_val,0)\n",
    "X_test = np.concatenate(X_test,0)\n",
    "Y_train = np.concatenate(Y_train,0)\n",
    "Y_val = np.concatenate(Y_val,0)\n",
    "Y_test = np.concatenate(Y_test,0)\n",
    "train_ind = np.concatenate(train_ind,0)\n",
    "val_ind = np.concatenate(val_ind,0)\n",
    "test_ind = np.concatenate(test_ind,0)\n",
    "print(f'X_train:{X_train.shape}, Y_train:{Y_train.shape}')\n",
    "print(f'X_val:{X_val.shape}, Y_val:{Y_val.shape}')\n",
    "print(f'X_test:{X_test.shape}, Y_test:{Y_test.shape}')\n",
    "# check if all are unique\n",
    "unique, count = np.unique(np.concatenate([train_ind,test_ind,val_ind],0), return_counts=True)\n",
    "print(\"Number of unique indexes is {}, out of {}\".format(sum(count==1), X.shape[0]))\n",
    "\n",
    "del X"
   ]
  },
  {
   "cell_type": "markdown",
   "metadata": {},
   "source": [
    "scale data"
   ]
  },
  {
   "cell_type": "code",
   "execution_count": 23,
   "metadata": {},
   "outputs": [],
   "source": [
    "from sklearn.preprocessing import StandardScaler\n",
    "\n",
    "scaler = StandardScaler()\n",
    "\n",
    "b,t,c,h,w = X_train.shape\n",
    "X_train = np.reshape(X_train, newshape=(b,-1))\n",
    "X_train = scaler.fit_transform(X_train)\n",
    "X_train = np.reshape(X_train, newshape=(b,t,c,h,w))\n",
    "\n",
    "b,t,c,h,w = X_test.shape\n",
    "X_test = np.reshape(X_test, newshape=(b,-1))\n",
    "X_test = scaler.transform(X_test)\n",
    "X_test = np.reshape(X_test, newshape=(b,t,c,h,w))\n",
    "\n",
    "b,t,c,h,w = X_val.shape\n",
    "X_val = np.reshape(X_val, newshape=(b,-1))\n",
    "X_val = scaler.transform(X_val)\n",
    "X_val = np.reshape(X_val, newshape=(b,t,c,h,w))"
   ]
  },
  {
   "cell_type": "markdown",
   "metadata": {},
   "source": [
    "train the model"
   ]
  },
  {
   "cell_type": "code",
   "execution_count": 24,
   "metadata": {},
   "outputs": [
    {
     "name": "stdout",
     "output_type": "stream",
     "text": [
      "Selected device is cuda\n",
      "Number of trainable params:  582761\n",
      " Epoch 0: iteration 106/107\n",
      "Epoch 0 --> loss:2.0453, acc:15.59%, val_loss:2.0475, val_acc:19.08%\n",
      " Epoch 1: iteration 106/107\n",
      "Epoch 1 --> loss:1.9933, acc:21.01%, val_loss:2.0102, val_acc:22.07%\n",
      " Epoch 2: iteration 106/107\n",
      "Epoch 2 --> loss:1.8992, acc:26.78%, val_loss:1.8275, val_acc:28.97%\n",
      " Epoch 3: iteration 106/107\n",
      "Epoch 3 --> loss:1.8007, acc:31.19%, val_loss:1.8086, val_acc:32.64%\n",
      " Epoch 4: iteration 106/107\n",
      "Epoch 4 --> loss:1.7387, acc:33.13%, val_loss:1.6877, val_acc:34.25%\n",
      " Epoch 5: iteration 106/107\n",
      "Epoch 5 --> loss:1.7053, acc:34.38%, val_loss:1.6555, val_acc:38.16%\n",
      " Epoch 6: iteration 106/107\n",
      "Epoch 6 --> loss:1.6632, acc:35.48%, val_loss:1.5735, val_acc:42.76%\n",
      " Epoch 7: iteration 106/107\n",
      "Epoch 7 --> loss:1.6267, acc:37.68%, val_loss:1.6193, val_acc:40.23%\n",
      " Epoch 8: iteration 106/107\n",
      "Epoch 8 --> loss:1.5931, acc:37.77%, val_loss:1.5405, val_acc:43.68%\n",
      " Epoch 9: iteration 106/107\n",
      "Epoch 9 --> loss:1.5606, acc:40.55%, val_loss:1.4979, val_acc:45.75%\n",
      " Epoch 10: iteration 106/107\n",
      "Epoch 10 --> loss:1.5375, acc:40.87%, val_loss:1.6199, val_acc:43.22%\n",
      " Epoch 11: iteration 106/107\n",
      "Epoch 11 --> loss:1.5109, acc:41.80%, val_loss:1.5154, val_acc:44.60%\n",
      " Epoch 12: iteration 106/107\n",
      "Epoch 12 --> loss:1.4761, acc:43.57%, val_loss:1.4286, val_acc:48.05%\n",
      " Epoch 13: iteration 106/107\n",
      "Epoch 13 --> loss:1.4605, acc:43.62%, val_loss:1.4778, val_acc:45.52%\n",
      " Epoch 14: iteration 106/107\n",
      "Epoch 14 --> loss:1.4103, acc:46.35%, val_loss:1.3769, val_acc:46.44%\n",
      " Epoch 15: iteration 106/107\n",
      "Epoch 15 --> loss:1.4216, acc:44.78%, val_loss:1.2762, val_acc:50.57%\n",
      " Epoch 16: iteration 106/107\n",
      "Epoch 16 --> loss:1.3894, acc:46.64%, val_loss:1.3655, val_acc:47.59%\n",
      " Epoch 17: iteration 106/107\n",
      "Epoch 17 --> loss:1.3536, acc:47.65%, val_loss:1.3556, val_acc:49.66%\n",
      " Epoch 18: iteration 106/107\n",
      "Epoch 18 --> loss:1.3301, acc:48.99%, val_loss:1.3554, val_acc:49.43%\n",
      " Epoch 19: iteration 106/107\n",
      "Epoch 19 --> loss:1.3224, acc:47.91%, val_loss:1.3757, val_acc:49.43%\n",
      " Epoch 20: iteration 106/107\n",
      "Epoch 20 --> loss:1.2942, acc:49.97%, val_loss:1.2854, val_acc:51.03%\n",
      " Epoch 21: iteration 106/107\n",
      "Epoch 21 --> loss:1.2657, acc:52.20%, val_loss:1.3568, val_acc:49.89%\n",
      " Epoch 22: iteration 106/107\n",
      "Epoch 22 --> loss:1.2373, acc:51.65%, val_loss:1.2329, val_acc:52.41%\n",
      " Epoch 23: iteration 106/107\n",
      "Epoch 23 --> loss:1.2339, acc:51.80%, val_loss:1.2965, val_acc:51.49%\n",
      " Epoch 24: iteration 106/107\n",
      "Epoch 24 --> loss:1.1959, acc:53.48%, val_loss:1.2148, val_acc:55.40%\n",
      " Epoch 25: iteration 106/107\n",
      "Epoch 25 --> loss:1.1751, acc:54.67%, val_loss:1.2425, val_acc:55.86%\n",
      " Epoch 26: iteration 106/107\n",
      "Epoch 26 --> loss:1.1546, acc:55.13%, val_loss:1.2295, val_acc:54.71%\n",
      " Epoch 27: iteration 106/107\n",
      "Epoch 27 --> loss:1.1303, acc:56.09%, val_loss:1.0948, val_acc:60.00%\n",
      " Epoch 28: iteration 106/107\n",
      "Epoch 28 --> loss:1.1020, acc:57.39%, val_loss:1.2684, val_acc:54.25%\n",
      " Epoch 29: iteration 106/107\n",
      "Epoch 29 --> loss:1.0934, acc:57.80%, val_loss:1.3648, val_acc:52.18%\n",
      " Epoch 30: iteration 106/107\n",
      "Epoch 30 --> loss:1.0799, acc:58.81%, val_loss:1.3100, val_acc:51.03%\n",
      " Epoch 31: iteration 106/107\n",
      "Epoch 31 --> loss:1.0497, acc:60.26%, val_loss:1.0597, val_acc:60.69%\n",
      " Epoch 32: iteration 106/107\n",
      "Epoch 32 --> loss:1.0157, acc:61.01%, val_loss:1.1043, val_acc:61.61%\n",
      " Epoch 33: iteration 106/107\n",
      "Epoch 33 --> loss:0.9983, acc:61.30%, val_loss:1.1644, val_acc:59.31%\n",
      " Epoch 34: iteration 106/107\n",
      "Epoch 34 --> loss:0.9842, acc:62.90%, val_loss:1.0735, val_acc:62.07%\n",
      " Epoch 35: iteration 106/107\n",
      "Epoch 35 --> loss:0.9533, acc:63.28%, val_loss:0.9685, val_acc:66.67%\n",
      " Epoch 36: iteration 106/107\n",
      "Epoch 36 --> loss:0.9397, acc:63.97%, val_loss:0.8939, val_acc:68.97%\n",
      " Epoch 37: iteration 106/107\n",
      "Epoch 37 --> loss:0.9330, acc:65.04%, val_loss:1.0376, val_acc:62.07%\n",
      " Epoch 38: iteration 106/107\n",
      "Epoch 38 --> loss:0.9016, acc:65.80%, val_loss:0.8533, val_acc:70.11%\n",
      " Epoch 39: iteration 106/107\n",
      "Epoch 39 --> loss:0.8742, acc:66.75%, val_loss:0.8295, val_acc:69.89%\n",
      " Epoch 40: iteration 106/107\n",
      "Epoch 40 --> loss:0.8393, acc:68.46%, val_loss:0.8622, val_acc:69.20%\n",
      " Epoch 41: iteration 106/107\n",
      "Epoch 41 --> loss:0.8209, acc:69.57%, val_loss:0.9806, val_acc:65.29%\n",
      " Epoch 42: iteration 106/107\n",
      "Epoch 42 --> loss:0.8083, acc:69.16%, val_loss:0.8296, val_acc:69.43%\n",
      " Epoch 43: iteration 106/107\n",
      "Epoch 43 --> loss:0.7900, acc:70.78%, val_loss:0.9941, val_acc:63.45%\n",
      " Epoch 44: iteration 106/107\n",
      "Epoch 44 --> loss:0.7461, acc:72.17%, val_loss:0.8671, val_acc:66.90%\n",
      " Epoch 45: iteration 106/107\n",
      "Epoch 45 --> loss:0.7504, acc:72.70%, val_loss:0.9543, val_acc:65.29%\n",
      " Epoch 46: iteration 106/107\n",
      "Epoch 46 --> loss:0.7197, acc:73.45%, val_loss:0.9768, val_acc:65.75%\n",
      " Epoch 47: iteration 106/107\n",
      "Epoch 47 --> loss:0.6990, acc:74.26%, val_loss:0.7498, val_acc:73.56%\n",
      " Epoch 48: iteration 106/107\n",
      "Epoch 48 --> loss:0.6750, acc:74.38%, val_loss:0.7649, val_acc:70.34%\n",
      " Epoch 49: iteration 106/107\n",
      "Epoch 49 --> loss:0.6781, acc:74.78%, val_loss:0.6756, val_acc:77.47%\n",
      " Epoch 50: iteration 106/107\n",
      "Epoch 50 --> loss:0.6305, acc:77.16%, val_loss:0.8454, val_acc:70.34%\n",
      " Epoch 51: iteration 106/107\n",
      "Epoch 51 --> loss:0.5956, acc:78.67%, val_loss:0.6476, val_acc:77.93%\n",
      " Epoch 52: iteration 106/107\n",
      "Epoch 52 --> loss:0.6015, acc:77.97%, val_loss:0.6901, val_acc:75.86%\n",
      " Epoch 53: iteration 106/107\n",
      "Epoch 53 --> loss:0.5631, acc:79.42%, val_loss:0.7282, val_acc:75.17%\n",
      " Epoch 54: iteration 106/107\n",
      "Epoch 54 --> loss:0.5688, acc:79.42%, val_loss:0.6795, val_acc:76.55%\n",
      " Epoch 55: iteration 106/107\n",
      "Epoch 55 --> loss:0.5324, acc:80.64%, val_loss:0.5869, val_acc:79.08%\n",
      " Epoch 56: iteration 106/107\n",
      "Epoch 56 --> loss:0.5064, acc:82.17%, val_loss:0.7119, val_acc:75.63%\n",
      " Epoch 57: iteration 106/107\n",
      "Epoch 57 --> loss:0.4853, acc:82.93%, val_loss:0.6222, val_acc:79.08%\n",
      " Epoch 58: iteration 106/107\n",
      "Epoch 58 --> loss:0.4840, acc:82.43%, val_loss:0.6661, val_acc:75.63%\n",
      " Epoch 59: iteration 106/107\n",
      "Epoch 59 --> loss:0.4642, acc:83.74%, val_loss:0.4370, val_acc:85.75%\n",
      " Epoch 60: iteration 106/107\n",
      "Epoch 60 --> loss:0.4601, acc:83.39%, val_loss:0.5135, val_acc:83.22%\n",
      " Epoch 61: iteration 106/107\n",
      "Epoch 61 --> loss:0.4316, acc:84.38%, val_loss:0.4748, val_acc:84.14%\n",
      " Epoch 62: iteration 106/107\n",
      "Epoch 62 --> loss:0.4152, acc:85.28%, val_loss:0.5099, val_acc:83.22%\n",
      " Epoch 63: iteration 106/107\n",
      "Epoch 63 --> loss:0.3950, acc:86.32%, val_loss:0.5877, val_acc:81.61%\n",
      " Epoch 64: iteration 106/107\n",
      "Epoch 64 --> loss:0.3767, acc:86.55%, val_loss:0.7009, val_acc:75.63%\n",
      " Epoch 65: iteration 106/107\n",
      "Epoch 65 --> loss:0.3851, acc:86.52%, val_loss:0.4050, val_acc:87.13%\n",
      " Epoch 66: iteration 106/107\n",
      "Epoch 66 --> loss:0.3779, acc:86.99%, val_loss:0.5266, val_acc:80.92%\n",
      " Epoch 67: iteration 106/107\n",
      "Epoch 67 --> loss:0.3387, acc:87.86%, val_loss:0.4474, val_acc:84.37%\n",
      " Epoch 68: iteration 106/107\n",
      "Epoch 68 --> loss:0.3400, acc:88.32%, val_loss:0.4816, val_acc:82.30%\n",
      " Epoch 69: iteration 106/107\n",
      "Epoch 69 --> loss:0.3495, acc:87.36%, val_loss:0.6154, val_acc:77.70%\n",
      " Epoch 70: iteration 106/107\n",
      "Epoch 70 --> loss:0.3232, acc:89.01%, val_loss:0.5145, val_acc:82.30%\n",
      " Epoch 71: iteration 106/107\n",
      "Epoch 71 --> loss:0.3154, acc:89.13%, val_loss:0.2716, val_acc:91.49%\n",
      " Epoch 72: iteration 106/107\n",
      "Epoch 72 --> loss:0.2964, acc:89.62%, val_loss:0.3377, val_acc:88.97%\n",
      " Epoch 73: iteration 106/107\n",
      "Epoch 73 --> loss:0.3040, acc:89.01%, val_loss:0.3549, val_acc:87.59%\n",
      " Epoch 74: iteration 106/107\n",
      "Epoch 74 --> loss:0.2808, acc:90.26%, val_loss:0.4629, val_acc:83.91%\n",
      " Epoch 75: iteration 106/107\n",
      "Epoch 75 --> loss:0.2697, acc:90.26%, val_loss:0.4977, val_acc:82.99%\n",
      " Epoch 76: iteration 106/107\n",
      "Epoch 76 --> loss:0.2783, acc:90.61%, val_loss:0.3817, val_acc:86.67%\n",
      " Epoch 77: iteration 106/107\n",
      "Epoch 77 --> loss:0.2409, acc:92.38%, val_loss:0.2563, val_acc:91.72%\n",
      " Epoch 78: iteration 106/107\n",
      "Epoch 78 --> loss:0.2719, acc:90.58%, val_loss:0.3466, val_acc:88.51%\n",
      " Epoch 79: iteration 106/107\n",
      "Epoch 79 --> loss:0.2391, acc:92.03%, val_loss:0.2172, val_acc:93.10%\n",
      " Epoch 80: iteration 106/107\n",
      "Epoch 80 --> loss:0.2189, acc:92.81%, val_loss:0.2711, val_acc:90.57%\n",
      " Epoch 81: iteration 106/107\n",
      "Epoch 81 --> loss:0.2480, acc:91.45%, val_loss:0.4230, val_acc:85.06%\n",
      " Epoch 82: iteration 106/107\n",
      "Epoch 82 --> loss:0.2084, acc:93.13%, val_loss:0.3002, val_acc:91.95%\n"
     ]
    },
    {
     "name": "stdout",
     "output_type": "stream",
     "text": [
      " Epoch 83: iteration 106/107\n",
      "Epoch 83 --> loss:0.2234, acc:92.55%, val_loss:0.2363, val_acc:92.64%\n",
      " Epoch 84: iteration 106/107\n",
      "Epoch 84 --> loss:0.2129, acc:92.52%, val_loss:0.2374, val_acc:92.18%\n",
      " Epoch 85: iteration 106/107\n",
      "Epoch 85 --> loss:0.2006, acc:93.45%, val_loss:0.2720, val_acc:90.11%\n",
      " Epoch 86: iteration 106/107\n",
      "Epoch 86 --> loss:0.2024, acc:92.99%, val_loss:0.2435, val_acc:92.64%\n",
      " Epoch 87: iteration 106/107\n",
      "Epoch 87 --> loss:0.1927, acc:93.33%, val_loss:0.2899, val_acc:91.49%\n",
      " Epoch 88: iteration 106/107\n",
      "Epoch 88 --> loss:0.1996, acc:92.93%, val_loss:0.2651, val_acc:91.72%\n",
      " Epoch 89: iteration 106/107\n",
      "Epoch 89 --> loss:0.1846, acc:93.62%, val_loss:0.2292, val_acc:94.02%\n",
      " Epoch 90: iteration 106/107\n",
      "Epoch 90 --> loss:0.1731, acc:94.12%, val_loss:0.1937, val_acc:94.71%\n",
      " Epoch 91: iteration 106/107\n",
      "Epoch 91 --> loss:0.1724, acc:94.14%, val_loss:0.2385, val_acc:93.10%\n",
      " Epoch 92: iteration 106/107\n",
      "Epoch 92 --> loss:0.1744, acc:94.29%, val_loss:0.2400, val_acc:93.10%\n",
      " Epoch 93: iteration 106/107\n",
      "Epoch 93 --> loss:0.1590, acc:94.87%, val_loss:0.1918, val_acc:94.94%\n",
      " Epoch 94: iteration 106/107\n",
      "Epoch 94 --> loss:0.1691, acc:94.14%, val_loss:0.3193, val_acc:90.11%\n",
      " Epoch 95: iteration 106/107\n",
      "Epoch 95 --> loss:0.1480, acc:95.30%, val_loss:0.2152, val_acc:93.10%\n",
      " Epoch 96: iteration 106/107\n",
      "Epoch 96 --> loss:0.1493, acc:95.10%, val_loss:0.1794, val_acc:94.25%\n",
      " Epoch 97: iteration 106/107\n",
      "Epoch 97 --> loss:0.1490, acc:95.36%, val_loss:0.1836, val_acc:94.71%\n",
      " Epoch 98: iteration 106/107\n",
      "Epoch 98 --> loss:0.1630, acc:94.43%, val_loss:0.1992, val_acc:93.79%\n",
      " Epoch 99: iteration 106/107\n",
      "Epoch 99 --> loss:0.1467, acc:95.01%, val_loss:0.2368, val_acc:93.56%\n",
      " Epoch 100: iteration 106/107\n",
      "Epoch 100 --> loss:0.1400, acc:95.30%, val_loss:0.2490, val_acc:92.41%\n",
      " Epoch 101: iteration 106/107\n",
      "Epoch 101 --> loss:0.1214, acc:95.91%, val_loss:0.1240, val_acc:97.01%\n",
      " Epoch 102: iteration 106/107\n",
      "Epoch 102 --> loss:0.1462, acc:95.33%, val_loss:0.1927, val_acc:93.33%\n",
      " Epoch 103: iteration 106/107\n",
      "Epoch 103 --> loss:0.1383, acc:95.57%, val_loss:0.2043, val_acc:93.56%\n",
      " Epoch 104: iteration 106/107\n",
      "Epoch 104 --> loss:0.1377, acc:95.48%, val_loss:0.1726, val_acc:95.63%\n",
      " Epoch 105: iteration 106/107\n",
      "Epoch 105 --> loss:0.1207, acc:95.83%, val_loss:0.2007, val_acc:92.18%\n",
      " Epoch 106: iteration 106/107\n",
      "Epoch 106 --> loss:0.1158, acc:96.26%, val_loss:0.1439, val_acc:96.78%\n",
      " Epoch 107: iteration 106/107\n",
      "Epoch 107 --> loss:0.1238, acc:96.09%, val_loss:0.3494, val_acc:89.43%\n",
      " Epoch 108: iteration 106/107\n",
      "Epoch 108 --> loss:0.1274, acc:95.65%, val_loss:0.2403, val_acc:93.56%\n",
      " Epoch 109: iteration 106/107\n",
      "Epoch 109 --> loss:0.1188, acc:95.91%, val_loss:0.3114, val_acc:90.57%\n",
      " Epoch 110: iteration 106/107\n",
      "Epoch 110 --> loss:0.1126, acc:96.23%, val_loss:0.1853, val_acc:94.71%\n",
      " Epoch 111: iteration 106/107\n",
      "Epoch 111 --> loss:0.1044, acc:96.75%, val_loss:0.1854, val_acc:94.48%\n",
      " Epoch 112: iteration 106/107\n",
      "Epoch 112 --> loss:0.1046, acc:96.64%, val_loss:0.1562, val_acc:95.63%\n",
      " Epoch 113: iteration 106/107\n",
      "Epoch 113 --> loss:0.1120, acc:96.06%, val_loss:0.1840, val_acc:94.25%\n",
      " Epoch 114: iteration 106/107\n",
      "Epoch 114 --> loss:0.1159, acc:96.00%, val_loss:0.1482, val_acc:96.55%\n",
      " Epoch 115: iteration 106/107\n",
      "Epoch 115 --> loss:0.1158, acc:96.17%, val_loss:0.1684, val_acc:94.94%\n",
      " Epoch 116: iteration 106/107\n",
      "Epoch 116 --> loss:0.0950, acc:97.13%, val_loss:0.1302, val_acc:96.78%\n",
      " Epoch 117: iteration 106/107\n",
      "Epoch 117 --> loss:0.1084, acc:96.46%, val_loss:0.1116, val_acc:97.24%\n",
      " Epoch 118: iteration 106/107\n",
      "Epoch 118 --> loss:0.1200, acc:95.74%, val_loss:0.1312, val_acc:96.78%\n",
      " Epoch 119: iteration 106/107\n",
      "Epoch 119 --> loss:0.1053, acc:96.14%, val_loss:0.1043, val_acc:98.16%\n",
      " Epoch 120: iteration 106/107\n",
      "Epoch 120 --> loss:0.1027, acc:96.61%, val_loss:0.1405, val_acc:96.32%\n",
      " Epoch 121: iteration 106/107\n",
      "Epoch 121 --> loss:0.0969, acc:96.84%, val_loss:0.1334, val_acc:96.55%\n",
      " Epoch 122: iteration 106/107\n",
      "Epoch 122 --> loss:0.1015, acc:96.61%, val_loss:0.1245, val_acc:96.32%\n",
      " Epoch 123: iteration 106/107\n",
      "Epoch 123 --> loss:0.0893, acc:97.30%, val_loss:0.1612, val_acc:95.17%\n",
      " Epoch 124: iteration 106/107\n",
      "Epoch 124 --> loss:0.0881, acc:97.28%, val_loss:0.2607, val_acc:92.41%\n",
      " Epoch 125: iteration 106/107\n",
      "Epoch 125 --> loss:0.0979, acc:96.84%, val_loss:0.2583, val_acc:91.26%\n",
      " Epoch 126: iteration 106/107\n",
      "Epoch 126 --> loss:0.0878, acc:97.01%, val_loss:0.1160, val_acc:96.09%\n",
      " Epoch 127: iteration 106/107\n",
      "Epoch 127 --> loss:0.0865, acc:97.30%, val_loss:0.1006, val_acc:96.78%\n",
      " Epoch 128: iteration 106/107\n",
      "Epoch 128 --> loss:0.0924, acc:97.07%, val_loss:0.1546, val_acc:95.63%\n",
      " Epoch 129: iteration 106/107\n",
      "Epoch 129 --> loss:0.0881, acc:96.90%, val_loss:0.2338, val_acc:94.02%\n",
      " Epoch 130: iteration 106/107\n",
      "Epoch 130 --> loss:0.0944, acc:96.90%, val_loss:0.1162, val_acc:96.78%\n",
      " Epoch 131: iteration 106/107\n",
      "Epoch 131 --> loss:0.0783, acc:97.62%, val_loss:0.1461, val_acc:96.55%\n",
      " Epoch 132: iteration 106/107\n",
      "Epoch 132 --> loss:0.0798, acc:97.33%, val_loss:0.1648, val_acc:95.40%\n",
      " Epoch 133: iteration 106/107\n",
      "Epoch 133 --> loss:0.0769, acc:97.54%, val_loss:0.1026, val_acc:97.47%\n",
      " Epoch 134: iteration 106/107\n",
      "Epoch 134 --> loss:0.0753, acc:97.54%, val_loss:0.1170, val_acc:96.09%\n",
      " Epoch 135: iteration 106/107\n",
      "Epoch 135 --> loss:0.0786, acc:97.51%, val_loss:0.1181, val_acc:95.86%\n",
      " Epoch 136: iteration 106/107\n",
      "Epoch 136 --> loss:0.0768, acc:97.33%, val_loss:0.1076, val_acc:97.24%\n",
      " Epoch 137: iteration 106/107\n",
      "Epoch 137 --> loss:0.0696, acc:97.80%, val_loss:0.1106, val_acc:95.86%\n",
      " Epoch 138: iteration 106/107\n",
      "Epoch 138 --> loss:0.0690, acc:97.86%, val_loss:0.1794, val_acc:94.71%\n",
      " Epoch 139: iteration 106/107\n",
      "Epoch 139 --> loss:0.0750, acc:97.80%, val_loss:0.0893, val_acc:98.16%\n",
      " Epoch 140: iteration 106/107\n",
      "Epoch 140 --> loss:0.0775, acc:97.28%, val_loss:0.1361, val_acc:96.78%\n",
      " Epoch 141: iteration 106/107\n",
      "Epoch 141 --> loss:0.0806, acc:97.33%, val_loss:0.0842, val_acc:97.93%\n",
      " Epoch 142: iteration 106/107\n",
      "Epoch 142 --> loss:0.0706, acc:97.80%, val_loss:0.0850, val_acc:97.70%\n",
      " Epoch 143: iteration 106/107\n",
      "Epoch 143 --> loss:0.0697, acc:97.48%, val_loss:0.1014, val_acc:98.16%\n",
      " Epoch 144: iteration 106/107\n",
      "Epoch 144 --> loss:0.0772, acc:97.30%, val_loss:0.2487, val_acc:92.18%\n",
      " Epoch 145: iteration 106/107\n",
      "Epoch 145 --> loss:0.0716, acc:97.83%, val_loss:0.1157, val_acc:96.55%\n",
      " Epoch 146: iteration 106/107\n",
      "Epoch 146 --> loss:0.0679, acc:97.71%, val_loss:0.1251, val_acc:96.78%\n",
      " Epoch 147: iteration 106/107\n",
      "Epoch 147 --> loss:0.0632, acc:97.94%, val_loss:0.1231, val_acc:95.86%\n",
      " Epoch 148: iteration 106/107\n",
      "Epoch 148 --> loss:0.0678, acc:97.77%, val_loss:0.0659, val_acc:98.16%\n",
      " Epoch 149: iteration 106/107\n",
      "Epoch 149 --> loss:0.0766, acc:97.30%, val_loss:0.2281, val_acc:92.41%\n",
      " Epoch 150: iteration 106/107\n",
      "Epoch 150 --> loss:0.0729, acc:97.22%, val_loss:0.1137, val_acc:97.01%\n",
      " Epoch 151: iteration 106/107\n",
      "Epoch 151 --> loss:0.0692, acc:98.00%, val_loss:0.1030, val_acc:96.78%\n",
      " Epoch 152: iteration 106/107\n",
      "Epoch 152 --> loss:0.0660, acc:97.68%, val_loss:0.0750, val_acc:98.62%\n",
      " Epoch 153: iteration 106/107\n",
      "Epoch 153 --> loss:0.0712, acc:97.28%, val_loss:0.0750, val_acc:97.93%\n",
      " Epoch 154: iteration 106/107\n",
      "Epoch 154 --> loss:0.0704, acc:97.65%, val_loss:0.0810, val_acc:97.93%\n",
      " Epoch 155: iteration 106/107\n",
      "Epoch 155 --> loss:0.0612, acc:97.97%, val_loss:0.0770, val_acc:97.93%\n",
      " Epoch 156: iteration 106/107\n",
      "Epoch 156 --> loss:0.0603, acc:97.97%, val_loss:0.1046, val_acc:97.47%\n",
      " Epoch 157: iteration 106/107\n",
      "Epoch 157 --> loss:0.0661, acc:97.83%, val_loss:0.0675, val_acc:98.85%\n",
      " Epoch 158: iteration 106/107\n",
      "Epoch 158 --> loss:0.0747, acc:97.45%, val_loss:0.0611, val_acc:98.16%\n",
      " Epoch 159: iteration 106/107\n",
      "Epoch 159 --> loss:0.0563, acc:98.14%, val_loss:0.0870, val_acc:97.70%\n",
      " Epoch 160: iteration 106/107\n",
      "Epoch 160 --> loss:0.0651, acc:97.80%, val_loss:0.1782, val_acc:94.25%\n",
      " Epoch 161: iteration 106/107\n",
      "Epoch 161 --> loss:0.0664, acc:97.97%, val_loss:0.1863, val_acc:93.79%\n",
      " Epoch 162: iteration 106/107\n",
      "Epoch 162 --> loss:0.0597, acc:98.00%, val_loss:0.0682, val_acc:98.39%\n",
      " Epoch 163: iteration 106/107\n",
      "Epoch 163 --> loss:0.0610, acc:98.06%, val_loss:0.0885, val_acc:97.24%\n",
      " Epoch 164: iteration 106/107\n",
      "Epoch 164 --> loss:0.0723, acc:97.62%, val_loss:0.1313, val_acc:96.55%\n"
     ]
    },
    {
     "name": "stdout",
     "output_type": "stream",
     "text": [
      " Epoch 165: iteration 106/107\n",
      "Epoch 165 --> loss:0.0536, acc:98.26%, val_loss:0.1433, val_acc:96.55%\n",
      " Epoch 166: iteration 106/107\n",
      "Epoch 166 --> loss:0.0569, acc:98.20%, val_loss:0.0856, val_acc:97.93%\n",
      " Epoch 167: iteration 106/107\n",
      "Epoch 167 --> loss:0.0633, acc:97.88%, val_loss:0.0944, val_acc:97.01%\n",
      " Epoch 168: iteration 106/107\n",
      "Epoch 168 --> loss:0.0643, acc:97.74%, val_loss:0.0741, val_acc:97.93%\n",
      " Epoch 169: iteration 106/107\n",
      "Epoch 169 --> loss:0.0624, acc:97.83%, val_loss:0.0729, val_acc:98.62%\n",
      " Epoch 170: iteration 106/107\n",
      "Epoch 170 --> loss:0.0599, acc:97.94%, val_loss:0.0689, val_acc:98.62%\n",
      " Epoch 171: iteration 106/107\n",
      "Epoch 171 --> loss:0.0651, acc:97.77%, val_loss:0.1020, val_acc:97.93%\n",
      " Epoch 172: iteration 106/107\n",
      "Epoch 172 --> loss:0.0602, acc:97.97%, val_loss:0.1159, val_acc:96.09%\n",
      " Epoch 173: iteration 106/107\n",
      "Epoch 173 --> loss:0.0590, acc:98.00%, val_loss:0.1070, val_acc:97.47%\n",
      " Epoch 174: iteration 106/107\n",
      "Epoch 174 --> loss:0.0590, acc:97.80%, val_loss:0.0642, val_acc:99.08%\n",
      " Epoch 175: iteration 106/107\n",
      "Epoch 175 --> loss:0.0676, acc:97.65%, val_loss:0.1264, val_acc:95.63%\n",
      " Epoch 176: iteration 106/107\n",
      "Epoch 176 --> loss:0.0585, acc:98.00%, val_loss:0.0578, val_acc:98.62%\n",
      " Epoch 177: iteration 106/107\n",
      "Epoch 177 --> loss:0.0539, acc:98.14%, val_loss:0.0551, val_acc:98.39%\n",
      " Epoch 178: iteration 106/107\n",
      "Epoch 178 --> loss:0.0600, acc:97.91%, val_loss:0.0593, val_acc:98.85%\n",
      " Epoch 179: iteration 106/107\n",
      "Epoch 179 --> loss:0.0579, acc:98.20%, val_loss:0.0802, val_acc:98.16%\n",
      " Epoch 180: iteration 106/107\n",
      "Epoch 180 --> loss:0.0589, acc:97.97%, val_loss:0.0682, val_acc:98.62%\n",
      " Epoch 181: iteration 106/107\n",
      "Epoch 181 --> loss:0.0508, acc:98.35%, val_loss:0.0758, val_acc:98.16%\n",
      " Epoch 182: iteration 106/107\n",
      "Epoch 182 --> loss:0.0476, acc:98.35%, val_loss:0.0841, val_acc:97.01%\n",
      " Epoch 183: iteration 106/107\n",
      "Epoch 183 --> loss:0.0584, acc:97.74%, val_loss:0.0810, val_acc:98.16%\n",
      " Epoch 184: iteration 106/107\n",
      "Epoch 184 --> loss:0.0649, acc:97.57%, val_loss:0.0944, val_acc:97.47%\n",
      " Epoch 185: iteration 106/107\n",
      "Epoch 185 --> loss:0.0692, acc:97.59%, val_loss:0.0905, val_acc:97.24%\n",
      " Epoch 186: iteration 106/107\n",
      "Epoch 186 --> loss:0.0579, acc:98.20%, val_loss:0.0572, val_acc:99.08%\n",
      " Epoch 187: iteration 106/107\n",
      "Epoch 187 --> loss:0.0592, acc:97.88%, val_loss:0.0858, val_acc:97.70%\n",
      " Epoch 188: iteration 106/107\n",
      "Epoch 188 --> loss:0.0540, acc:98.09%, val_loss:0.1125, val_acc:97.01%\n",
      " Epoch 189: iteration 106/107\n",
      "Epoch 189 --> loss:0.0453, acc:98.35%, val_loss:0.0408, val_acc:99.31%\n",
      " Epoch 190: iteration 106/107\n",
      "Epoch 190 --> loss:0.0498, acc:98.29%, val_loss:0.0401, val_acc:99.08%\n",
      " Epoch 191: iteration 106/107\n",
      "Epoch 191 --> loss:0.0557, acc:98.17%, val_loss:0.1329, val_acc:95.40%\n",
      " Epoch 192: iteration 106/107\n",
      "Epoch 192 --> loss:0.0533, acc:97.94%, val_loss:0.0482, val_acc:99.08%\n",
      " Epoch 193: iteration 106/107\n",
      "Epoch 193 --> loss:0.0593, acc:97.74%, val_loss:0.1497, val_acc:96.78%\n",
      " Epoch 194: iteration 106/107\n",
      "Epoch 194 --> loss:0.0601, acc:97.74%, val_loss:0.0756, val_acc:97.93%\n",
      " Epoch 195: iteration 106/107\n",
      "Epoch 195 --> loss:0.0554, acc:97.97%, val_loss:0.1248, val_acc:96.55%\n",
      " Epoch 196: iteration 106/107\n",
      "Epoch 196 --> loss:0.0515, acc:98.32%, val_loss:0.0797, val_acc:97.70%\n",
      " Epoch 197: iteration 106/107\n",
      "Epoch 197 --> loss:0.0616, acc:98.12%, val_loss:0.0526, val_acc:99.08%\n",
      " Epoch 198: iteration 106/107\n",
      "Epoch 198 --> loss:0.0496, acc:98.29%, val_loss:0.0731, val_acc:98.39%\n",
      " Epoch 199: iteration 106/107\n",
      "Epoch 199 --> loss:0.0499, acc:98.32%, val_loss:0.0781, val_acc:97.93%\n"
     ]
    }
   ],
   "source": [
    "EPOCHS=200\n",
    "DATASET_SIZE = X_train.shape[0]\n",
    "BATCH_SIZE = 32\n",
    "device = 'cuda' if torch.cuda.is_available() else 'cpu'\n",
    "print('Selected device is {}'.format(device))\n",
    "model = HybridModel(num_emotions=len(EMOTIONS)).to(device)\n",
    "print('Number of trainable params: ',sum(p.numel() for p in model.parameters()))\n",
    "OPTIMIZER = torch.optim.SGD(model.parameters(),lr=0.01, weight_decay=1e-3, momentum=0.8)\n",
    "\n",
    "train_step = make_train_step(model, loss_fnc, optimizer=OPTIMIZER)\n",
    "validate = make_validate_fnc(model,loss_fnc)\n",
    "losses=[]\n",
    "val_losses = []\n",
    "for epoch in range(EPOCHS):\n",
    "    # schuffle data\n",
    "    ind = np.random.permutation(DATASET_SIZE)\n",
    "    X_train = X_train[ind,:,:,:,:]\n",
    "    Y_train = Y_train[ind]\n",
    "    epoch_acc = 0\n",
    "    epoch_loss = 0\n",
    "    iters = int(DATASET_SIZE / BATCH_SIZE)\n",
    "    for i in range(iters):\n",
    "        batch_start = i * BATCH_SIZE\n",
    "        batch_end = min(batch_start + BATCH_SIZE, DATASET_SIZE)\n",
    "        actual_batch_size = batch_end-batch_start\n",
    "        X = X_train[batch_start:batch_end,:,:,:,:]\n",
    "        Y = Y_train[batch_start:batch_end]\n",
    "        X_tensor = torch.tensor(X,device=device).float()\n",
    "        Y_tensor = torch.tensor(Y, dtype=torch.long,device=device)\n",
    "        loss, acc = train_step(X_tensor,Y_tensor)\n",
    "        epoch_acc += acc*actual_batch_size/DATASET_SIZE\n",
    "        epoch_loss += loss*actual_batch_size/DATASET_SIZE\n",
    "        print(f\"\\r Epoch {epoch}: iteration {i}/{iters}\",end='')\n",
    "    X_val_tensor = torch.tensor(X_val,device=device).float()\n",
    "    Y_val_tensor = torch.tensor(Y_val,dtype=torch.long,device=device)\n",
    "    val_loss, val_acc, _ = validate(X_val_tensor,Y_val_tensor)\n",
    "    losses.append(epoch_loss)\n",
    "    val_losses.append(val_loss)\n",
    "    print('')\n",
    "    print(f\"Epoch {epoch} --> loss:{epoch_loss:.4f}, acc:{epoch_acc:.2f}%, val_loss:{val_loss:.4f}, val_acc:{val_acc:.2f}%\")\n",
    "    "
   ]
  },
  {
   "cell_type": "markdown",
   "metadata": {},
   "source": [
    "# Save model"
   ]
  },
  {
   "cell_type": "code",
   "execution_count": 25,
   "metadata": {},
   "outputs": [
    {
     "name": "stdout",
     "output_type": "stream",
     "text": [
      "Model is saved to /kaggle/working/models/cnn_attention_lstm_model.pt\n"
     ]
    }
   ],
   "source": [
    "SAVE_PATH = os.path.join(os.getcwd(),'models')\n",
    "os.makedirs('models',exist_ok=True)\n",
    "torch.save(model.state_dict(),os.path.join(SAVE_PATH,'cnn_attention_lstm_model.pt'))\n",
    "print('Model is saved to {}'.format(os.path.join(SAVE_PATH,'cnn_attention_lstm_model.pt')))"
   ]
  },
  {
   "cell_type": "markdown",
   "metadata": {},
   "source": [
    "# Load model"
   ]
  },
  {
   "cell_type": "code",
   "execution_count": null,
   "metadata": {},
   "outputs": [],
   "source": [
    "LOAD_PATH = os.path.join(os.getcwd(),'models')\n",
    "model = HybridModel(len(EMOTIONS))\n",
    "model.load_state_dict(torch.load(os.path.join(LOAD_PATH,'cnn_attention_lstm_model.pt')))\n",
    "print('Model is loaded from {}'.format(os.path.join(LOAD_PATH,'cnn_attention_lstm_model.pt')))"
   ]
  },
  {
   "cell_type": "markdown",
   "metadata": {},
   "source": [
    "# Test"
   ]
  },
  {
   "cell_type": "code",
   "execution_count": 34,
   "metadata": {},
   "outputs": [
    {
     "name": "stdout",
     "output_type": "stream",
     "text": [
      "Test loss is 0.112\n",
      "Test accuracy is 96.55%\n"
     ]
    }
   ],
   "source": [
    "X_test_tensor = torch.tensor(X_test,device=device).float()\n",
    "Y_test_tensor = torch.tensor(Y_test,dtype=torch.long,device=device)\n",
    "test_loss, test_acc, predictions = validate(X_test_tensor,Y_test_tensor)\n",
    "print(f'Test loss is {test_loss:.3f}')\n",
    "print(f'Test accuracy is {test_acc:.2f}%')"
   ]
  },
  {
   "cell_type": "markdown",
   "metadata": {},
   "source": [
    "confusion matrix"
   ]
  },
  {
   "cell_type": "code",
   "execution_count": 35,
   "metadata": {},
   "outputs": [
    {
     "data": {
      "image/png": "[encoded data removed]",
      "text/plain": [
       "<Figure size 432x288 with 2 Axes>"
      ]
     },
     "metadata": {},
     "output_type": "display_data"
    }
   ],
   "source": [
    "from sklearn.metrics import confusion_matrix\n",
    "import seaborn as sn\n",
    "\n",
    "predictions = predictions.cpu().numpy()\n",
    "cm = confusion_matrix(Y_test, predictions)\n",
    "names = [EMOTIONS[ind] for ind in range(len(EMOTIONS))]\n",
    "df_cm = pd.DataFrame(cm, index=names, columns=names)\n",
    "# plt.figure(figsize=(10,7))\n",
    "sn.set(font_scale=1.4) # for label size\n",
    "sn.heatmap(df_cm, annot=True, annot_kws={\"size\": 16}) # font size\n",
    "plt.show()"
   ]
  },
  {
   "cell_type": "markdown",
   "metadata": {},
   "source": [
    "Correlation between emotion intensity and correct prediction"
   ]
  },
  {
   "cell_type": "code",
   "execution_count": 36,
   "metadata": {},
   "outputs": [
    {
     "data": {
      "image/png": "[encoded data removed]",
      "text/plain": [
       "<Figure size 432x288 with 2 Axes>"
      ]
     },
     "metadata": {},
     "output_type": "display_data"
    }
   ],
   "source": [
    "correct_strong = 0\n",
    "correct_normal = 0\n",
    "wrong_strong = 0\n",
    "wrong_normal = 0\n",
    "for i in range(len(X_test)):\n",
    "    intensity = data.loc[test_ind[i],'Emotion intensity']\n",
    "    if Y_test[i] == predictions[i]: # correct prediction\n",
    "        if  intensity == 'normal':\n",
    "            correct_normal += 1\n",
    "        else:\n",
    "            correct_strong += 1\n",
    "    else: # wrong prediction\n",
    "        if intensity == 'normal':\n",
    "            wrong_normal += 1\n",
    "        else:\n",
    "            wrong_strong += 1\n",
    "array = np.array([[wrong_normal,wrong_strong],[correct_normal,correct_strong]])\n",
    "df = pd.DataFrame(array,['wrong','correct'],['normal','strong'])\n",
    "sn.set(font_scale=1.4) # for label size\n",
    "sn.heatmap(df, annot=True, annot_kws={\"size\": 16}) # font size\n",
    "plt.show()"
   ]
  },
  {
   "cell_type": "markdown",
   "metadata": {},
   "source": [
    "correlation between gender and corectness"
   ]
  },
  {
   "cell_type": "code",
   "execution_count": 37,
   "metadata": {},
   "outputs": [
    {
     "data": {
      "image/png": "[encoded data removed]",
      "text/plain": [
       "<Figure size 432x288 with 2 Axes>"
      ]
     },
     "metadata": {},
     "output_type": "display_data"
    }
   ],
   "source": [
    "correct_male = 0\n",
    "correct_female = 0\n",
    "wrong_male = 0\n",
    "wrong_female = 0\n",
    "for i in range(len(X_test)):\n",
    "    gender = data.loc[test_ind[i],'Gender']\n",
    "    if Y_test[i] == predictions[i]: # correct prediction\n",
    "        if  gender == 'male':\n",
    "            correct_male += 1\n",
    "        else:\n",
    "            correct_female += 1\n",
    "    else: # wrong prediction\n",
    "        if gender == 'male':\n",
    "            wrong_male += 1\n",
    "        else:\n",
    "            wrong_female += 1\n",
    "array = np.array([[wrong_male,wrong_female],[correct_male,correct_female]])\n",
    "df = pd.DataFrame(array,['wrong','correct'],['male','female'])\n",
    "sn.set(font_scale=1.4) # for label size\n",
    "sn.heatmap(df, annot=True, annot_kws={\"size\": 16}) # font size\n",
    "plt.show()"
   ]
  },
  {
   "cell_type": "markdown",
   "metadata": {},
   "source": [
    "# Plot loss"
   ]
  },
  {
   "cell_type": "code",
   "execution_count": 38,
   "metadata": {},
   "outputs": [
    {
     "data": {
      "text/plain": [
       "<matplotlib.legend.Legend at 0x7f8f62159f10>"
      ]
     },
     "execution_count": 38,
     "metadata": {},
     "output_type": "execute_result"
    },
    {
     "data": {
      "image/png": "[encoded data removed]",
      "text/plain": [
       "<Figure size 432x288 with 1 Axes>"
      ]
     },
     "metadata": {},
     "output_type": "display_data"
    }
   ],
   "source": [
    "plt.plot(losses,'b')\n",
    "plt.plot(val_losses,'r')\n",
    "plt.legend(['train loss','val loss'])"
   ]
  }
 ],
 "metadata": {
  "kernelspec": {
   "display_name": "Python 3",
   "language": "python",
   "name": "python3"
  },
  "language_info": {
   "codemirror_mode": {
    "name": "ipython",
    "version": 3
   },
   "file_extension": ".py",
   "mimetype": "text/x-python",
   "name": "python",
   "nbconvert_exporter": "python",
   "pygments_lexer": "ipython3",
   "version": "3.7.4"
  }
 },
 "nbformat": 4,
 "nbformat_minor": 4
}
