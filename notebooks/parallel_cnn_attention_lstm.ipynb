{
 "cells": [
  {
   "cell_type": "markdown",
   "metadata": {},
   "source": [
    "# LOAD DATA "
   ]
  },
  {
   "cell_type": "code",
   "execution_count": 1,
   "metadata": {
    "_cell_guid": "b1076dfc-b9ad-4769-8c92-a6c4dae69d19",
    "_uuid": "8f2839f25d086af736a60e9eeb907d3b93b6e0e5"
   },
   "outputs": [],
   "source": [
    "# This Python 3 environment comes with many helpful analytics libraries installed\n",
    "# It is defined by the kaggle/python Docker image: https://github.com/kaggle/docker-python\n",
    "# For example, here's several helpful packages to load\n",
    "\n",
    "import numpy as np\n",
    "import pandas as pd\n",
    "import os\n",
    "import librosa\n",
    "import librosa.display\n",
    "import IPython\n",
    "from IPython.display import Audio\n",
    "from IPython.display import Image\n",
    "import matplotlib.pyplot as plt\n",
    "\n",
    "EMOTIONS = {1:'neutral', 2:'calm', 3:'happy', 4:'sad', 5:'angry', 6:'fear', 7:'disgust', 0:'surprise'} # surprise je promenjen sa 8 na 0\n",
    "DATA_PATH = '../input/ravdess-emotional-speech-audio/audio_speech_actors_01-24/'\n",
    "SAMPLE_RATE = 48000\n",
    "\n",
    "data = pd.DataFrame(columns=['Emotion', 'Emotion intensity', 'Gender','Path'])\n",
    "for dirname, _, filenames in os.walk(DATA_PATH):\n",
    "    for filename in filenames:\n",
    "        file_path = os.path.join('/kaggle/input/',dirname, filename)\n",
    "        identifiers = filename.split('.')[0].split('-')\n",
    "        emotion = (int(identifiers[2]))\n",
    "        if emotion == 8: # promeni surprise sa 8 na 0\n",
    "            emotion = 0\n",
    "        if int(identifiers[3]) == 1:\n",
    "            emotion_intensity = 'normal' \n",
    "        else:\n",
    "            emotion_intensity = 'strong'\n",
    "        if int(identifiers[6])%2 == 0:\n",
    "            gender = 'female'\n",
    "        else:\n",
    "            gender = 'male'\n",
    "        \n",
    "        data = data.append({\"Emotion\": emotion,\n",
    "                            \"Emotion intensity\": emotion_intensity,\n",
    "                            \"Gender\": gender,\n",
    "                            \"Path\": file_path\n",
    "                             },\n",
    "                             ignore_index = True\n",
    "                          )\n",
    "# You can write up to 5GB to the current directory (/kaggle/working/) that gets preserved as output when you create a version using \"Save & Run All\" \n",
    "# You can also write temporary files to /kaggle/temp/, but they won't be saved outside of the current session"
   ]
  },
  {
   "cell_type": "code",
   "execution_count": 2,
   "metadata": {
    "_cell_guid": "79c7e3d0-c299-4dcb-8224-4455121ee9b0",
    "_uuid": "d629ff2d2480ee46fbb7e2d37f6b5fab8052498a"
   },
   "outputs": [
    {
     "name": "stdout",
     "output_type": "stream",
     "text": [
      "number of files is 1440\n"
     ]
    },
    {
     "data": {
      "text/html": [
       "<div>\n",
       "<style scoped>\n",
       "    .dataframe tbody tr th:only-of-type {\n",
       "        vertical-align: middle;\n",
       "    }\n",
       "\n",
       "    .dataframe tbody tr th {\n",
       "        vertical-align: top;\n",
       "    }\n",
       "\n",
       "    .dataframe thead th {\n",
       "        text-align: right;\n",
       "    }\n",
       "</style>\n",
       "<table border=\"1\" class=\"dataframe\">\n",
       "  <thead>\n",
       "    <tr style=\"text-align: right;\">\n",
       "      <th></th>\n",
       "      <th>Emotion</th>\n",
       "      <th>Emotion intensity</th>\n",
       "      <th>Gender</th>\n",
       "      <th>Path</th>\n",
       "    </tr>\n",
       "  </thead>\n",
       "  <tbody>\n",
       "    <tr>\n",
       "      <th>0</th>\n",
       "      <td>3</td>\n",
       "      <td>normal</td>\n",
       "      <td>male</td>\n",
       "      <td>/kaggle/input/../input/ravdess-emotional-speec...</td>\n",
       "    </tr>\n",
       "    <tr>\n",
       "      <th>1</th>\n",
       "      <td>2</td>\n",
       "      <td>strong</td>\n",
       "      <td>male</td>\n",
       "      <td>/kaggle/input/../input/ravdess-emotional-speec...</td>\n",
       "    </tr>\n",
       "    <tr>\n",
       "      <th>2</th>\n",
       "      <td>3</td>\n",
       "      <td>strong</td>\n",
       "      <td>male</td>\n",
       "      <td>/kaggle/input/../input/ravdess-emotional-speec...</td>\n",
       "    </tr>\n",
       "    <tr>\n",
       "      <th>3</th>\n",
       "      <td>6</td>\n",
       "      <td>normal</td>\n",
       "      <td>male</td>\n",
       "      <td>/kaggle/input/../input/ravdess-emotional-speec...</td>\n",
       "    </tr>\n",
       "    <tr>\n",
       "      <th>4</th>\n",
       "      <td>7</td>\n",
       "      <td>normal</td>\n",
       "      <td>male</td>\n",
       "      <td>/kaggle/input/../input/ravdess-emotional-speec...</td>\n",
       "    </tr>\n",
       "  </tbody>\n",
       "</table>\n",
       "</div>"
      ],
      "text/plain": [
       "  Emotion Emotion intensity Gender  \\\n",
       "0       3            normal   male   \n",
       "1       2            strong   male   \n",
       "2       3            strong   male   \n",
       "3       6            normal   male   \n",
       "4       7            normal   male   \n",
       "\n",
       "                                                Path  \n",
       "0  /kaggle/input/../input/ravdess-emotional-speec...  \n",
       "1  /kaggle/input/../input/ravdess-emotional-speec...  \n",
       "2  /kaggle/input/../input/ravdess-emotional-speec...  \n",
       "3  /kaggle/input/../input/ravdess-emotional-speec...  \n",
       "4  /kaggle/input/../input/ravdess-emotional-speec...  "
      ]
     },
     "execution_count": 2,
     "metadata": {},
     "output_type": "execute_result"
    }
   ],
   "source": [
    "print(\"number of files is {}\".format(len(data)))\n",
    "data.head()"
   ]
  },
  {
   "cell_type": "markdown",
   "metadata": {},
   "source": [
    "Number of examples per emotion"
   ]
  },
  {
   "cell_type": "code",
   "execution_count": 3,
   "metadata": {},
   "outputs": [
    {
     "data": {
      "text/plain": [
       "Text(0, 0.5, 'Number of examples')"
      ]
     },
     "execution_count": 3,
     "metadata": {},
     "output_type": "execute_result"
    },
    {
     "data": {
      "image/png": "[encoded data removed]",
      "text/plain": [
       "<Figure size 432x288 with 1 Axes>"
      ]
     },
     "metadata": {
      "needs_background": "light"
     },
     "output_type": "display_data"
    }
   ],
   "source": [
    "fig = plt.figure()\n",
    "ax = fig.add_subplot(111)\n",
    "ax.bar(x=range(8), height=data['Emotion'].value_counts())\n",
    "ax.set_xticks(ticks=range(8))\n",
    "ax.set_xticklabels([EMOTIONS[i] for i in range(8)],fontsize=10)\n",
    "ax.set_xlabel('Emotions')\n",
    "ax.set_ylabel('Number of examples')"
   ]
  },
  {
   "cell_type": "markdown",
   "metadata": {},
   "source": [
    "number of examples per gender"
   ]
  },
  {
   "cell_type": "code",
   "execution_count": 4,
   "metadata": {},
   "outputs": [
    {
     "data": {
      "text/plain": [
       "Text(0, 0.5, 'Number of examples')"
      ]
     },
     "execution_count": 4,
     "metadata": {},
     "output_type": "execute_result"
    },
    {
     "data": {
      "image/png": "[encoded data removed]",
      "text/plain": [
       "<Figure size 432x288 with 1 Axes>"
      ]
     },
     "metadata": {
      "needs_background": "light"
     },
     "output_type": "display_data"
    }
   ],
   "source": [
    "fig = plt.figure()\n",
    "ax = fig.add_subplot(111)\n",
    "counts = data['Gender'].value_counts()\n",
    "ax.bar(x=[0,1], height=counts.values)\n",
    "ax.set_xticks(ticks=[0,1])\n",
    "ax.set_xticklabels(list(counts.index))\n",
    "ax.set_xlabel('Gender')\n",
    "ax.set_ylabel('Number of examples')"
   ]
  },
  {
   "cell_type": "markdown",
   "metadata": {},
   "source": [
    "number of examples per emotion intensity"
   ]
  },
  {
   "cell_type": "code",
   "execution_count": 5,
   "metadata": {},
   "outputs": [
    {
     "data": {
      "text/plain": [
       "Text(0, 0.5, 'Number of examples')"
      ]
     },
     "execution_count": 5,
     "metadata": {},
     "output_type": "execute_result"
    },
    {
     "data": {
      "image/png": "[encoded data removed]",
      "text/plain": [
       "<Figure size 432x288 with 1 Axes>"
      ]
     },
     "metadata": {
      "needs_background": "light"
     },
     "output_type": "display_data"
    }
   ],
   "source": [
    "fig = plt.figure()\n",
    "ax = fig.add_subplot(111)\n",
    "counts = data['Emotion intensity'].value_counts()\n",
    "ax.bar(x=[0,1], height=counts.values)\n",
    "ax.set_xticks(ticks=[0,1])\n",
    "ax.set_xticklabels(list(counts.index))\n",
    "ax.set_xlabel('Gender')\n",
    "ax.set_ylabel('Number of examples')"
   ]
  },
  {
   "cell_type": "markdown",
   "metadata": {},
   "source": [
    "# CALCULATE MEL SPECTROGRAM"
   ]
  },
  {
   "cell_type": "code",
   "execution_count": 6,
   "metadata": {},
   "outputs": [
    {
     "name": "stdout",
     "output_type": "stream",
     "text": [
      "MEL spectrogram shape:  (128, 563)\n"
     ]
    },
    {
     "data": {
      "image/png": "[encoded data removed]",
      "text/plain": [
       "<Figure size 432x288 with 1 Axes>"
      ]
     },
     "metadata": {
      "needs_background": "light"
     },
     "output_type": "display_data"
    }
   ],
   "source": [
    "def getMELspectrogram(audio, sample_rate):\n",
    "    mel_spec = librosa.feature.melspectrogram(y=audio,\n",
    "                                              sr=sample_rate,\n",
    "                                              n_fft=1024,\n",
    "                                              win_length = 512,\n",
    "                                              window='hamming',\n",
    "                                              hop_length = 256,\n",
    "                                              n_mels=128,\n",
    "                                              fmax=sample_rate/2\n",
    "                                             )\n",
    "    mel_spec_db = librosa.power_to_db(mel_spec, ref=np.max)\n",
    "    return mel_spec_db\n",
    "\n",
    "# test function\n",
    "audio, sample_rate = librosa.load(data.loc[0,'Path'], duration=3, offset=0.5,sr=SAMPLE_RATE)\n",
    "signal = np.zeros((int(SAMPLE_RATE*3,)))\n",
    "signal[:len(audio)] = audio\n",
    "mel_spectrogram = getMELspectrogram(signal, SAMPLE_RATE)\n",
    "librosa.display.specshow(mel_spectrogram, y_axis='mel', x_axis='time')\n",
    "print('MEL spectrogram shape: ',mel_spectrogram.shape)"
   ]
  },
  {
   "cell_type": "markdown",
   "metadata": {},
   "source": [
    "calculate mel spectrograms for all audio files (this can take few minutes to execute)"
   ]
  },
  {
   "cell_type": "code",
   "execution_count": 7,
   "metadata": {},
   "outputs": [
    {
     "name": "stdout",
     "output_type": "stream",
     "text": [
      " Processed 1439/1440 files"
     ]
    }
   ],
   "source": [
    "mel_spectrograms = []\n",
    "signals = []\n",
    "for i, file_path in enumerate(data.Path):\n",
    "    audio, sample_rate = librosa.load(file_path, duration=3, offset=0.5, sr=SAMPLE_RATE)\n",
    "    signal = np.zeros((int(SAMPLE_RATE*3,)))\n",
    "    signal[:len(audio)] = audio\n",
    "    signals.append(signal)\n",
    "    mel_spectrogram = getMELspectrogram(signal, sample_rate=SAMPLE_RATE)\n",
    "    mel_spectrograms.append(mel_spectrogram)\n",
    "    print(\"\\r Processed {}/{} files\".format(i,len(data)),end='')"
   ]
  },
  {
   "cell_type": "markdown",
   "metadata": {},
   "source": [
    "augment signals (by adding AWGN) and calculate mel spectrograms"
   ]
  },
  {
   "cell_type": "code",
   "execution_count": 8,
   "metadata": {},
   "outputs": [],
   "source": [
    "def addAWGN(signal, num_bits=16, augmented_num=2, snr_low=15, snr_high=30): \n",
    "    signal_len = len(signal)\n",
    "    # Generate White Gaussian noise\n",
    "    noise = np.random.normal(size=(augmented_num, signal_len))\n",
    "    # Normalize signal and noise\n",
    "    norm_constant = 2.0**(num_bits-1)\n",
    "    signal_norm = signal / norm_constant\n",
    "    noise_norm = noise / norm_constant\n",
    "    # Compute signal and noise power\n",
    "    s_power = np.sum(signal_norm ** 2) / signal_len\n",
    "    n_power = np.sum(noise_norm ** 2, axis=1) / signal_len\n",
    "    # Random SNR: Uniform [15, 30] in dB\n",
    "    target_snr = np.random.randint(snr_low, snr_high)\n",
    "    # Compute K (covariance matrix) for each noise \n",
    "    K = np.sqrt((s_power / n_power) * 10 ** (- target_snr / 10))\n",
    "    K = np.ones((signal_len, augmented_num)) * K  \n",
    "    # Generate noisy signal\n",
    "    return signal + K.T * noise"
   ]
  },
  {
   "cell_type": "code",
   "execution_count": 9,
   "metadata": {},
   "outputs": [
    {
     "name": "stdout",
     "output_type": "stream",
     "text": [
      " Processed 1439/1440 files"
     ]
    }
   ],
   "source": [
    "for i,signal in enumerate(signals):\n",
    "    augmented_signals = addAWGN(signal)\n",
    "    for j in range(augmented_signals.shape[0]):\n",
    "        mel_spectrogram = getMELspectrogram(augmented_signals[j,:], sample_rate=SAMPLE_RATE)\n",
    "        mel_spectrograms.append(mel_spectrogram)\n",
    "        data = data.append(data.iloc[i], ignore_index=True)\n",
    "    print(\"\\r Processed {}/{} files\".format(i,len(signals)),end='')"
   ]
  },
  {
   "cell_type": "markdown",
   "metadata": {},
   "source": [
    "# CREATE MODEL"
   ]
  },
  {
   "cell_type": "code",
   "execution_count": 10,
   "metadata": {},
   "outputs": [],
   "source": [
    "import torch\n",
    "import torch.nn as nn\n",
    "\n",
    "class ParallelModel(nn.Module):\n",
    "    def __init__(self,num_emotions):\n",
    "        super().__init__()\n",
    "        # conv block\n",
    "        self.conv2Dblock = nn.Sequential(\n",
    "            # 1. conv block\n",
    "            nn.Conv2d(in_channels=1,\n",
    "                       out_channels=16,\n",
    "                       kernel_size=3,\n",
    "                       stride=1,\n",
    "                       padding=1\n",
    "                      ),\n",
    "            nn.BatchNorm2d(16),\n",
    "            nn.ReLU(),\n",
    "            nn.MaxPool2d(kernel_size=2, stride=2),\n",
    "            nn.Dropout(p=0.3),\n",
    "            # 2. conv block\n",
    "            nn.Conv2d(in_channels=16,\n",
    "                       out_channels=32,\n",
    "                       kernel_size=3,\n",
    "                       stride=1,\n",
    "                       padding=1\n",
    "                      ),\n",
    "            nn.BatchNorm2d(32),\n",
    "            nn.ReLU(),\n",
    "            nn.MaxPool2d(kernel_size=4, stride=4),\n",
    "            nn.Dropout(p=0.3),\n",
    "            # 3. conv block\n",
    "            nn.Conv2d(in_channels=32,\n",
    "                       out_channels=64,\n",
    "                       kernel_size=3,\n",
    "                       stride=1,\n",
    "                       padding=1\n",
    "                      ),\n",
    "            nn.BatchNorm2d(64),\n",
    "            nn.ReLU(),\n",
    "            nn.MaxPool2d(kernel_size=4, stride=4),\n",
    "            nn.Dropout(p=0.3),\n",
    "            # 4. conv block\n",
    "            nn.Conv2d(in_channels=64,\n",
    "                       out_channels=64,\n",
    "                       kernel_size=3,\n",
    "                       stride=1,\n",
    "                       padding=1\n",
    "                      ),\n",
    "            nn.BatchNorm2d(64),\n",
    "            nn.ReLU(),\n",
    "            nn.MaxPool2d(kernel_size=4, stride=4),\n",
    "            nn.Dropout(p=0.3)\n",
    "        )\n",
    "        # LSTM block\n",
    "        self.lstm_maxpool = nn.MaxPool2d(kernel_size=[2,4], stride=[2,4])\n",
    "        hidden_size = 128\n",
    "        self.lstm = nn.LSTM(input_size=64,hidden_size=hidden_size,bidirectional=True, batch_first=True)\n",
    "        self.dropout_lstm = nn.Dropout(0.1)\n",
    "        self.attention_linear = nn.Linear(2*hidden_size,1) # 2*hidden_size for the 2 outputs of bidir LSTM\n",
    "        # Linear softmax layer\n",
    "        self.out_linear = nn.Linear(2*hidden_size+256,num_emotions)\n",
    "        self.dropout_linear = nn.Dropout(p=0)\n",
    "        self.out_softmax = nn.Softmax(dim=1)\n",
    "    def forward(self,x):\n",
    "        # conv embedding\n",
    "        conv_embedding = self.conv2Dblock(x) #(b,channel,freq,time)\n",
    "        conv_embedding = torch.flatten(conv_embedding, start_dim=1) # do not flatten batch dimension\n",
    "        # lstm embedding\n",
    "        x_reduced = self.lstm_maxpool(x)\n",
    "        x_reduced = torch.squeeze(x_reduced,1)\n",
    "        x_reduced = x_reduced.permute(0,2,1) # (b,t,freq)\n",
    "        lstm_embedding, (h,c) = self.lstm(x_reduced) # (b, time, hidden_size*2)\n",
    "        lstm_embedding = self.dropout_lstm(lstm_embedding)\n",
    "        batch_size,T,_ = lstm_embedding.shape \n",
    "        attention_weights = [None]*T\n",
    "        for t in range(T):\n",
    "            embedding = lstm_embedding[:,t,:]\n",
    "            attention_weights[t] = self.attention_linear(embedding)\n",
    "        attention_weights_norm = nn.functional.softmax(torch.stack(attention_weights,-1),-1)\n",
    "        attention = torch.bmm(attention_weights_norm,lstm_embedding) # (Bx1xT)*(B,T,hidden_size*2)=(B,1,2*hidden_size)\n",
    "        attention = torch.squeeze(attention, 1)\n",
    "        # concatenate\n",
    "        complete_embedding = torch.cat([conv_embedding, attention], dim=1) \n",
    "        \n",
    "        output_logits = self.out_linear(complete_embedding)\n",
    "        output_logits = self.dropout_linear(output_logits)\n",
    "        output_softmax = self.out_softmax(output_logits)\n",
    "        return output_logits, output_softmax, attention_weights_norm\n",
    "                                     "
   ]
  },
  {
   "cell_type": "code",
   "execution_count": 11,
   "metadata": {},
   "outputs": [],
   "source": [
    "def loss_fnc(predictions, targets):\n",
    "    return nn.CrossEntropyLoss()(input=predictions,target=targets)"
   ]
  },
  {
   "cell_type": "markdown",
   "metadata": {},
   "source": [
    "# TRAINING"
   ]
  },
  {
   "cell_type": "code",
   "execution_count": 12,
   "metadata": {},
   "outputs": [],
   "source": [
    "def make_train_step(model, loss_fnc, optimizer):\n",
    "    def train_step(X,Y):\n",
    "        # set model to train mode\n",
    "        model.train()\n",
    "        # forward pass\n",
    "        output_logits, output_softmax, attention_weights_norm = model(X)\n",
    "        predictions = torch.argmax(output_softmax,dim=1)\n",
    "        accuracy = torch.sum(Y==predictions)/float(len(Y))\n",
    "        # compute loss\n",
    "        loss = loss_fnc(output_logits, Y)\n",
    "        # compute gradients\n",
    "        loss.backward()\n",
    "        # update parameters and zero gradients\n",
    "        optimizer.step()\n",
    "        optimizer.zero_grad()\n",
    "        return loss.item(), accuracy*100\n",
    "    return train_step"
   ]
  },
  {
   "cell_type": "code",
   "execution_count": 13,
   "metadata": {},
   "outputs": [],
   "source": [
    "def make_validate_fnc(model,loss_fnc):\n",
    "    def validate(X,Y):\n",
    "        with torch.no_grad():\n",
    "            model.eval()\n",
    "            output_logits, output_softmax, attention_weights_norm = model(X)\n",
    "            predictions = torch.argmax(output_softmax,dim=1)\n",
    "            accuracy = torch.sum(Y==predictions)/float(len(Y))\n",
    "            loss = loss_fnc(output_logits,Y)\n",
    "        return loss.item(), accuracy*100, predictions\n",
    "    return validate"
   ]
  },
  {
   "cell_type": "markdown",
   "metadata": {},
   "source": [
    "stack data"
   ]
  },
  {
   "cell_type": "code",
   "execution_count": 14,
   "metadata": {},
   "outputs": [
    {
     "name": "stdout",
     "output_type": "stream",
     "text": [
      "Shape of data:  (4320, 1, 128, 563)\n"
     ]
    }
   ],
   "source": [
    "X = np.stack(mel_spectrograms,axis=0)\n",
    "X = np.expand_dims(X,1)\n",
    "print('Shape of data: ',X.shape)\n",
    "\n",
    "del mel_spectrograms\n",
    "del signals"
   ]
  },
  {
   "cell_type": "markdown",
   "metadata": {},
   "source": [
    "split data: (train,val,test) --> (80%,10%,10%) proportionaly for each emotion (class) "
   ]
  },
  {
   "cell_type": "code",
   "execution_count": 15,
   "metadata": {},
   "outputs": [
    {
     "name": "stdout",
     "output_type": "stream",
     "text": [
      "X_train:(3450, 1, 128, 563), Y_train:(3450,)\n",
      "X_val:(435, 1, 128, 563), Y_val:(435,)\n",
      "X_test:(435, 1, 128, 563), Y_test:(435,)\n",
      "Number of unique indexes is 4320, out of 4320\n"
     ]
    }
   ],
   "source": [
    "train_ind,test_ind,val_ind = [],[],[]\n",
    "X_train,X_val,X_test = [],[],[]\n",
    "Y_train,Y_val,Y_test = [],[],[]\n",
    "for emotion in range(len(EMOTIONS)):\n",
    "    emotion_ind = list(data.loc[data.Emotion==emotion,'Emotion'].index)\n",
    "    emotion_ind = np.random.permutation(emotion_ind)\n",
    "    m = len(emotion_ind)\n",
    "    ind_train = emotion_ind[:int(0.8*m)]\n",
    "    ind_val = emotion_ind[int(0.8*m):int(0.9*m)]\n",
    "    ind_test = emotion_ind[int(0.9*m):]\n",
    "    X_train.append(X[ind_train,:,:,:])\n",
    "    Y_train.append(np.array([emotion]*len(ind_train),dtype=np.int32))\n",
    "    X_val.append(X[ind_val,:,:,:])\n",
    "    Y_val.append(np.array([emotion]*len(ind_val),dtype=np.int32))\n",
    "    X_test.append(X[ind_test,:,:,:])\n",
    "    Y_test.append(np.array([emotion]*len(ind_test),dtype=np.int32))\n",
    "    train_ind.append(ind_train)\n",
    "    test_ind.append(ind_test)\n",
    "    val_ind.append(ind_val)\n",
    "X_train = np.concatenate(X_train,0)\n",
    "X_val = np.concatenate(X_val,0)\n",
    "X_test = np.concatenate(X_test,0)\n",
    "Y_train = np.concatenate(Y_train,0)\n",
    "Y_val = np.concatenate(Y_val,0)\n",
    "Y_test = np.concatenate(Y_test,0)\n",
    "train_ind = np.concatenate(train_ind,0)\n",
    "val_ind = np.concatenate(val_ind,0)\n",
    "test_ind = np.concatenate(test_ind,0)\n",
    "print(f'X_train:{X_train.shape}, Y_train:{Y_train.shape}')\n",
    "print(f'X_val:{X_val.shape}, Y_val:{Y_val.shape}')\n",
    "print(f'X_test:{X_test.shape}, Y_test:{Y_test.shape}')\n",
    "# check if all are unique\n",
    "unique, count = np.unique(np.concatenate([train_ind,test_ind,val_ind],0), return_counts=True)\n",
    "print(\"Number of unique indexes is {}, out of {}\".format(sum(count==1), X.shape[0]))\n",
    "\n",
    "del X"
   ]
  },
  {
   "cell_type": "markdown",
   "metadata": {},
   "source": [
    "scale data"
   ]
  },
  {
   "cell_type": "code",
   "execution_count": 16,
   "metadata": {},
   "outputs": [],
   "source": [
    "from sklearn.preprocessing import StandardScaler\n",
    "\n",
    "scaler = StandardScaler()\n",
    "\n",
    "b,c,h,w = X_train.shape\n",
    "X_train = np.reshape(X_train, newshape=(b,-1))\n",
    "X_train = scaler.fit_transform(X_train)\n",
    "X_train = np.reshape(X_train, newshape=(b,c,h,w))\n",
    "\n",
    "b,c,h,w = X_test.shape\n",
    "X_test = np.reshape(X_test, newshape=(b,-1))\n",
    "X_test = scaler.transform(X_test)\n",
    "X_test = np.reshape(X_test, newshape=(b,c,h,w))\n",
    "\n",
    "b,c,h,w = X_val.shape\n",
    "X_val = np.reshape(X_val, newshape=(b,-1))\n",
    "X_val = scaler.transform(X_val)\n",
    "X_val = np.reshape(X_val, newshape=(b,c,h,w))"
   ]
  },
  {
   "cell_type": "markdown",
   "metadata": {},
   "source": [
    "Train the model"
   ]
  },
  {
   "cell_type": "code",
   "execution_count": 17,
   "metadata": {},
   "outputs": [
    {
     "name": "stdout",
     "output_type": "stream",
     "text": [
      "Selected device is cuda\n",
      "Number of trainable params:  263593\n",
      " Epoch 0: iteration 106/107\n",
      "Epoch 0 --> loss:2.2170, acc:17.91%, val_loss:2.1269, val_acc:16.55%\n",
      " Epoch 1: iteration 106/107\n",
      "Epoch 1 --> loss:1.9574, acc:23.97%, val_loss:1.9850, val_acc:24.83%\n",
      " Epoch 2: iteration 106/107\n",
      "Epoch 2 --> loss:1.8570, acc:27.62%, val_loss:1.9118, val_acc:23.68%\n",
      " Epoch 3: iteration 106/107\n",
      "Epoch 3 --> loss:1.7737, acc:30.23%, val_loss:1.8346, val_acc:29.20%\n",
      " Epoch 4: iteration 106/107\n",
      "Epoch 4 --> loss:1.7104, acc:32.75%, val_loss:1.8245, val_acc:28.05%\n",
      " Epoch 5: iteration 106/107\n",
      "Epoch 5 --> loss:1.6629, acc:35.01%, val_loss:1.7062, val_acc:35.40%\n",
      " Epoch 6: iteration 106/107\n",
      "Epoch 6 --> loss:1.6125, acc:37.22%, val_loss:1.6474, val_acc:38.62%\n",
      " Epoch 7: iteration 106/107\n",
      "Epoch 7 --> loss:1.5647, acc:39.01%, val_loss:1.6031, val_acc:37.47%\n",
      " Epoch 8: iteration 106/107\n",
      "Epoch 8 --> loss:1.5245, acc:40.58%, val_loss:1.6161, val_acc:36.32%\n",
      " Epoch 9: iteration 106/107\n",
      "Epoch 9 --> loss:1.5022, acc:42.12%, val_loss:1.5908, val_acc:40.92%\n",
      " Epoch 10: iteration 106/107\n",
      "Epoch 10 --> loss:1.4447, acc:43.77%, val_loss:1.4829, val_acc:42.53%\n",
      " Epoch 11: iteration 106/107\n",
      "Epoch 11 --> loss:1.4244, acc:45.36%, val_loss:1.5498, val_acc:40.46%\n",
      " Epoch 12: iteration 106/107\n",
      "Epoch 12 --> loss:1.3889, acc:46.87%, val_loss:1.6129, val_acc:39.08%\n",
      " Epoch 13: iteration 106/107\n",
      "Epoch 13 --> loss:1.3376, acc:48.70%, val_loss:1.4644, val_acc:43.91%\n",
      " Epoch 14: iteration 106/107\n",
      "Epoch 14 --> loss:1.2836, acc:51.77%, val_loss:1.3885, val_acc:47.82%\n",
      " Epoch 15: iteration 106/107\n",
      "Epoch 15 --> loss:1.2593, acc:51.57%, val_loss:1.3441, val_acc:48.51%\n",
      " Epoch 16: iteration 106/107\n",
      "Epoch 16 --> loss:1.2171, acc:52.96%, val_loss:1.2872, val_acc:48.05%\n",
      " Epoch 17: iteration 106/107\n",
      "Epoch 17 --> loss:1.1872, acc:55.16%, val_loss:1.2595, val_acc:52.18%\n",
      " Epoch 18: iteration 106/107\n",
      "Epoch 18 --> loss:1.1681, acc:55.71%, val_loss:1.2212, val_acc:56.55%\n",
      " Epoch 19: iteration 106/107\n",
      "Epoch 19 --> loss:1.1236, acc:57.33%, val_loss:1.1552, val_acc:57.47%\n",
      " Epoch 20: iteration 106/107\n",
      "Epoch 20 --> loss:1.0825, acc:59.45%, val_loss:1.1798, val_acc:54.25%\n",
      " Epoch 21: iteration 106/107\n",
      "Epoch 21 --> loss:1.0584, acc:60.58%, val_loss:1.2036, val_acc:56.09%\n",
      " Epoch 22: iteration 106/107\n",
      "Epoch 22 --> loss:1.0050, acc:62.93%, val_loss:1.0641, val_acc:59.08%\n",
      " Epoch 23: iteration 106/107\n",
      "Epoch 23 --> loss:0.9949, acc:62.09%, val_loss:1.0289, val_acc:63.45%\n",
      " Epoch 24: iteration 106/107\n",
      "Epoch 24 --> loss:0.9383, acc:64.93%, val_loss:1.0848, val_acc:60.00%\n",
      " Epoch 25: iteration 106/107\n",
      "Epoch 25 --> loss:0.8916, acc:67.30%, val_loss:1.0051, val_acc:61.38%\n",
      " Epoch 26: iteration 106/107\n",
      "Epoch 26 --> loss:0.8833, acc:67.83%, val_loss:1.0325, val_acc:62.07%\n",
      " Epoch 27: iteration 106/107\n",
      "Epoch 27 --> loss:0.8466, acc:68.64%, val_loss:0.9729, val_acc:65.98%\n",
      " Epoch 28: iteration 106/107\n",
      "Epoch 28 --> loss:0.8305, acc:69.88%, val_loss:0.9521, val_acc:63.68%\n",
      " Epoch 29: iteration 106/107\n",
      "Epoch 29 --> loss:0.7815, acc:71.33%, val_loss:0.9304, val_acc:67.13%\n",
      " Epoch 30: iteration 106/107\n",
      "Epoch 30 --> loss:0.7597, acc:72.20%, val_loss:0.8905, val_acc:66.90%\n",
      " Epoch 31: iteration 106/107\n",
      "Epoch 31 --> loss:0.7191, acc:73.74%, val_loss:0.9211, val_acc:64.83%\n",
      " Epoch 32: iteration 106/107\n",
      "Epoch 32 --> loss:0.7269, acc:73.30%, val_loss:0.8619, val_acc:69.66%\n",
      " Epoch 33: iteration 106/107\n",
      "Epoch 33 --> loss:0.6640, acc:76.41%, val_loss:0.7765, val_acc:71.03%\n",
      " Epoch 34: iteration 106/107\n",
      "Epoch 34 --> loss:0.6453, acc:76.49%, val_loss:0.8902, val_acc:66.21%\n",
      " Epoch 35: iteration 106/107\n",
      "Epoch 35 --> loss:0.6349, acc:76.72%, val_loss:0.7041, val_acc:75.40%\n",
      " Epoch 36: iteration 106/107\n",
      "Epoch 36 --> loss:0.6138, acc:77.65%, val_loss:0.7873, val_acc:69.89%\n",
      " Epoch 37: iteration 106/107\n",
      "Epoch 37 --> loss:0.5936, acc:77.88%, val_loss:0.7562, val_acc:74.48%\n",
      " Epoch 38: iteration 106/107\n",
      "Epoch 38 --> loss:0.5729, acc:79.10%, val_loss:0.9005, val_acc:66.90%\n",
      " Epoch 39: iteration 106/107\n",
      "Epoch 39 --> loss:0.5333, acc:80.55%, val_loss:0.7128, val_acc:74.02%\n",
      " Epoch 40: iteration 106/107\n",
      "Epoch 40 --> loss:0.5589, acc:80.09%, val_loss:0.6957, val_acc:73.33%\n",
      " Epoch 41: iteration 106/107\n",
      "Epoch 41 --> loss:0.5135, acc:81.80%, val_loss:0.6374, val_acc:77.93%\n",
      " Epoch 42: iteration 106/107\n",
      "Epoch 42 --> loss:0.4691, acc:83.30%, val_loss:0.6470, val_acc:77.93%\n",
      " Epoch 43: iteration 106/107\n",
      "Epoch 43 --> loss:0.4717, acc:83.04%, val_loss:0.7439, val_acc:74.02%\n",
      " Epoch 44: iteration 106/107\n",
      "Epoch 44 --> loss:0.4288, acc:84.38%, val_loss:0.6116, val_acc:77.01%\n",
      " Epoch 45: iteration 106/107\n",
      "Epoch 45 --> loss:0.3989, acc:86.03%, val_loss:0.5717, val_acc:80.92%\n",
      " Epoch 46: iteration 106/107\n",
      "Epoch 46 --> loss:0.3877, acc:86.78%, val_loss:0.6173, val_acc:79.77%\n",
      " Epoch 47: iteration 106/107\n",
      "Epoch 47 --> loss:0.3825, acc:87.07%, val_loss:0.4887, val_acc:82.53%\n",
      " Epoch 48: iteration 106/107\n",
      "Epoch 48 --> loss:0.3784, acc:86.55%, val_loss:0.5784, val_acc:79.08%\n",
      " Epoch 49: iteration 106/107\n",
      "Epoch 49 --> loss:0.3555, acc:87.74%, val_loss:0.5082, val_acc:80.69%\n",
      " Epoch 50: iteration 106/107\n",
      "Epoch 50 --> loss:0.3390, acc:87.97%, val_loss:0.4739, val_acc:83.91%\n",
      " Epoch 51: iteration 106/107\n",
      "Epoch 51 --> loss:0.3047, acc:89.77%, val_loss:0.4987, val_acc:82.99%\n",
      " Epoch 52: iteration 106/107\n",
      "Epoch 52 --> loss:0.3327, acc:88.61%, val_loss:0.5142, val_acc:81.61%\n",
      " Epoch 53: iteration 106/107\n",
      "Epoch 53 --> loss:0.2914, acc:90.17%, val_loss:0.4850, val_acc:83.68%\n",
      " Epoch 54: iteration 106/107\n",
      "Epoch 54 --> loss:0.2864, acc:90.09%, val_loss:0.4587, val_acc:84.83%\n",
      " Epoch 55: iteration 106/107\n",
      "Epoch 55 --> loss:0.2698, acc:90.14%, val_loss:0.4122, val_acc:86.44%\n",
      " Epoch 56: iteration 106/107\n",
      "Epoch 56 --> loss:0.2744, acc:90.61%, val_loss:0.4424, val_acc:84.14%\n",
      " Epoch 57: iteration 106/107\n",
      "Epoch 57 --> loss:0.2628, acc:90.72%, val_loss:0.4577, val_acc:82.76%\n",
      " Epoch 58: iteration 106/107\n",
      "Epoch 58 --> loss:0.2414, acc:91.94%, val_loss:0.4196, val_acc:84.60%\n",
      " Epoch 59: iteration 106/107\n",
      "Epoch 59 --> loss:0.2312, acc:92.23%, val_loss:0.3634, val_acc:85.06%\n",
      " Epoch 60: iteration 106/107\n",
      "Epoch 60 --> loss:0.1980, acc:93.57%, val_loss:0.3667, val_acc:88.05%\n",
      " Epoch 61: iteration 106/107\n",
      "Epoch 61 --> loss:0.2006, acc:93.10%, val_loss:0.3135, val_acc:90.11%\n",
      " Epoch 62: iteration 106/107\n",
      "Epoch 62 --> loss:0.2229, acc:92.20%, val_loss:0.5373, val_acc:82.30%\n",
      " Epoch 63: iteration 106/107\n",
      "Epoch 63 --> loss:0.2222, acc:92.61%, val_loss:0.3829, val_acc:85.75%\n",
      " Epoch 64: iteration 106/107\n",
      "Epoch 64 --> loss:0.1841, acc:94.00%, val_loss:0.3110, val_acc:89.20%\n",
      " Epoch 65: iteration 106/107\n",
      "Epoch 65 --> loss:0.2315, acc:92.06%, val_loss:0.3185, val_acc:88.51%\n",
      " Epoch 66: iteration 106/107\n",
      "Epoch 66 --> loss:0.1762, acc:94.23%, val_loss:0.3040, val_acc:89.66%\n",
      " Epoch 67: iteration 106/107\n",
      "Epoch 67 --> loss:0.1434, acc:95.51%, val_loss:0.2708, val_acc:91.03%\n",
      " Epoch 68: iteration 106/107\n",
      "Epoch 68 --> loss:0.1175, acc:96.20%, val_loss:0.2669, val_acc:90.80%\n",
      " Epoch 69: iteration 106/107\n",
      "Epoch 69 --> loss:0.1316, acc:95.57%, val_loss:0.2622, val_acc:93.10%\n",
      " Epoch 70: iteration 106/107\n",
      "Epoch 70 --> loss:0.2193, acc:92.03%, val_loss:0.3422, val_acc:88.05%\n",
      " Epoch 71: iteration 106/107\n",
      "Epoch 71 --> loss:0.1711, acc:94.49%, val_loss:0.3195, val_acc:89.20%\n",
      " Epoch 72: iteration 106/107\n",
      "Epoch 72 --> loss:0.1315, acc:95.86%, val_loss:0.3158, val_acc:88.05%\n",
      " Epoch 73: iteration 106/107\n",
      "Epoch 73 --> loss:0.1470, acc:94.81%, val_loss:0.2895, val_acc:91.03%\n",
      " Epoch 74: iteration 106/107\n",
      "Epoch 74 --> loss:0.1738, acc:94.06%, val_loss:0.3812, val_acc:85.98%\n",
      " Epoch 75: iteration 106/107\n",
      "Epoch 75 --> loss:0.1917, acc:93.07%, val_loss:0.3320, val_acc:89.43%\n",
      " Epoch 76: iteration 106/107\n",
      "Epoch 76 --> loss:0.1500, acc:95.13%, val_loss:0.2584, val_acc:91.26%\n",
      " Epoch 77: iteration 106/107\n",
      "Epoch 77 --> loss:0.1301, acc:95.62%, val_loss:0.2815, val_acc:90.57%\n",
      " Epoch 78: iteration 106/107\n",
      "Epoch 78 --> loss:0.0938, acc:97.01%, val_loss:0.2288, val_acc:91.95%\n",
      " Epoch 79: iteration 106/107\n",
      "Epoch 79 --> loss:0.0878, acc:97.16%, val_loss:0.2343, val_acc:92.41%\n",
      " Epoch 80: iteration 106/107\n",
      "Epoch 80 --> loss:0.0751, acc:97.88%, val_loss:0.2644, val_acc:91.03%\n",
      " Epoch 81: iteration 106/107\n",
      "Epoch 81 --> loss:0.0882, acc:97.10%, val_loss:0.2583, val_acc:91.03%\n",
      " Epoch 82: iteration 106/107\n",
      "Epoch 82 --> loss:0.0857, acc:97.42%, val_loss:0.3173, val_acc:90.11%\n"
     ]
    },
    {
     "name": "stdout",
     "output_type": "stream",
     "text": [
      " Epoch 83: iteration 106/107\n",
      "Epoch 83 --> loss:0.1412, acc:95.22%, val_loss:0.5202, val_acc:82.53%\n",
      " Epoch 84: iteration 106/107\n",
      "Epoch 84 --> loss:0.2658, acc:90.46%, val_loss:0.2694, val_acc:92.18%\n",
      " Epoch 85: iteration 106/107\n",
      "Epoch 85 --> loss:0.1279, acc:95.77%, val_loss:0.2264, val_acc:91.49%\n",
      " Epoch 86: iteration 106/107\n",
      "Epoch 86 --> loss:0.0858, acc:97.39%, val_loss:0.2927, val_acc:90.11%\n",
      " Epoch 87: iteration 106/107\n",
      "Epoch 87 --> loss:0.0711, acc:97.88%, val_loss:0.2382, val_acc:91.72%\n",
      " Epoch 88: iteration 106/107\n",
      "Epoch 88 --> loss:0.0756, acc:97.77%, val_loss:0.2335, val_acc:91.26%\n",
      " Epoch 89: iteration 106/107\n",
      "Epoch 89 --> loss:0.0719, acc:97.65%, val_loss:0.2840, val_acc:91.26%\n",
      " Epoch 90: iteration 106/107\n",
      "Epoch 90 --> loss:0.1120, acc:96.23%, val_loss:0.2271, val_acc:91.49%\n",
      " Epoch 91: iteration 106/107\n",
      "Epoch 91 --> loss:0.1671, acc:94.23%, val_loss:0.4024, val_acc:85.52%\n",
      " Epoch 92: iteration 106/107\n",
      "Epoch 92 --> loss:0.1667, acc:94.23%, val_loss:0.2829, val_acc:89.89%\n",
      " Epoch 93: iteration 106/107\n",
      "Epoch 93 --> loss:0.0879, acc:97.25%, val_loss:0.2808, val_acc:91.49%\n",
      " Epoch 94: iteration 106/107\n",
      "Epoch 94 --> loss:0.0664, acc:98.14%, val_loss:0.2538, val_acc:92.64%\n",
      " Epoch 95: iteration 106/107\n",
      "Epoch 95 --> loss:0.0523, acc:98.52%, val_loss:0.2070, val_acc:93.79%\n",
      " Epoch 96: iteration 106/107\n",
      "Epoch 96 --> loss:0.0438, acc:98.61%, val_loss:0.2169, val_acc:94.48%\n",
      " Epoch 97: iteration 106/107\n",
      "Epoch 97 --> loss:0.0526, acc:98.29%, val_loss:0.1853, val_acc:94.48%\n",
      " Epoch 98: iteration 106/107\n",
      "Epoch 98 --> loss:0.0383, acc:98.84%, val_loss:0.1975, val_acc:94.02%\n",
      " Epoch 99: iteration 106/107\n",
      "Epoch 99 --> loss:0.0836, acc:96.90%, val_loss:0.3214, val_acc:89.20%\n",
      " Epoch 100: iteration 106/107\n",
      "Epoch 100 --> loss:0.0820, acc:97.36%, val_loss:0.2616, val_acc:92.41%\n",
      " Epoch 101: iteration 106/107\n",
      "Epoch 101 --> loss:0.0716, acc:97.57%, val_loss:0.3184, val_acc:90.57%\n",
      " Epoch 102: iteration 106/107\n",
      "Epoch 102 --> loss:0.1374, acc:95.07%, val_loss:0.2500, val_acc:92.18%\n",
      " Epoch 103: iteration 106/107\n",
      "Epoch 103 --> loss:0.0771, acc:97.36%, val_loss:0.3022, val_acc:90.57%\n",
      " Epoch 104: iteration 106/107\n",
      "Epoch 104 --> loss:0.0737, acc:97.54%, val_loss:0.2460, val_acc:90.34%\n",
      " Epoch 105: iteration 106/107\n",
      "Epoch 105 --> loss:0.0610, acc:97.88%, val_loss:0.2036, val_acc:94.02%\n",
      " Epoch 106: iteration 106/107\n",
      "Epoch 106 --> loss:0.0409, acc:98.61%, val_loss:0.2030, val_acc:92.64%\n",
      " Epoch 107: iteration 106/107\n",
      "Epoch 107 --> loss:0.0310, acc:99.04%, val_loss:0.1906, val_acc:94.25%\n",
      " Epoch 108: iteration 106/107\n",
      "Epoch 108 --> loss:0.0270, acc:99.01%, val_loss:0.1930, val_acc:94.25%\n",
      " Epoch 109: iteration 106/107\n",
      "Epoch 109 --> loss:0.0255, acc:99.07%, val_loss:0.1875, val_acc:94.48%\n",
      " Epoch 110: iteration 106/107\n",
      "Epoch 110 --> loss:0.0269, acc:99.07%, val_loss:0.1967, val_acc:94.02%\n",
      " Epoch 111: iteration 106/107\n",
      "Epoch 111 --> loss:0.0408, acc:98.52%, val_loss:0.3505, val_acc:89.89%\n",
      " Epoch 112: iteration 106/107\n",
      "Epoch 112 --> loss:0.0441, acc:98.58%, val_loss:0.1827, val_acc:93.79%\n",
      " Epoch 113: iteration 106/107\n",
      "Epoch 113 --> loss:0.0301, acc:98.99%, val_loss:0.1842, val_acc:94.25%\n",
      " Epoch 114: iteration 106/107\n",
      "Epoch 114 --> loss:0.0251, acc:99.04%, val_loss:0.2027, val_acc:94.25%\n",
      " Epoch 115: iteration 106/107\n",
      "Epoch 115 --> loss:0.0262, acc:99.10%, val_loss:0.1728, val_acc:94.48%\n",
      " Epoch 116: iteration 106/107\n",
      "Epoch 116 --> loss:0.0216, acc:99.13%, val_loss:0.1659, val_acc:94.02%\n",
      " Epoch 117: iteration 106/107\n",
      "Epoch 117 --> loss:0.0262, acc:99.16%, val_loss:0.1976, val_acc:93.79%\n",
      " Epoch 118: iteration 106/107\n",
      "Epoch 118 --> loss:0.0418, acc:98.49%, val_loss:0.1935, val_acc:93.79%\n",
      " Epoch 119: iteration 106/107\n",
      "Epoch 119 --> loss:0.0390, acc:98.64%, val_loss:0.2279, val_acc:93.10%\n",
      " Epoch 120: iteration 106/107\n",
      "Epoch 120 --> loss:0.0250, acc:98.96%, val_loss:0.1861, val_acc:93.10%\n",
      " Epoch 121: iteration 106/107\n",
      "Epoch 121 --> loss:0.0230, acc:99.10%, val_loss:0.2257, val_acc:94.02%\n",
      " Epoch 122: iteration 106/107\n",
      "Epoch 122 --> loss:0.0226, acc:99.04%, val_loss:0.1987, val_acc:94.71%\n",
      " Epoch 123: iteration 106/107\n",
      "Epoch 123 --> loss:0.1015, acc:96.41%, val_loss:0.2025, val_acc:92.87%\n",
      " Epoch 124: iteration 106/107\n",
      "Epoch 124 --> loss:0.0772, acc:97.22%, val_loss:0.4324, val_acc:84.60%\n",
      " Epoch 125: iteration 106/107\n",
      "Epoch 125 --> loss:0.2190, acc:92.35%, val_loss:0.4183, val_acc:85.98%\n",
      " Epoch 126: iteration 106/107\n",
      "Epoch 126 --> loss:0.1483, acc:94.87%, val_loss:0.2274, val_acc:93.56%\n",
      " Epoch 127: iteration 106/107\n",
      "Epoch 127 --> loss:0.0851, acc:97.33%, val_loss:0.2338, val_acc:92.64%\n",
      " Epoch 128: iteration 106/107\n",
      "Epoch 128 --> loss:0.0395, acc:98.75%, val_loss:0.1785, val_acc:95.17%\n",
      " Epoch 129: iteration 106/107\n",
      "Epoch 129 --> loss:0.0644, acc:97.51%, val_loss:0.2084, val_acc:94.25%\n",
      " Epoch 130: iteration 88/107"
     ]
    },
    {
     "ename": "KeyboardInterrupt",
     "evalue": "",
     "output_type": "error",
     "traceback": [
      "\u001b[0;31m---------------------------------------------------------------------------\u001b[0m",
      "\u001b[0;31mKeyboardInterrupt\u001b[0m                         Traceback (most recent call last)",
      "\u001b[0;32m<ipython-input-17-5cbcdfeb6fee>\u001b[0m in \u001b[0;36m<module>\u001b[0;34m\u001b[0m\n\u001b[1;32m     28\u001b[0m         \u001b[0mX_tensor\u001b[0m \u001b[0;34m=\u001b[0m \u001b[0mtorch\u001b[0m\u001b[0;34m.\u001b[0m\u001b[0mtensor\u001b[0m\u001b[0;34m(\u001b[0m\u001b[0mX\u001b[0m\u001b[0;34m,\u001b[0m\u001b[0mdevice\u001b[0m\u001b[0;34m=\u001b[0m\u001b[0mdevice\u001b[0m\u001b[0;34m)\u001b[0m\u001b[0;34m.\u001b[0m\u001b[0mfloat\u001b[0m\u001b[0;34m(\u001b[0m\u001b[0;34m)\u001b[0m\u001b[0;34m\u001b[0m\u001b[0;34m\u001b[0m\u001b[0m\n\u001b[1;32m     29\u001b[0m         \u001b[0mY_tensor\u001b[0m \u001b[0;34m=\u001b[0m \u001b[0mtorch\u001b[0m\u001b[0;34m.\u001b[0m\u001b[0mtensor\u001b[0m\u001b[0;34m(\u001b[0m\u001b[0mY\u001b[0m\u001b[0;34m,\u001b[0m \u001b[0mdtype\u001b[0m\u001b[0;34m=\u001b[0m\u001b[0mtorch\u001b[0m\u001b[0;34m.\u001b[0m\u001b[0mlong\u001b[0m\u001b[0;34m,\u001b[0m\u001b[0mdevice\u001b[0m\u001b[0;34m=\u001b[0m\u001b[0mdevice\u001b[0m\u001b[0;34m)\u001b[0m\u001b[0;34m\u001b[0m\u001b[0;34m\u001b[0m\u001b[0m\n\u001b[0;32m---> 30\u001b[0;31m         \u001b[0mloss\u001b[0m\u001b[0;34m,\u001b[0m \u001b[0macc\u001b[0m \u001b[0;34m=\u001b[0m \u001b[0mtrain_step\u001b[0m\u001b[0;34m(\u001b[0m\u001b[0mX_tensor\u001b[0m\u001b[0;34m,\u001b[0m\u001b[0mY_tensor\u001b[0m\u001b[0;34m)\u001b[0m\u001b[0;34m\u001b[0m\u001b[0;34m\u001b[0m\u001b[0m\n\u001b[0m\u001b[1;32m     31\u001b[0m         \u001b[0mepoch_acc\u001b[0m \u001b[0;34m+=\u001b[0m \u001b[0macc\u001b[0m\u001b[0;34m*\u001b[0m\u001b[0mactual_batch_size\u001b[0m\u001b[0;34m/\u001b[0m\u001b[0mDATASET_SIZE\u001b[0m\u001b[0;34m\u001b[0m\u001b[0;34m\u001b[0m\u001b[0m\n\u001b[1;32m     32\u001b[0m         \u001b[0mepoch_loss\u001b[0m \u001b[0;34m+=\u001b[0m \u001b[0mloss\u001b[0m\u001b[0;34m*\u001b[0m\u001b[0mactual_batch_size\u001b[0m\u001b[0;34m/\u001b[0m\u001b[0mDATASET_SIZE\u001b[0m\u001b[0;34m\u001b[0m\u001b[0;34m\u001b[0m\u001b[0m\n",
      "\u001b[0;32m<ipython-input-12-c77b773c0930>\u001b[0m in \u001b[0;36mtrain_step\u001b[0;34m(X, Y)\u001b[0m\n\u001b[1;32m     13\u001b[0m         \u001b[0;31m# update parameters and zero gradients\u001b[0m\u001b[0;34m\u001b[0m\u001b[0;34m\u001b[0m\u001b[0;34m\u001b[0m\u001b[0m\n\u001b[1;32m     14\u001b[0m         \u001b[0moptimizer\u001b[0m\u001b[0;34m.\u001b[0m\u001b[0mstep\u001b[0m\u001b[0;34m(\u001b[0m\u001b[0;34m)\u001b[0m\u001b[0;34m\u001b[0m\u001b[0;34m\u001b[0m\u001b[0m\n\u001b[0;32m---> 15\u001b[0;31m         \u001b[0moptimizer\u001b[0m\u001b[0;34m.\u001b[0m\u001b[0mzero_grad\u001b[0m\u001b[0;34m(\u001b[0m\u001b[0;34m)\u001b[0m\u001b[0;34m\u001b[0m\u001b[0;34m\u001b[0m\u001b[0m\n\u001b[0m\u001b[1;32m     16\u001b[0m         \u001b[0;32mreturn\u001b[0m \u001b[0mloss\u001b[0m\u001b[0;34m.\u001b[0m\u001b[0mitem\u001b[0m\u001b[0;34m(\u001b[0m\u001b[0;34m)\u001b[0m\u001b[0;34m,\u001b[0m \u001b[0maccuracy\u001b[0m\u001b[0;34m*\u001b[0m\u001b[0;36m100\u001b[0m\u001b[0;34m\u001b[0m\u001b[0;34m\u001b[0m\u001b[0m\n\u001b[1;32m     17\u001b[0m     \u001b[0;32mreturn\u001b[0m \u001b[0mtrain_step\u001b[0m\u001b[0;34m\u001b[0m\u001b[0;34m\u001b[0m\u001b[0m\n",
      "\u001b[0;32m/opt/conda/lib/python3.7/site-packages/torch/optim/optimizer.py\u001b[0m in \u001b[0;36mzero_grad\u001b[0;34m(self)\u001b[0m\n\u001b[1;32m    163\u001b[0m                 \u001b[0;32mif\u001b[0m \u001b[0mp\u001b[0m\u001b[0;34m.\u001b[0m\u001b[0mgrad\u001b[0m \u001b[0;32mis\u001b[0m \u001b[0;32mnot\u001b[0m \u001b[0;32mNone\u001b[0m\u001b[0;34m:\u001b[0m\u001b[0;34m\u001b[0m\u001b[0;34m\u001b[0m\u001b[0m\n\u001b[1;32m    164\u001b[0m                     \u001b[0mp\u001b[0m\u001b[0;34m.\u001b[0m\u001b[0mgrad\u001b[0m\u001b[0;34m.\u001b[0m\u001b[0mdetach_\u001b[0m\u001b[0;34m(\u001b[0m\u001b[0;34m)\u001b[0m\u001b[0;34m\u001b[0m\u001b[0;34m\u001b[0m\u001b[0m\n\u001b[0;32m--> 165\u001b[0;31m                     \u001b[0mp\u001b[0m\u001b[0;34m.\u001b[0m\u001b[0mgrad\u001b[0m\u001b[0;34m.\u001b[0m\u001b[0mzero_\u001b[0m\u001b[0;34m(\u001b[0m\u001b[0;34m)\u001b[0m\u001b[0;34m\u001b[0m\u001b[0;34m\u001b[0m\u001b[0m\n\u001b[0m\u001b[1;32m    166\u001b[0m \u001b[0;34m\u001b[0m\u001b[0m\n\u001b[1;32m    167\u001b[0m     \u001b[0;32mdef\u001b[0m \u001b[0mstep\u001b[0m\u001b[0;34m(\u001b[0m\u001b[0mself\u001b[0m\u001b[0;34m,\u001b[0m \u001b[0mclosure\u001b[0m\u001b[0;34m)\u001b[0m\u001b[0;34m:\u001b[0m\u001b[0;34m\u001b[0m\u001b[0;34m\u001b[0m\u001b[0m\n",
      "\u001b[0;31mKeyboardInterrupt\u001b[0m: "
     ]
    }
   ],
   "source": [
    "EPOCHS=1500\n",
    "DATASET_SIZE = X_train.shape[0]\n",
    "BATCH_SIZE = 32\n",
    "device = 'cuda' if torch.cuda.is_available() else 'cpu'\n",
    "print('Selected device is {}'.format(device))\n",
    "model = ParallelModel(num_emotions=len(EMOTIONS)).to(device)\n",
    "print('Number of trainable params: ',sum(p.numel() for p in model.parameters()) )\n",
    "OPTIMIZER = torch.optim.SGD(model.parameters(),lr=0.01, weight_decay=1e-3, momentum=0.8)\n",
    "\n",
    "train_step = make_train_step(model, loss_fnc, optimizer=OPTIMIZER)\n",
    "validate = make_validate_fnc(model,loss_fnc)\n",
    "losses=[]\n",
    "val_losses = []\n",
    "for epoch in range(EPOCHS):\n",
    "    # schuffle data\n",
    "    ind = np.random.permutation(DATASET_SIZE)\n",
    "    X_train = X_train[ind,:,:,:]\n",
    "    Y_train = Y_train[ind]\n",
    "    epoch_acc = 0\n",
    "    epoch_loss = 0\n",
    "    iters = int(DATASET_SIZE / BATCH_SIZE)\n",
    "    for i in range(iters):\n",
    "        batch_start = i * BATCH_SIZE\n",
    "        batch_end = min(batch_start + BATCH_SIZE, DATASET_SIZE)\n",
    "        actual_batch_size = batch_end-batch_start\n",
    "        X = X_train[batch_start:batch_end,:,:,:]\n",
    "        Y = Y_train[batch_start:batch_end]\n",
    "        X_tensor = torch.tensor(X,device=device).float()\n",
    "        Y_tensor = torch.tensor(Y, dtype=torch.long,device=device)\n",
    "        loss, acc = train_step(X_tensor,Y_tensor)\n",
    "        epoch_acc += acc*actual_batch_size/DATASET_SIZE\n",
    "        epoch_loss += loss*actual_batch_size/DATASET_SIZE\n",
    "        print(f\"\\r Epoch {epoch}: iteration {i}/{iters}\",end='')\n",
    "    X_val_tensor = torch.tensor(X_val,device=device).float()\n",
    "    Y_val_tensor = torch.tensor(Y_val,dtype=torch.long,device=device)\n",
    "    val_loss, val_acc, _ = validate(X_val_tensor,Y_val_tensor)\n",
    "    losses.append(epoch_loss)\n",
    "    val_losses.append(val_loss)\n",
    "    print('')\n",
    "    print(f\"Epoch {epoch} --> loss:{epoch_loss:.4f}, acc:{epoch_acc:.2f}%, val_loss:{val_loss:.4f}, val_acc:{val_acc:.2f}%\")\n",
    "    "
   ]
  },
  {
   "cell_type": "markdown",
   "metadata": {},
   "source": [
    "# Save model"
   ]
  },
  {
   "cell_type": "code",
   "execution_count": 18,
   "metadata": {},
   "outputs": [
    {
     "name": "stdout",
     "output_type": "stream",
     "text": [
      "Model is saved to /kaggle/working/models/cnn_lstm_parallel_model.pt\n"
     ]
    }
   ],
   "source": [
    "SAVE_PATH = os.path.join(os.getcwd(),'models')\n",
    "os.makedirs('models',exist_ok=True)\n",
    "torch.save(model.state_dict(),os.path.join(SAVE_PATH,'cnn_lstm_parallel_model.pt'))\n",
    "print('Model is saved to {}'.format(os.path.join(SAVE_PATH,'cnn_lstm_parallel_model.pt')))"
   ]
  },
  {
   "cell_type": "markdown",
   "metadata": {},
   "source": [
    "# Load model"
   ]
  },
  {
   "cell_type": "code",
   "execution_count": null,
   "metadata": {},
   "outputs": [],
   "source": [
    "LOAD_PATH = os.path.join(os.getcwd(),'models')\n",
    "model = ParallelModel(len(EMOTIONS))\n",
    "model.load_state_dict(torch.load(os.path.join(LOAD_PATH,'cnn_lstm_parallel_model.pt')))\n",
    "print('Model is loaded from {}'.format(os.path.join(LOAD_PATH,'cnn_lstm_parallel_model.pt')))"
   ]
  },
  {
   "cell_type": "markdown",
   "metadata": {},
   "source": [
    "# Test"
   ]
  },
  {
   "cell_type": "code",
   "execution_count": 20,
   "metadata": {},
   "outputs": [
    {
     "name": "stdout",
     "output_type": "stream",
     "text": [
      "Test loss is 0.181\n",
      "Test accuracy is 95.40%\n"
     ]
    }
   ],
   "source": [
    "X_test_tensor = torch.tensor(X_test,device=device).float()\n",
    "Y_test_tensor = torch.tensor(Y_test,dtype=torch.long,device=device)\n",
    "test_loss, test_acc, predictions = validate(X_test_tensor,Y_test_tensor)\n",
    "print(f'Test loss is {test_loss:.3f}')\n",
    "print(f'Test accuracy is {test_acc:.2f}%')"
   ]
  },
  {
   "cell_type": "markdown",
   "metadata": {},
   "source": [
    "confusion matrix"
   ]
  },
  {
   "cell_type": "code",
   "execution_count": 21,
   "metadata": {},
   "outputs": [
    {
     "data": {
      "image/png": "[encoded data removed]",
      "text/plain": [
       "<Figure size 432x288 with 2 Axes>"
      ]
     },
     "metadata": {},
     "output_type": "display_data"
    }
   ],
   "source": [
    "from sklearn.metrics import confusion_matrix\n",
    "import seaborn as sn\n",
    "\n",
    "predictions = predictions.cpu().numpy()\n",
    "cm = confusion_matrix(Y_test, predictions)\n",
    "names = [EMOTIONS[ind] for ind in range(len(EMOTIONS))]\n",
    "df_cm = pd.DataFrame(cm, index=names, columns=names)\n",
    "# plt.figure(figsize=(10,7))\n",
    "sn.set(font_scale=1.4) # for label size\n",
    "sn.heatmap(df_cm, annot=True, annot_kws={\"size\": 16}) # font size\n",
    "plt.show()"
   ]
  },
  {
   "cell_type": "markdown",
   "metadata": {},
   "source": [
    "correlation between emotion intensity and corectness"
   ]
  },
  {
   "cell_type": "code",
   "execution_count": 22,
   "metadata": {},
   "outputs": [
    {
     "data": {
      "image/png": "[encoded data removed]",
      "text/plain": [
       "<Figure size 432x288 with 2 Axes>"
      ]
     },
     "metadata": {},
     "output_type": "display_data"
    }
   ],
   "source": [
    "correct_strong = 0\n",
    "correct_normal = 0\n",
    "wrong_strong = 0\n",
    "wrong_normal = 0\n",
    "for i in range(len(X_test)):\n",
    "    intensity = data.loc[test_ind[i],'Emotion intensity']\n",
    "    if Y_test[i] == predictions[i]: # correct prediction\n",
    "        if  intensity == 'normal':\n",
    "            correct_normal += 1\n",
    "        else:\n",
    "            correct_strong += 1\n",
    "    else: # wrong prediction\n",
    "        if intensity == 'normal':\n",
    "            wrong_normal += 1\n",
    "        else:\n",
    "            wrong_strong += 1\n",
    "array = np.array([[wrong_normal,wrong_strong],[correct_normal,correct_strong]])\n",
    "df = pd.DataFrame(array,['wrong','correct'],['normal','strong'])\n",
    "sn.set(font_scale=1.4) # for label size\n",
    "sn.heatmap(df, annot=True, annot_kws={\"size\": 16}) # font size\n",
    "plt.show()"
   ]
  },
  {
   "cell_type": "markdown",
   "metadata": {},
   "source": [
    "correlation between gender and corectness"
   ]
  },
  {
   "cell_type": "code",
   "execution_count": 23,
   "metadata": {},
   "outputs": [
    {
     "data": {
      "image/png": "[encoded data removed]",
      "text/plain": [
       "<Figure size 432x288 with 2 Axes>"
      ]
     },
     "metadata": {},
     "output_type": "display_data"
    }
   ],
   "source": [
    "correct_male = 0\n",
    "correct_female = 0\n",
    "wrong_male = 0\n",
    "wrong_female = 0\n",
    "for i in range(len(X_test)):\n",
    "    gender = data.loc[test_ind[i],'Gender']\n",
    "    if Y_test[i] == predictions[i]: # correct prediction\n",
    "        if  gender == 'male':\n",
    "            correct_male += 1\n",
    "        else:\n",
    "            correct_female += 1\n",
    "    else: # wrong prediction\n",
    "        if gender == 'male':\n",
    "            wrong_male += 1\n",
    "        else:\n",
    "            wrong_female += 1\n",
    "array = np.array([[wrong_male,wrong_female],[correct_male,correct_female]])\n",
    "df = pd.DataFrame(array,['wrong','correct'],['male','female'])\n",
    "sn.set(font_scale=1.4) # for label size\n",
    "sn.heatmap(df, annot=True, annot_kws={\"size\": 16}) # font size\n",
    "plt.show()"
   ]
  },
  {
   "cell_type": "markdown",
   "metadata": {},
   "source": [
    "# Plot loss"
   ]
  },
  {
   "cell_type": "code",
   "execution_count": 24,
   "metadata": {},
   "outputs": [
    {
     "data": {
      "text/plain": [
       "<matplotlib.legend.Legend at 0x7ff37721edd0>"
      ]
     },
     "execution_count": 24,
     "metadata": {},
     "output_type": "execute_result"
    },
    {
     "data": {
      "image/png": "[encoded data removed]",
      "text/plain": [
       "<Figure size 432x288 with 1 Axes>"
      ]
     },
     "metadata": {},
     "output_type": "display_data"
    }
   ],
   "source": [
    "plt.plot(losses,'b')\n",
    "plt.plot(val_losses,'r')\n",
    "plt.legend(['train loss','val loss'])"
   ]
  }
 ],
 "metadata": {
  "kernelspec": {
   "display_name": "Python 3",
   "language": "python",
   "name": "python3"
  },
  "language_info": {
   "codemirror_mode": {
    "name": "ipython",
    "version": 3
   },
   "file_extension": ".py",
   "mimetype": "text/x-python",
   "name": "python",
   "nbconvert_exporter": "python",
   "pygments_lexer": "ipython3",
   "version": "3.7.4"
  }
 },
 "nbformat": 4,
 "nbformat_minor": 4
}
